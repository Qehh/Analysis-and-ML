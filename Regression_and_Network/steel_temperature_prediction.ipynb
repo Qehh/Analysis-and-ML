{
 "cells": [
  {
   "cell_type": "markdown",
   "metadata": {
    "id": "NxdKcRKxUI_2"
   },
   "source": [
    "# Предсказание температуры стали"
   ]
  },
  {
   "cell_type": "markdown",
   "metadata": {
    "id": "7c5RAxqEUI_2"
   },
   "source": [
    "Чтобы оптимизировать производственные расходы, металлургический комбинат ООО «Так закаляем сталь» решил уменьшить потребление электроэнергии на этапе обработки стали. В данной работе будет построена модель, которая предскажет температуру стали."
   ]
  },
  {
   "cell_type": "markdown",
   "metadata": {
    "id": "E4_pFxv5UI_2"
   },
   "source": [
    "## 0. Импорт библиотек"
   ]
  },
  {
   "cell_type": "code",
   "execution_count": 1,
   "metadata": {
    "id": "vVwnTcSqUI_2"
   },
   "outputs": [],
   "source": [
    "import pandas as pd\n",
    "import numpy as np\n",
    "from matplotlib import pyplot as plt\n",
    "import seaborn as sns\n",
    "from sklearn.model_selection import train_test_split\n",
    "from sklearn.metrics import mean_absolute_error\n",
    "from sklearn.metrics import make_scorer\n",
    "from sklearn.ensemble import RandomForestRegressor\n",
    "from sklearn.model_selection import GridSearchCV\n",
    "from catboost import CatBoostRegressor, Pool\n",
    "import lightgbm as lgb\n",
    "from tensorflow import keras\n",
    "from keras.models import Sequential\n",
    "from keras.layers import Dense"
   ]
  },
  {
   "cell_type": "markdown",
   "metadata": {
    "id": "J1vfQC5yUI_2"
   },
   "source": [
    "## 1. Изучение данных"
   ]
  },
  {
   "cell_type": "code",
   "execution_count": 4,
   "metadata": {
    "id": "myCZlK3RUI_2"
   },
   "outputs": [],
   "source": [
    "data_arc = pd.read_csv('data_arc.csv') # данные об электродах;\n",
    "data_bulk = pd.read_csv('data_bulk.csv') # данные о подаче сыпучих материалов (объём);\n",
    "data_bulk_time = pd.read_csv('data_bulk_time.csv') # данные о подаче сыпучих материалов (время);\n",
    "data_gas = pd.read_csv('data_gas.csv') # данные о продувке сплава газом;\n",
    "data_temp = pd.read_csv('data_temp.csv') # результаты измерения температуры;\n",
    "data_wire = pd.read_csv('data_wire.csv') # данные о проволочных материалах (объём);\n",
    "data_wire_time = pd.read_csv('data_wire_time.csv') # данные о проволочных материалах (время)."
   ]
  },
  {
   "cell_type": "markdown",
   "metadata": {
    "id": "loalZQcVUI_2"
   },
   "source": [
    "### 1.1 data_arc"
   ]
  },
  {
   "cell_type": "code",
   "execution_count": 3,
   "metadata": {
    "colab": {
     "base_uri": "https://localhost:8080/"
    },
    "id": "xmvbqrpqUI_2",
    "outputId": "ba8e1731-077d-409d-b57b-c7f349c4c3d2"
   },
   "outputs": [
    {
     "name": "stdout",
     "output_type": "stream",
     "text": [
      "<class 'pandas.core.frame.DataFrame'>\n",
      "RangeIndex: 14876 entries, 0 to 14875\n",
      "Data columns (total 5 columns):\n",
      "key                     14876 non-null int64\n",
      "Начало нагрева дугой    14876 non-null object\n",
      "Конец нагрева дугой     14876 non-null object\n",
      "Активная мощность       14876 non-null float64\n",
      "Реактивная мощность     14876 non-null float64\n",
      "dtypes: float64(2), int64(1), object(2)\n",
      "memory usage: 581.2+ KB\n"
     ]
    }
   ],
   "source": [
    "data_arc.info()"
   ]
  },
  {
   "cell_type": "code",
   "execution_count": 4,
   "metadata": {
    "colab": {
     "base_uri": "https://localhost:8080/",
     "height": 204
    },
    "id": "PZG16Y4gUI_-",
    "outputId": "6a20e6c8-df5f-495a-dd28-ef965deec1dc"
   },
   "outputs": [
    {
     "data": {
      "text/html": [
       "<div>\n",
       "<style scoped>\n",
       "    .dataframe tbody tr th:only-of-type {\n",
       "        vertical-align: middle;\n",
       "    }\n",
       "\n",
       "    .dataframe tbody tr th {\n",
       "        vertical-align: top;\n",
       "    }\n",
       "\n",
       "    .dataframe thead th {\n",
       "        text-align: right;\n",
       "    }\n",
       "</style>\n",
       "<table border=\"1\" class=\"dataframe\">\n",
       "  <thead>\n",
       "    <tr style=\"text-align: right;\">\n",
       "      <th></th>\n",
       "      <th>key</th>\n",
       "      <th>Начало нагрева дугой</th>\n",
       "      <th>Конец нагрева дугой</th>\n",
       "      <th>Активная мощность</th>\n",
       "      <th>Реактивная мощность</th>\n",
       "    </tr>\n",
       "  </thead>\n",
       "  <tbody>\n",
       "    <tr>\n",
       "      <td>0</td>\n",
       "      <td>1</td>\n",
       "      <td>2019-05-03 11:02:14</td>\n",
       "      <td>2019-05-03 11:06:02</td>\n",
       "      <td>0.976059</td>\n",
       "      <td>0.687084</td>\n",
       "    </tr>\n",
       "    <tr>\n",
       "      <td>1</td>\n",
       "      <td>1</td>\n",
       "      <td>2019-05-03 11:07:28</td>\n",
       "      <td>2019-05-03 11:10:33</td>\n",
       "      <td>0.805607</td>\n",
       "      <td>0.520285</td>\n",
       "    </tr>\n",
       "    <tr>\n",
       "      <td>2</td>\n",
       "      <td>1</td>\n",
       "      <td>2019-05-03 11:11:44</td>\n",
       "      <td>2019-05-03 11:14:36</td>\n",
       "      <td>0.744363</td>\n",
       "      <td>0.498805</td>\n",
       "    </tr>\n",
       "    <tr>\n",
       "      <td>3</td>\n",
       "      <td>1</td>\n",
       "      <td>2019-05-03 11:18:14</td>\n",
       "      <td>2019-05-03 11:24:19</td>\n",
       "      <td>1.659363</td>\n",
       "      <td>1.062669</td>\n",
       "    </tr>\n",
       "    <tr>\n",
       "      <td>4</td>\n",
       "      <td>1</td>\n",
       "      <td>2019-05-03 11:26:09</td>\n",
       "      <td>2019-05-03 11:28:37</td>\n",
       "      <td>0.692755</td>\n",
       "      <td>0.414397</td>\n",
       "    </tr>\n",
       "  </tbody>\n",
       "</table>\n",
       "</div>"
      ],
      "text/plain": [
       "   key Начало нагрева дугой  Конец нагрева дугой  Активная мощность  \\\n",
       "0    1  2019-05-03 11:02:14  2019-05-03 11:06:02           0.976059   \n",
       "1    1  2019-05-03 11:07:28  2019-05-03 11:10:33           0.805607   \n",
       "2    1  2019-05-03 11:11:44  2019-05-03 11:14:36           0.744363   \n",
       "3    1  2019-05-03 11:18:14  2019-05-03 11:24:19           1.659363   \n",
       "4    1  2019-05-03 11:26:09  2019-05-03 11:28:37           0.692755   \n",
       "\n",
       "   Реактивная мощность  \n",
       "0             0.687084  \n",
       "1             0.520285  \n",
       "2             0.498805  \n",
       "3             1.062669  \n",
       "4             0.414397  "
      ]
     },
     "execution_count": 4,
     "metadata": {},
     "output_type": "execute_result"
    }
   ],
   "source": [
    "data_arc.head()"
   ]
  },
  {
   "cell_type": "code",
   "execution_count": 5,
   "metadata": {
    "colab": {
     "base_uri": "https://localhost:8080/"
    },
    "id": "F0PgVwjIUI_-",
    "outputId": "897afcf9-97a9-441b-83a0-ee2b0e93a879"
   },
   "outputs": [
    {
     "data": {
      "text/plain": [
       "0"
      ]
     },
     "execution_count": 5,
     "metadata": {},
     "output_type": "execute_result"
    }
   ],
   "source": [
    "data_arc.duplicated().sum()"
   ]
  },
  {
   "cell_type": "markdown",
   "metadata": {
    "id": "DuNWl5w7UI_-"
   },
   "source": [
    "Пропусков нет, дубликатов нет.  \n",
    "Из этих данных, вероятно, можно будет использовать значения реактивных мощностей."
   ]
  },
  {
   "cell_type": "code",
   "execution_count": 6,
   "metadata": {
    "colab": {
     "base_uri": "https://localhost:8080/",
     "height": 297
    },
    "id": "-cgRp2DbUI_-",
    "outputId": "44d510c6-fac6-4ddb-99aa-2f0f878c12c5"
   },
   "outputs": [
    {
     "data": {
      "text/html": [
       "<div>\n",
       "<style scoped>\n",
       "    .dataframe tbody tr th:only-of-type {\n",
       "        vertical-align: middle;\n",
       "    }\n",
       "\n",
       "    .dataframe tbody tr th {\n",
       "        vertical-align: top;\n",
       "    }\n",
       "\n",
       "    .dataframe thead th {\n",
       "        text-align: right;\n",
       "    }\n",
       "</style>\n",
       "<table border=\"1\" class=\"dataframe\">\n",
       "  <thead>\n",
       "    <tr style=\"text-align: right;\">\n",
       "      <th></th>\n",
       "      <th>key</th>\n",
       "      <th>Активная мощность</th>\n",
       "      <th>Реактивная мощность</th>\n",
       "    </tr>\n",
       "  </thead>\n",
       "  <tbody>\n",
       "    <tr>\n",
       "      <td>count</td>\n",
       "      <td>14876.000000</td>\n",
       "      <td>14876.000000</td>\n",
       "      <td>14876.000000</td>\n",
       "    </tr>\n",
       "    <tr>\n",
       "      <td>mean</td>\n",
       "      <td>1615.220422</td>\n",
       "      <td>0.670441</td>\n",
       "      <td>0.452592</td>\n",
       "    </tr>\n",
       "    <tr>\n",
       "      <td>std</td>\n",
       "      <td>934.571502</td>\n",
       "      <td>0.408159</td>\n",
       "      <td>5.878702</td>\n",
       "    </tr>\n",
       "    <tr>\n",
       "      <td>min</td>\n",
       "      <td>1.000000</td>\n",
       "      <td>0.030002</td>\n",
       "      <td>-715.504924</td>\n",
       "    </tr>\n",
       "    <tr>\n",
       "      <td>25%</td>\n",
       "      <td>806.000000</td>\n",
       "      <td>0.395297</td>\n",
       "      <td>0.290991</td>\n",
       "    </tr>\n",
       "    <tr>\n",
       "      <td>50%</td>\n",
       "      <td>1617.000000</td>\n",
       "      <td>0.555517</td>\n",
       "      <td>0.415962</td>\n",
       "    </tr>\n",
       "    <tr>\n",
       "      <td>75%</td>\n",
       "      <td>2429.000000</td>\n",
       "      <td>0.857034</td>\n",
       "      <td>0.637371</td>\n",
       "    </tr>\n",
       "    <tr>\n",
       "      <td>max</td>\n",
       "      <td>3241.000000</td>\n",
       "      <td>3.731596</td>\n",
       "      <td>2.676388</td>\n",
       "    </tr>\n",
       "  </tbody>\n",
       "</table>\n",
       "</div>"
      ],
      "text/plain": [
       "                key  Активная мощность  Реактивная мощность\n",
       "count  14876.000000       14876.000000         14876.000000\n",
       "mean    1615.220422           0.670441             0.452592\n",
       "std      934.571502           0.408159             5.878702\n",
       "min        1.000000           0.030002          -715.504924\n",
       "25%      806.000000           0.395297             0.290991\n",
       "50%     1617.000000           0.555517             0.415962\n",
       "75%     2429.000000           0.857034             0.637371\n",
       "max     3241.000000           3.731596             2.676388"
      ]
     },
     "execution_count": 6,
     "metadata": {},
     "output_type": "execute_result"
    }
   ],
   "source": [
    "data_arc.describe()"
   ]
  },
  {
   "cell_type": "markdown",
   "metadata": {
    "id": "0uqN5FBgUI_-"
   },
   "source": [
    "### 1.2 data_bulk"
   ]
  },
  {
   "cell_type": "code",
   "execution_count": 7,
   "metadata": {
    "colab": {
     "base_uri": "https://localhost:8080/"
    },
    "id": "i6dtdxTvUI_-",
    "outputId": "2a3cbcaf-7b5d-4f1b-be9c-6f5e578627c2"
   },
   "outputs": [
    {
     "name": "stdout",
     "output_type": "stream",
     "text": [
      "<class 'pandas.core.frame.DataFrame'>\n",
      "RangeIndex: 3129 entries, 0 to 3128\n",
      "Data columns (total 16 columns):\n",
      "key        3129 non-null int64\n",
      "Bulk 1     252 non-null float64\n",
      "Bulk 2     22 non-null float64\n",
      "Bulk 3     1298 non-null float64\n",
      "Bulk 4     1014 non-null float64\n",
      "Bulk 5     77 non-null float64\n",
      "Bulk 6     576 non-null float64\n",
      "Bulk 7     25 non-null float64\n",
      "Bulk 8     1 non-null float64\n",
      "Bulk 9     19 non-null float64\n",
      "Bulk 10    176 non-null float64\n",
      "Bulk 11    177 non-null float64\n",
      "Bulk 12    2450 non-null float64\n",
      "Bulk 13    18 non-null float64\n",
      "Bulk 14    2806 non-null float64\n",
      "Bulk 15    2248 non-null float64\n",
      "dtypes: float64(15), int64(1)\n",
      "memory usage: 391.2 KB\n"
     ]
    }
   ],
   "source": [
    "data_bulk.info()"
   ]
  },
  {
   "cell_type": "code",
   "execution_count": 8,
   "metadata": {
    "colab": {
     "base_uri": "https://localhost:8080/",
     "height": 204
    },
    "id": "-UsveejGUI_-",
    "outputId": "4329b5b1-29e7-4b43-d3ba-13cdc89d5da8"
   },
   "outputs": [
    {
     "data": {
      "text/html": [
       "<div>\n",
       "<style scoped>\n",
       "    .dataframe tbody tr th:only-of-type {\n",
       "        vertical-align: middle;\n",
       "    }\n",
       "\n",
       "    .dataframe tbody tr th {\n",
       "        vertical-align: top;\n",
       "    }\n",
       "\n",
       "    .dataframe thead th {\n",
       "        text-align: right;\n",
       "    }\n",
       "</style>\n",
       "<table border=\"1\" class=\"dataframe\">\n",
       "  <thead>\n",
       "    <tr style=\"text-align: right;\">\n",
       "      <th></th>\n",
       "      <th>key</th>\n",
       "      <th>Bulk 1</th>\n",
       "      <th>Bulk 2</th>\n",
       "      <th>Bulk 3</th>\n",
       "      <th>Bulk 4</th>\n",
       "      <th>Bulk 5</th>\n",
       "      <th>Bulk 6</th>\n",
       "      <th>Bulk 7</th>\n",
       "      <th>Bulk 8</th>\n",
       "      <th>Bulk 9</th>\n",
       "      <th>Bulk 10</th>\n",
       "      <th>Bulk 11</th>\n",
       "      <th>Bulk 12</th>\n",
       "      <th>Bulk 13</th>\n",
       "      <th>Bulk 14</th>\n",
       "      <th>Bulk 15</th>\n",
       "    </tr>\n",
       "  </thead>\n",
       "  <tbody>\n",
       "    <tr>\n",
       "      <td>0</td>\n",
       "      <td>1</td>\n",
       "      <td>NaN</td>\n",
       "      <td>NaN</td>\n",
       "      <td>NaN</td>\n",
       "      <td>43.0</td>\n",
       "      <td>NaN</td>\n",
       "      <td>NaN</td>\n",
       "      <td>NaN</td>\n",
       "      <td>NaN</td>\n",
       "      <td>NaN</td>\n",
       "      <td>NaN</td>\n",
       "      <td>NaN</td>\n",
       "      <td>206.0</td>\n",
       "      <td>NaN</td>\n",
       "      <td>150.0</td>\n",
       "      <td>154.0</td>\n",
       "    </tr>\n",
       "    <tr>\n",
       "      <td>1</td>\n",
       "      <td>2</td>\n",
       "      <td>NaN</td>\n",
       "      <td>NaN</td>\n",
       "      <td>NaN</td>\n",
       "      <td>73.0</td>\n",
       "      <td>NaN</td>\n",
       "      <td>NaN</td>\n",
       "      <td>NaN</td>\n",
       "      <td>NaN</td>\n",
       "      <td>NaN</td>\n",
       "      <td>NaN</td>\n",
       "      <td>NaN</td>\n",
       "      <td>206.0</td>\n",
       "      <td>NaN</td>\n",
       "      <td>149.0</td>\n",
       "      <td>154.0</td>\n",
       "    </tr>\n",
       "    <tr>\n",
       "      <td>2</td>\n",
       "      <td>3</td>\n",
       "      <td>NaN</td>\n",
       "      <td>NaN</td>\n",
       "      <td>NaN</td>\n",
       "      <td>34.0</td>\n",
       "      <td>NaN</td>\n",
       "      <td>NaN</td>\n",
       "      <td>NaN</td>\n",
       "      <td>NaN</td>\n",
       "      <td>NaN</td>\n",
       "      <td>NaN</td>\n",
       "      <td>NaN</td>\n",
       "      <td>205.0</td>\n",
       "      <td>NaN</td>\n",
       "      <td>152.0</td>\n",
       "      <td>153.0</td>\n",
       "    </tr>\n",
       "    <tr>\n",
       "      <td>3</td>\n",
       "      <td>4</td>\n",
       "      <td>NaN</td>\n",
       "      <td>NaN</td>\n",
       "      <td>NaN</td>\n",
       "      <td>81.0</td>\n",
       "      <td>NaN</td>\n",
       "      <td>NaN</td>\n",
       "      <td>NaN</td>\n",
       "      <td>NaN</td>\n",
       "      <td>NaN</td>\n",
       "      <td>NaN</td>\n",
       "      <td>NaN</td>\n",
       "      <td>207.0</td>\n",
       "      <td>NaN</td>\n",
       "      <td>153.0</td>\n",
       "      <td>154.0</td>\n",
       "    </tr>\n",
       "    <tr>\n",
       "      <td>4</td>\n",
       "      <td>5</td>\n",
       "      <td>NaN</td>\n",
       "      <td>NaN</td>\n",
       "      <td>NaN</td>\n",
       "      <td>78.0</td>\n",
       "      <td>NaN</td>\n",
       "      <td>NaN</td>\n",
       "      <td>NaN</td>\n",
       "      <td>NaN</td>\n",
       "      <td>NaN</td>\n",
       "      <td>NaN</td>\n",
       "      <td>NaN</td>\n",
       "      <td>203.0</td>\n",
       "      <td>NaN</td>\n",
       "      <td>151.0</td>\n",
       "      <td>152.0</td>\n",
       "    </tr>\n",
       "  </tbody>\n",
       "</table>\n",
       "</div>"
      ],
      "text/plain": [
       "   key  Bulk 1  Bulk 2  Bulk 3  Bulk 4  Bulk 5  Bulk 6  Bulk 7  Bulk 8  \\\n",
       "0    1     NaN     NaN     NaN    43.0     NaN     NaN     NaN     NaN   \n",
       "1    2     NaN     NaN     NaN    73.0     NaN     NaN     NaN     NaN   \n",
       "2    3     NaN     NaN     NaN    34.0     NaN     NaN     NaN     NaN   \n",
       "3    4     NaN     NaN     NaN    81.0     NaN     NaN     NaN     NaN   \n",
       "4    5     NaN     NaN     NaN    78.0     NaN     NaN     NaN     NaN   \n",
       "\n",
       "   Bulk 9  Bulk 10  Bulk 11  Bulk 12  Bulk 13  Bulk 14  Bulk 15  \n",
       "0     NaN      NaN      NaN    206.0      NaN    150.0    154.0  \n",
       "1     NaN      NaN      NaN    206.0      NaN    149.0    154.0  \n",
       "2     NaN      NaN      NaN    205.0      NaN    152.0    153.0  \n",
       "3     NaN      NaN      NaN    207.0      NaN    153.0    154.0  \n",
       "4     NaN      NaN      NaN    203.0      NaN    151.0    152.0  "
      ]
     },
     "execution_count": 8,
     "metadata": {},
     "output_type": "execute_result"
    }
   ],
   "source": [
    "data_bulk.head()"
   ]
  },
  {
   "cell_type": "code",
   "execution_count": 9,
   "metadata": {
    "colab": {
     "base_uri": "https://localhost:8080/",
     "height": 297
    },
    "id": "gJUZjuGQUI_-",
    "outputId": "4a076249-aab9-48cd-e9df-26f4fccd7366"
   },
   "outputs": [
    {
     "data": {
      "text/html": [
       "<div>\n",
       "<style scoped>\n",
       "    .dataframe tbody tr th:only-of-type {\n",
       "        vertical-align: middle;\n",
       "    }\n",
       "\n",
       "    .dataframe tbody tr th {\n",
       "        vertical-align: top;\n",
       "    }\n",
       "\n",
       "    .dataframe thead th {\n",
       "        text-align: right;\n",
       "    }\n",
       "</style>\n",
       "<table border=\"1\" class=\"dataframe\">\n",
       "  <thead>\n",
       "    <tr style=\"text-align: right;\">\n",
       "      <th></th>\n",
       "      <th>key</th>\n",
       "      <th>Bulk 1</th>\n",
       "      <th>Bulk 2</th>\n",
       "      <th>Bulk 3</th>\n",
       "      <th>Bulk 4</th>\n",
       "      <th>Bulk 5</th>\n",
       "      <th>Bulk 6</th>\n",
       "      <th>Bulk 7</th>\n",
       "      <th>Bulk 8</th>\n",
       "      <th>Bulk 9</th>\n",
       "      <th>Bulk 10</th>\n",
       "      <th>Bulk 11</th>\n",
       "      <th>Bulk 12</th>\n",
       "      <th>Bulk 13</th>\n",
       "      <th>Bulk 14</th>\n",
       "      <th>Bulk 15</th>\n",
       "    </tr>\n",
       "  </thead>\n",
       "  <tbody>\n",
       "    <tr>\n",
       "      <td>count</td>\n",
       "      <td>3129.000000</td>\n",
       "      <td>252.000000</td>\n",
       "      <td>22.000000</td>\n",
       "      <td>1298.000000</td>\n",
       "      <td>1014.000000</td>\n",
       "      <td>77.000000</td>\n",
       "      <td>576.000000</td>\n",
       "      <td>25.000000</td>\n",
       "      <td>1.0</td>\n",
       "      <td>19.000000</td>\n",
       "      <td>176.000000</td>\n",
       "      <td>177.000000</td>\n",
       "      <td>2450.000000</td>\n",
       "      <td>18.000000</td>\n",
       "      <td>2806.000000</td>\n",
       "      <td>2248.000000</td>\n",
       "    </tr>\n",
       "    <tr>\n",
       "      <td>mean</td>\n",
       "      <td>1624.383509</td>\n",
       "      <td>39.242063</td>\n",
       "      <td>253.045455</td>\n",
       "      <td>113.879045</td>\n",
       "      <td>104.394477</td>\n",
       "      <td>107.025974</td>\n",
       "      <td>118.925347</td>\n",
       "      <td>305.600000</td>\n",
       "      <td>49.0</td>\n",
       "      <td>76.315789</td>\n",
       "      <td>83.284091</td>\n",
       "      <td>76.819209</td>\n",
       "      <td>260.471020</td>\n",
       "      <td>181.111111</td>\n",
       "      <td>170.284747</td>\n",
       "      <td>160.513345</td>\n",
       "    </tr>\n",
       "    <tr>\n",
       "      <td>std</td>\n",
       "      <td>933.337642</td>\n",
       "      <td>18.277654</td>\n",
       "      <td>21.180578</td>\n",
       "      <td>75.483494</td>\n",
       "      <td>48.184126</td>\n",
       "      <td>81.790646</td>\n",
       "      <td>72.057776</td>\n",
       "      <td>191.022904</td>\n",
       "      <td>NaN</td>\n",
       "      <td>21.720581</td>\n",
       "      <td>26.060347</td>\n",
       "      <td>59.655365</td>\n",
       "      <td>120.649269</td>\n",
       "      <td>46.088009</td>\n",
       "      <td>65.868652</td>\n",
       "      <td>51.765319</td>\n",
       "    </tr>\n",
       "    <tr>\n",
       "      <td>min</td>\n",
       "      <td>1.000000</td>\n",
       "      <td>10.000000</td>\n",
       "      <td>228.000000</td>\n",
       "      <td>6.000000</td>\n",
       "      <td>12.000000</td>\n",
       "      <td>11.000000</td>\n",
       "      <td>17.000000</td>\n",
       "      <td>47.000000</td>\n",
       "      <td>49.0</td>\n",
       "      <td>63.000000</td>\n",
       "      <td>24.000000</td>\n",
       "      <td>8.000000</td>\n",
       "      <td>53.000000</td>\n",
       "      <td>151.000000</td>\n",
       "      <td>16.000000</td>\n",
       "      <td>1.000000</td>\n",
       "    </tr>\n",
       "    <tr>\n",
       "      <td>25%</td>\n",
       "      <td>816.000000</td>\n",
       "      <td>27.000000</td>\n",
       "      <td>242.000000</td>\n",
       "      <td>58.000000</td>\n",
       "      <td>72.000000</td>\n",
       "      <td>70.000000</td>\n",
       "      <td>69.750000</td>\n",
       "      <td>155.000000</td>\n",
       "      <td>49.0</td>\n",
       "      <td>66.000000</td>\n",
       "      <td>64.000000</td>\n",
       "      <td>25.000000</td>\n",
       "      <td>204.000000</td>\n",
       "      <td>153.250000</td>\n",
       "      <td>119.000000</td>\n",
       "      <td>105.000000</td>\n",
       "    </tr>\n",
       "    <tr>\n",
       "      <td>50%</td>\n",
       "      <td>1622.000000</td>\n",
       "      <td>31.000000</td>\n",
       "      <td>251.500000</td>\n",
       "      <td>97.500000</td>\n",
       "      <td>102.000000</td>\n",
       "      <td>86.000000</td>\n",
       "      <td>100.000000</td>\n",
       "      <td>298.000000</td>\n",
       "      <td>49.0</td>\n",
       "      <td>68.000000</td>\n",
       "      <td>86.500000</td>\n",
       "      <td>64.000000</td>\n",
       "      <td>208.000000</td>\n",
       "      <td>155.500000</td>\n",
       "      <td>151.000000</td>\n",
       "      <td>160.000000</td>\n",
       "    </tr>\n",
       "    <tr>\n",
       "      <td>75%</td>\n",
       "      <td>2431.000000</td>\n",
       "      <td>46.000000</td>\n",
       "      <td>257.750000</td>\n",
       "      <td>152.000000</td>\n",
       "      <td>133.000000</td>\n",
       "      <td>132.000000</td>\n",
       "      <td>157.000000</td>\n",
       "      <td>406.000000</td>\n",
       "      <td>49.0</td>\n",
       "      <td>70.500000</td>\n",
       "      <td>102.000000</td>\n",
       "      <td>106.000000</td>\n",
       "      <td>316.000000</td>\n",
       "      <td>203.500000</td>\n",
       "      <td>205.750000</td>\n",
       "      <td>205.000000</td>\n",
       "    </tr>\n",
       "    <tr>\n",
       "      <td>max</td>\n",
       "      <td>3241.000000</td>\n",
       "      <td>185.000000</td>\n",
       "      <td>325.000000</td>\n",
       "      <td>454.000000</td>\n",
       "      <td>281.000000</td>\n",
       "      <td>603.000000</td>\n",
       "      <td>503.000000</td>\n",
       "      <td>772.000000</td>\n",
       "      <td>49.0</td>\n",
       "      <td>147.000000</td>\n",
       "      <td>159.000000</td>\n",
       "      <td>313.000000</td>\n",
       "      <td>1849.000000</td>\n",
       "      <td>305.000000</td>\n",
       "      <td>636.000000</td>\n",
       "      <td>405.000000</td>\n",
       "    </tr>\n",
       "  </tbody>\n",
       "</table>\n",
       "</div>"
      ],
      "text/plain": [
       "               key      Bulk 1      Bulk 2       Bulk 3       Bulk 4  \\\n",
       "count  3129.000000  252.000000   22.000000  1298.000000  1014.000000   \n",
       "mean   1624.383509   39.242063  253.045455   113.879045   104.394477   \n",
       "std     933.337642   18.277654   21.180578    75.483494    48.184126   \n",
       "min       1.000000   10.000000  228.000000     6.000000    12.000000   \n",
       "25%     816.000000   27.000000  242.000000    58.000000    72.000000   \n",
       "50%    1622.000000   31.000000  251.500000    97.500000   102.000000   \n",
       "75%    2431.000000   46.000000  257.750000   152.000000   133.000000   \n",
       "max    3241.000000  185.000000  325.000000   454.000000   281.000000   \n",
       "\n",
       "           Bulk 5      Bulk 6      Bulk 7  Bulk 8      Bulk 9     Bulk 10  \\\n",
       "count   77.000000  576.000000   25.000000     1.0   19.000000  176.000000   \n",
       "mean   107.025974  118.925347  305.600000    49.0   76.315789   83.284091   \n",
       "std     81.790646   72.057776  191.022904     NaN   21.720581   26.060347   \n",
       "min     11.000000   17.000000   47.000000    49.0   63.000000   24.000000   \n",
       "25%     70.000000   69.750000  155.000000    49.0   66.000000   64.000000   \n",
       "50%     86.000000  100.000000  298.000000    49.0   68.000000   86.500000   \n",
       "75%    132.000000  157.000000  406.000000    49.0   70.500000  102.000000   \n",
       "max    603.000000  503.000000  772.000000    49.0  147.000000  159.000000   \n",
       "\n",
       "          Bulk 11      Bulk 12     Bulk 13      Bulk 14      Bulk 15  \n",
       "count  177.000000  2450.000000   18.000000  2806.000000  2248.000000  \n",
       "mean    76.819209   260.471020  181.111111   170.284747   160.513345  \n",
       "std     59.655365   120.649269   46.088009    65.868652    51.765319  \n",
       "min      8.000000    53.000000  151.000000    16.000000     1.000000  \n",
       "25%     25.000000   204.000000  153.250000   119.000000   105.000000  \n",
       "50%     64.000000   208.000000  155.500000   151.000000   160.000000  \n",
       "75%    106.000000   316.000000  203.500000   205.750000   205.000000  \n",
       "max    313.000000  1849.000000  305.000000   636.000000   405.000000  "
      ]
     },
     "execution_count": 9,
     "metadata": {},
     "output_type": "execute_result"
    }
   ],
   "source": [
    "data_bulk.describe()"
   ]
  },
  {
   "cell_type": "markdown",
   "metadata": {
    "id": "1k5Unm0mUI_-"
   },
   "source": [
    "Таблица сильно неоднородна. Значительное количество пропусков.  \n",
    "Стоит принять решение, нужны ли вообще эти данные для построения модели."
   ]
  },
  {
   "cell_type": "markdown",
   "metadata": {
    "id": "EHHjiH9lUI_-"
   },
   "source": [
    "### 1.3 data_bulk_time"
   ]
  },
  {
   "cell_type": "code",
   "execution_count": 10,
   "metadata": {
    "colab": {
     "base_uri": "https://localhost:8080/"
    },
    "id": "wqtvCf41UI_-",
    "outputId": "1e3b6e74-7cc6-4154-f095-7c84c90a53bc"
   },
   "outputs": [
    {
     "name": "stdout",
     "output_type": "stream",
     "text": [
      "<class 'pandas.core.frame.DataFrame'>\n",
      "RangeIndex: 3129 entries, 0 to 3128\n",
      "Data columns (total 16 columns):\n",
      "key        3129 non-null int64\n",
      "Bulk 1     252 non-null object\n",
      "Bulk 2     22 non-null object\n",
      "Bulk 3     1298 non-null object\n",
      "Bulk 4     1014 non-null object\n",
      "Bulk 5     77 non-null object\n",
      "Bulk 6     576 non-null object\n",
      "Bulk 7     25 non-null object\n",
      "Bulk 8     1 non-null object\n",
      "Bulk 9     19 non-null object\n",
      "Bulk 10    176 non-null object\n",
      "Bulk 11    177 non-null object\n",
      "Bulk 12    2450 non-null object\n",
      "Bulk 13    18 non-null object\n",
      "Bulk 14    2806 non-null object\n",
      "Bulk 15    2248 non-null object\n",
      "dtypes: int64(1), object(15)\n",
      "memory usage: 391.2+ KB\n"
     ]
    }
   ],
   "source": [
    "data_bulk_time.info()"
   ]
  },
  {
   "cell_type": "code",
   "execution_count": 11,
   "metadata": {
    "colab": {
     "base_uri": "https://localhost:8080/",
     "height": 204
    },
    "id": "wXcVvfApUI_-",
    "outputId": "9c874677-3938-49da-b56a-84a77ec1c8c6"
   },
   "outputs": [
    {
     "data": {
      "text/html": [
       "<div>\n",
       "<style scoped>\n",
       "    .dataframe tbody tr th:only-of-type {\n",
       "        vertical-align: middle;\n",
       "    }\n",
       "\n",
       "    .dataframe tbody tr th {\n",
       "        vertical-align: top;\n",
       "    }\n",
       "\n",
       "    .dataframe thead th {\n",
       "        text-align: right;\n",
       "    }\n",
       "</style>\n",
       "<table border=\"1\" class=\"dataframe\">\n",
       "  <thead>\n",
       "    <tr style=\"text-align: right;\">\n",
       "      <th></th>\n",
       "      <th>key</th>\n",
       "      <th>Bulk 1</th>\n",
       "      <th>Bulk 2</th>\n",
       "      <th>Bulk 3</th>\n",
       "      <th>Bulk 4</th>\n",
       "      <th>Bulk 5</th>\n",
       "      <th>Bulk 6</th>\n",
       "      <th>Bulk 7</th>\n",
       "      <th>Bulk 8</th>\n",
       "      <th>Bulk 9</th>\n",
       "      <th>Bulk 10</th>\n",
       "      <th>Bulk 11</th>\n",
       "      <th>Bulk 12</th>\n",
       "      <th>Bulk 13</th>\n",
       "      <th>Bulk 14</th>\n",
       "      <th>Bulk 15</th>\n",
       "    </tr>\n",
       "  </thead>\n",
       "  <tbody>\n",
       "    <tr>\n",
       "      <td>0</td>\n",
       "      <td>1</td>\n",
       "      <td>NaN</td>\n",
       "      <td>NaN</td>\n",
       "      <td>NaN</td>\n",
       "      <td>2019-05-03 11:21:30</td>\n",
       "      <td>NaN</td>\n",
       "      <td>NaN</td>\n",
       "      <td>NaN</td>\n",
       "      <td>NaN</td>\n",
       "      <td>NaN</td>\n",
       "      <td>NaN</td>\n",
       "      <td>NaN</td>\n",
       "      <td>2019-05-03 11:03:52</td>\n",
       "      <td>NaN</td>\n",
       "      <td>2019-05-03 11:03:52</td>\n",
       "      <td>2019-05-03 11:03:52</td>\n",
       "    </tr>\n",
       "    <tr>\n",
       "      <td>1</td>\n",
       "      <td>2</td>\n",
       "      <td>NaN</td>\n",
       "      <td>NaN</td>\n",
       "      <td>NaN</td>\n",
       "      <td>2019-05-03 11:46:38</td>\n",
       "      <td>NaN</td>\n",
       "      <td>NaN</td>\n",
       "      <td>NaN</td>\n",
       "      <td>NaN</td>\n",
       "      <td>NaN</td>\n",
       "      <td>NaN</td>\n",
       "      <td>NaN</td>\n",
       "      <td>2019-05-03 11:40:20</td>\n",
       "      <td>NaN</td>\n",
       "      <td>2019-05-03 11:40:20</td>\n",
       "      <td>2019-05-03 11:40:20</td>\n",
       "    </tr>\n",
       "    <tr>\n",
       "      <td>2</td>\n",
       "      <td>3</td>\n",
       "      <td>NaN</td>\n",
       "      <td>NaN</td>\n",
       "      <td>NaN</td>\n",
       "      <td>2019-05-03 12:31:06</td>\n",
       "      <td>NaN</td>\n",
       "      <td>NaN</td>\n",
       "      <td>NaN</td>\n",
       "      <td>NaN</td>\n",
       "      <td>NaN</td>\n",
       "      <td>NaN</td>\n",
       "      <td>NaN</td>\n",
       "      <td>2019-05-03 12:09:40</td>\n",
       "      <td>NaN</td>\n",
       "      <td>2019-05-03 12:09:40</td>\n",
       "      <td>2019-05-03 12:09:40</td>\n",
       "    </tr>\n",
       "    <tr>\n",
       "      <td>3</td>\n",
       "      <td>4</td>\n",
       "      <td>NaN</td>\n",
       "      <td>NaN</td>\n",
       "      <td>NaN</td>\n",
       "      <td>2019-05-03 12:48:43</td>\n",
       "      <td>NaN</td>\n",
       "      <td>NaN</td>\n",
       "      <td>NaN</td>\n",
       "      <td>NaN</td>\n",
       "      <td>NaN</td>\n",
       "      <td>NaN</td>\n",
       "      <td>NaN</td>\n",
       "      <td>2019-05-03 12:41:24</td>\n",
       "      <td>NaN</td>\n",
       "      <td>2019-05-03 12:41:24</td>\n",
       "      <td>2019-05-03 12:41:24</td>\n",
       "    </tr>\n",
       "    <tr>\n",
       "      <td>4</td>\n",
       "      <td>5</td>\n",
       "      <td>NaN</td>\n",
       "      <td>NaN</td>\n",
       "      <td>NaN</td>\n",
       "      <td>2019-05-03 13:18:50</td>\n",
       "      <td>NaN</td>\n",
       "      <td>NaN</td>\n",
       "      <td>NaN</td>\n",
       "      <td>NaN</td>\n",
       "      <td>NaN</td>\n",
       "      <td>NaN</td>\n",
       "      <td>NaN</td>\n",
       "      <td>2019-05-03 13:12:56</td>\n",
       "      <td>NaN</td>\n",
       "      <td>2019-05-03 13:12:56</td>\n",
       "      <td>2019-05-03 13:12:56</td>\n",
       "    </tr>\n",
       "  </tbody>\n",
       "</table>\n",
       "</div>"
      ],
      "text/plain": [
       "   key Bulk 1 Bulk 2 Bulk 3               Bulk 4 Bulk 5 Bulk 6 Bulk 7 Bulk 8  \\\n",
       "0    1    NaN    NaN    NaN  2019-05-03 11:21:30    NaN    NaN    NaN    NaN   \n",
       "1    2    NaN    NaN    NaN  2019-05-03 11:46:38    NaN    NaN    NaN    NaN   \n",
       "2    3    NaN    NaN    NaN  2019-05-03 12:31:06    NaN    NaN    NaN    NaN   \n",
       "3    4    NaN    NaN    NaN  2019-05-03 12:48:43    NaN    NaN    NaN    NaN   \n",
       "4    5    NaN    NaN    NaN  2019-05-03 13:18:50    NaN    NaN    NaN    NaN   \n",
       "\n",
       "  Bulk 9 Bulk 10 Bulk 11              Bulk 12 Bulk 13              Bulk 14  \\\n",
       "0    NaN     NaN     NaN  2019-05-03 11:03:52     NaN  2019-05-03 11:03:52   \n",
       "1    NaN     NaN     NaN  2019-05-03 11:40:20     NaN  2019-05-03 11:40:20   \n",
       "2    NaN     NaN     NaN  2019-05-03 12:09:40     NaN  2019-05-03 12:09:40   \n",
       "3    NaN     NaN     NaN  2019-05-03 12:41:24     NaN  2019-05-03 12:41:24   \n",
       "4    NaN     NaN     NaN  2019-05-03 13:12:56     NaN  2019-05-03 13:12:56   \n",
       "\n",
       "               Bulk 15  \n",
       "0  2019-05-03 11:03:52  \n",
       "1  2019-05-03 11:40:20  \n",
       "2  2019-05-03 12:09:40  \n",
       "3  2019-05-03 12:41:24  \n",
       "4  2019-05-03 13:12:56  "
      ]
     },
     "execution_count": 11,
     "metadata": {},
     "output_type": "execute_result"
    }
   ],
   "source": [
    "data_bulk_time.head()"
   ]
  },
  {
   "cell_type": "markdown",
   "metadata": {
    "id": "acpoq6LBUJAA"
   },
   "source": [
    "Эти данные напрямую относятся к data_bulk. "
   ]
  },
  {
   "cell_type": "markdown",
   "metadata": {
    "id": "wLLv436kUJAA"
   },
   "source": [
    "### 1.4 data_gas"
   ]
  },
  {
   "cell_type": "code",
   "execution_count": 12,
   "metadata": {
    "colab": {
     "base_uri": "https://localhost:8080/"
    },
    "id": "TT1OPncPUJAA",
    "outputId": "80124dd8-a4ce-4f7e-a2a1-e72c17e570c0"
   },
   "outputs": [
    {
     "name": "stdout",
     "output_type": "stream",
     "text": [
      "<class 'pandas.core.frame.DataFrame'>\n",
      "RangeIndex: 3239 entries, 0 to 3238\n",
      "Data columns (total 2 columns):\n",
      "key      3239 non-null int64\n",
      "Газ 1    3239 non-null float64\n",
      "dtypes: float64(1), int64(1)\n",
      "memory usage: 50.7 KB\n"
     ]
    }
   ],
   "source": [
    "data_gas.info()"
   ]
  },
  {
   "cell_type": "code",
   "execution_count": 13,
   "metadata": {
    "colab": {
     "base_uri": "https://localhost:8080/",
     "height": 204
    },
    "id": "JZC6ykFQUJAA",
    "outputId": "20f3075b-fed7-44af-8e6c-41a5a6465668"
   },
   "outputs": [
    {
     "data": {
      "text/html": [
       "<div>\n",
       "<style scoped>\n",
       "    .dataframe tbody tr th:only-of-type {\n",
       "        vertical-align: middle;\n",
       "    }\n",
       "\n",
       "    .dataframe tbody tr th {\n",
       "        vertical-align: top;\n",
       "    }\n",
       "\n",
       "    .dataframe thead th {\n",
       "        text-align: right;\n",
       "    }\n",
       "</style>\n",
       "<table border=\"1\" class=\"dataframe\">\n",
       "  <thead>\n",
       "    <tr style=\"text-align: right;\">\n",
       "      <th></th>\n",
       "      <th>key</th>\n",
       "      <th>Газ 1</th>\n",
       "    </tr>\n",
       "  </thead>\n",
       "  <tbody>\n",
       "    <tr>\n",
       "      <td>0</td>\n",
       "      <td>1</td>\n",
       "      <td>29.749986</td>\n",
       "    </tr>\n",
       "    <tr>\n",
       "      <td>1</td>\n",
       "      <td>2</td>\n",
       "      <td>12.555561</td>\n",
       "    </tr>\n",
       "    <tr>\n",
       "      <td>2</td>\n",
       "      <td>3</td>\n",
       "      <td>28.554793</td>\n",
       "    </tr>\n",
       "    <tr>\n",
       "      <td>3</td>\n",
       "      <td>4</td>\n",
       "      <td>18.841219</td>\n",
       "    </tr>\n",
       "    <tr>\n",
       "      <td>4</td>\n",
       "      <td>5</td>\n",
       "      <td>5.413692</td>\n",
       "    </tr>\n",
       "  </tbody>\n",
       "</table>\n",
       "</div>"
      ],
      "text/plain": [
       "   key      Газ 1\n",
       "0    1  29.749986\n",
       "1    2  12.555561\n",
       "2    3  28.554793\n",
       "3    4  18.841219\n",
       "4    5   5.413692"
      ]
     },
     "execution_count": 13,
     "metadata": {},
     "output_type": "execute_result"
    }
   ],
   "source": [
    "data_gas.head()"
   ]
  },
  {
   "cell_type": "code",
   "execution_count": 14,
   "metadata": {
    "colab": {
     "base_uri": "https://localhost:8080/",
     "height": 297
    },
    "id": "0LMO9Bn6UJAA",
    "outputId": "69f0a26d-fc44-45c7-d99d-550557e2688f"
   },
   "outputs": [
    {
     "data": {
      "text/html": [
       "<div>\n",
       "<style scoped>\n",
       "    .dataframe tbody tr th:only-of-type {\n",
       "        vertical-align: middle;\n",
       "    }\n",
       "\n",
       "    .dataframe tbody tr th {\n",
       "        vertical-align: top;\n",
       "    }\n",
       "\n",
       "    .dataframe thead th {\n",
       "        text-align: right;\n",
       "    }\n",
       "</style>\n",
       "<table border=\"1\" class=\"dataframe\">\n",
       "  <thead>\n",
       "    <tr style=\"text-align: right;\">\n",
       "      <th></th>\n",
       "      <th>key</th>\n",
       "      <th>Газ 1</th>\n",
       "    </tr>\n",
       "  </thead>\n",
       "  <tbody>\n",
       "    <tr>\n",
       "      <td>count</td>\n",
       "      <td>3239.000000</td>\n",
       "      <td>3239.000000</td>\n",
       "    </tr>\n",
       "    <tr>\n",
       "      <td>mean</td>\n",
       "      <td>1621.861377</td>\n",
       "      <td>11.002062</td>\n",
       "    </tr>\n",
       "    <tr>\n",
       "      <td>std</td>\n",
       "      <td>935.386334</td>\n",
       "      <td>6.220327</td>\n",
       "    </tr>\n",
       "    <tr>\n",
       "      <td>min</td>\n",
       "      <td>1.000000</td>\n",
       "      <td>0.008399</td>\n",
       "    </tr>\n",
       "    <tr>\n",
       "      <td>25%</td>\n",
       "      <td>812.500000</td>\n",
       "      <td>7.043089</td>\n",
       "    </tr>\n",
       "    <tr>\n",
       "      <td>50%</td>\n",
       "      <td>1622.000000</td>\n",
       "      <td>9.836267</td>\n",
       "    </tr>\n",
       "    <tr>\n",
       "      <td>75%</td>\n",
       "      <td>2431.500000</td>\n",
       "      <td>13.769915</td>\n",
       "    </tr>\n",
       "    <tr>\n",
       "      <td>max</td>\n",
       "      <td>3241.000000</td>\n",
       "      <td>77.995040</td>\n",
       "    </tr>\n",
       "  </tbody>\n",
       "</table>\n",
       "</div>"
      ],
      "text/plain": [
       "               key        Газ 1\n",
       "count  3239.000000  3239.000000\n",
       "mean   1621.861377    11.002062\n",
       "std     935.386334     6.220327\n",
       "min       1.000000     0.008399\n",
       "25%     812.500000     7.043089\n",
       "50%    1622.000000     9.836267\n",
       "75%    2431.500000    13.769915\n",
       "max    3241.000000    77.995040"
      ]
     },
     "execution_count": 14,
     "metadata": {},
     "output_type": "execute_result"
    }
   ],
   "source": [
    "data_gas.describe()"
   ]
  },
  {
   "cell_type": "code",
   "execution_count": 15,
   "metadata": {
    "colab": {
     "base_uri": "https://localhost:8080/"
    },
    "id": "ic5_gL6QUJAA",
    "outputId": "c42933b0-afcf-4989-d06f-340ad8a86568"
   },
   "outputs": [
    {
     "data": {
      "text/plain": [
       "0"
      ]
     },
     "execution_count": 15,
     "metadata": {},
     "output_type": "execute_result"
    }
   ],
   "source": [
    "data_gas.duplicated().sum()"
   ]
  },
  {
   "cell_type": "markdown",
   "metadata": {
    "id": "1y5XRHX6UJAA"
   },
   "source": [
    "Дубликатов нет, пропусков нет."
   ]
  },
  {
   "cell_type": "markdown",
   "metadata": {
    "id": "V23G4uy3UJAA"
   },
   "source": [
    "### 1.5 data_temp"
   ]
  },
  {
   "cell_type": "code",
   "execution_count": 16,
   "metadata": {
    "colab": {
     "base_uri": "https://localhost:8080/"
    },
    "id": "Q_MZrrEzUJAA",
    "outputId": "9324067b-b512-48be-baf6-038094434960"
   },
   "outputs": [
    {
     "name": "stdout",
     "output_type": "stream",
     "text": [
      "<class 'pandas.core.frame.DataFrame'>\n",
      "RangeIndex: 15907 entries, 0 to 15906\n",
      "Data columns (total 3 columns):\n",
      "key             15907 non-null int64\n",
      "Время замера    15907 non-null object\n",
      "Температура     13006 non-null float64\n",
      "dtypes: float64(1), int64(1), object(1)\n",
      "memory usage: 372.9+ KB\n"
     ]
    }
   ],
   "source": [
    "data_temp.info()"
   ]
  },
  {
   "cell_type": "code",
   "execution_count": 17,
   "metadata": {
    "colab": {
     "base_uri": "https://localhost:8080/",
     "height": 359
    },
    "id": "jXNb0VXoUJAA",
    "outputId": "bc0349bb-3b4e-4b33-fde5-9e0df1b3c725"
   },
   "outputs": [
    {
     "data": {
      "text/html": [
       "<div>\n",
       "<style scoped>\n",
       "    .dataframe tbody tr th:only-of-type {\n",
       "        vertical-align: middle;\n",
       "    }\n",
       "\n",
       "    .dataframe tbody tr th {\n",
       "        vertical-align: top;\n",
       "    }\n",
       "\n",
       "    .dataframe thead th {\n",
       "        text-align: right;\n",
       "    }\n",
       "</style>\n",
       "<table border=\"1\" class=\"dataframe\">\n",
       "  <thead>\n",
       "    <tr style=\"text-align: right;\">\n",
       "      <th></th>\n",
       "      <th>key</th>\n",
       "      <th>Время замера</th>\n",
       "      <th>Температура</th>\n",
       "    </tr>\n",
       "  </thead>\n",
       "  <tbody>\n",
       "    <tr>\n",
       "      <td>0</td>\n",
       "      <td>1</td>\n",
       "      <td>2019-05-03 11:16:18</td>\n",
       "      <td>1571.0</td>\n",
       "    </tr>\n",
       "    <tr>\n",
       "      <td>1</td>\n",
       "      <td>1</td>\n",
       "      <td>2019-05-03 11:25:53</td>\n",
       "      <td>1604.0</td>\n",
       "    </tr>\n",
       "    <tr>\n",
       "      <td>2</td>\n",
       "      <td>1</td>\n",
       "      <td>2019-05-03 11:29:11</td>\n",
       "      <td>1618.0</td>\n",
       "    </tr>\n",
       "    <tr>\n",
       "      <td>3</td>\n",
       "      <td>1</td>\n",
       "      <td>2019-05-03 11:30:01</td>\n",
       "      <td>1601.0</td>\n",
       "    </tr>\n",
       "    <tr>\n",
       "      <td>4</td>\n",
       "      <td>1</td>\n",
       "      <td>2019-05-03 11:30:39</td>\n",
       "      <td>1613.0</td>\n",
       "    </tr>\n",
       "    <tr>\n",
       "      <td>5</td>\n",
       "      <td>2</td>\n",
       "      <td>2019-05-03 11:37:27</td>\n",
       "      <td>1581.0</td>\n",
       "    </tr>\n",
       "    <tr>\n",
       "      <td>6</td>\n",
       "      <td>2</td>\n",
       "      <td>2019-05-03 11:38:00</td>\n",
       "      <td>1577.0</td>\n",
       "    </tr>\n",
       "    <tr>\n",
       "      <td>7</td>\n",
       "      <td>2</td>\n",
       "      <td>2019-05-03 11:49:38</td>\n",
       "      <td>1589.0</td>\n",
       "    </tr>\n",
       "    <tr>\n",
       "      <td>8</td>\n",
       "      <td>2</td>\n",
       "      <td>2019-05-03 11:55:50</td>\n",
       "      <td>1604.0</td>\n",
       "    </tr>\n",
       "    <tr>\n",
       "      <td>9</td>\n",
       "      <td>2</td>\n",
       "      <td>2019-05-03 11:58:24</td>\n",
       "      <td>1608.0</td>\n",
       "    </tr>\n",
       "  </tbody>\n",
       "</table>\n",
       "</div>"
      ],
      "text/plain": [
       "   key         Время замера  Температура\n",
       "0    1  2019-05-03 11:16:18       1571.0\n",
       "1    1  2019-05-03 11:25:53       1604.0\n",
       "2    1  2019-05-03 11:29:11       1618.0\n",
       "3    1  2019-05-03 11:30:01       1601.0\n",
       "4    1  2019-05-03 11:30:39       1613.0\n",
       "5    2  2019-05-03 11:37:27       1581.0\n",
       "6    2  2019-05-03 11:38:00       1577.0\n",
       "7    2  2019-05-03 11:49:38       1589.0\n",
       "8    2  2019-05-03 11:55:50       1604.0\n",
       "9    2  2019-05-03 11:58:24       1608.0"
      ]
     },
     "execution_count": 17,
     "metadata": {},
     "output_type": "execute_result"
    }
   ],
   "source": [
    "data_temp.head(10)"
   ]
  },
  {
   "cell_type": "code",
   "execution_count": 18,
   "metadata": {
    "colab": {
     "base_uri": "https://localhost:8080/"
    },
    "id": "kCJA1YrtUJAA",
    "outputId": "923e1c88-4cbb-4b8e-fa2a-bfd8e54599fe"
   },
   "outputs": [
    {
     "data": {
      "text/plain": [
       "0"
      ]
     },
     "execution_count": 18,
     "metadata": {},
     "output_type": "execute_result"
    }
   ],
   "source": [
    "data_temp.duplicated().sum()"
   ]
  },
  {
   "cell_type": "markdown",
   "metadata": {
    "id": "sGCWHyPFUJAA"
   },
   "source": [
    "Дубликатов нет."
   ]
  },
  {
   "cell_type": "markdown",
   "metadata": {
    "id": "vZAl5F1TUJAA"
   },
   "source": [
    "В данных есть пропуски. Необходимо будет провести дополнительное исследование этих данных и принять решение об обработке пропусков."
   ]
  },
  {
   "cell_type": "markdown",
   "metadata": {
    "id": "USqsm5Z1UJAA"
   },
   "source": [
    "### 1.6 data_wire"
   ]
  },
  {
   "cell_type": "code",
   "execution_count": 19,
   "metadata": {
    "colab": {
     "base_uri": "https://localhost:8080/"
    },
    "id": "0Bx_yK2FUJAA",
    "outputId": "b11b9c7d-6d22-4e2f-96ef-d70dcc03b611"
   },
   "outputs": [
    {
     "name": "stdout",
     "output_type": "stream",
     "text": [
      "<class 'pandas.core.frame.DataFrame'>\n",
      "RangeIndex: 3081 entries, 0 to 3080\n",
      "Data columns (total 10 columns):\n",
      "key       3081 non-null int64\n",
      "Wire 1    3055 non-null float64\n",
      "Wire 2    1079 non-null float64\n",
      "Wire 3    63 non-null float64\n",
      "Wire 4    14 non-null float64\n",
      "Wire 5    1 non-null float64\n",
      "Wire 6    73 non-null float64\n",
      "Wire 7    11 non-null float64\n",
      "Wire 8    19 non-null float64\n",
      "Wire 9    29 non-null float64\n",
      "dtypes: float64(9), int64(1)\n",
      "memory usage: 240.8 KB\n"
     ]
    }
   ],
   "source": [
    "data_wire.info()"
   ]
  },
  {
   "cell_type": "code",
   "execution_count": 20,
   "metadata": {
    "colab": {
     "base_uri": "https://localhost:8080/",
     "height": 359
    },
    "id": "aUjGl0ZWUJAA",
    "outputId": "c7461965-d69f-428c-9ebc-2026c4591508"
   },
   "outputs": [
    {
     "data": {
      "text/html": [
       "<div>\n",
       "<style scoped>\n",
       "    .dataframe tbody tr th:only-of-type {\n",
       "        vertical-align: middle;\n",
       "    }\n",
       "\n",
       "    .dataframe tbody tr th {\n",
       "        vertical-align: top;\n",
       "    }\n",
       "\n",
       "    .dataframe thead th {\n",
       "        text-align: right;\n",
       "    }\n",
       "</style>\n",
       "<table border=\"1\" class=\"dataframe\">\n",
       "  <thead>\n",
       "    <tr style=\"text-align: right;\">\n",
       "      <th></th>\n",
       "      <th>key</th>\n",
       "      <th>Wire 1</th>\n",
       "      <th>Wire 2</th>\n",
       "      <th>Wire 3</th>\n",
       "      <th>Wire 4</th>\n",
       "      <th>Wire 5</th>\n",
       "      <th>Wire 6</th>\n",
       "      <th>Wire 7</th>\n",
       "      <th>Wire 8</th>\n",
       "      <th>Wire 9</th>\n",
       "    </tr>\n",
       "  </thead>\n",
       "  <tbody>\n",
       "    <tr>\n",
       "      <td>0</td>\n",
       "      <td>1</td>\n",
       "      <td>60.059998</td>\n",
       "      <td>NaN</td>\n",
       "      <td>NaN</td>\n",
       "      <td>NaN</td>\n",
       "      <td>NaN</td>\n",
       "      <td>NaN</td>\n",
       "      <td>NaN</td>\n",
       "      <td>NaN</td>\n",
       "      <td>NaN</td>\n",
       "    </tr>\n",
       "    <tr>\n",
       "      <td>1</td>\n",
       "      <td>2</td>\n",
       "      <td>96.052315</td>\n",
       "      <td>NaN</td>\n",
       "      <td>NaN</td>\n",
       "      <td>NaN</td>\n",
       "      <td>NaN</td>\n",
       "      <td>NaN</td>\n",
       "      <td>NaN</td>\n",
       "      <td>NaN</td>\n",
       "      <td>NaN</td>\n",
       "    </tr>\n",
       "    <tr>\n",
       "      <td>2</td>\n",
       "      <td>3</td>\n",
       "      <td>91.160157</td>\n",
       "      <td>NaN</td>\n",
       "      <td>NaN</td>\n",
       "      <td>NaN</td>\n",
       "      <td>NaN</td>\n",
       "      <td>NaN</td>\n",
       "      <td>NaN</td>\n",
       "      <td>NaN</td>\n",
       "      <td>NaN</td>\n",
       "    </tr>\n",
       "    <tr>\n",
       "      <td>3</td>\n",
       "      <td>4</td>\n",
       "      <td>89.063515</td>\n",
       "      <td>NaN</td>\n",
       "      <td>NaN</td>\n",
       "      <td>NaN</td>\n",
       "      <td>NaN</td>\n",
       "      <td>NaN</td>\n",
       "      <td>NaN</td>\n",
       "      <td>NaN</td>\n",
       "      <td>NaN</td>\n",
       "    </tr>\n",
       "    <tr>\n",
       "      <td>4</td>\n",
       "      <td>5</td>\n",
       "      <td>89.238236</td>\n",
       "      <td>9.114560</td>\n",
       "      <td>NaN</td>\n",
       "      <td>NaN</td>\n",
       "      <td>NaN</td>\n",
       "      <td>NaN</td>\n",
       "      <td>NaN</td>\n",
       "      <td>NaN</td>\n",
       "      <td>NaN</td>\n",
       "    </tr>\n",
       "    <tr>\n",
       "      <td>5</td>\n",
       "      <td>6</td>\n",
       "      <td>99.109917</td>\n",
       "      <td>9.114560</td>\n",
       "      <td>NaN</td>\n",
       "      <td>NaN</td>\n",
       "      <td>NaN</td>\n",
       "      <td>NaN</td>\n",
       "      <td>NaN</td>\n",
       "      <td>NaN</td>\n",
       "      <td>NaN</td>\n",
       "    </tr>\n",
       "    <tr>\n",
       "      <td>6</td>\n",
       "      <td>7</td>\n",
       "      <td>98.061600</td>\n",
       "      <td>NaN</td>\n",
       "      <td>NaN</td>\n",
       "      <td>NaN</td>\n",
       "      <td>NaN</td>\n",
       "      <td>NaN</td>\n",
       "      <td>NaN</td>\n",
       "      <td>NaN</td>\n",
       "      <td>NaN</td>\n",
       "    </tr>\n",
       "    <tr>\n",
       "      <td>7</td>\n",
       "      <td>8</td>\n",
       "      <td>155.282394</td>\n",
       "      <td>NaN</td>\n",
       "      <td>NaN</td>\n",
       "      <td>NaN</td>\n",
       "      <td>NaN</td>\n",
       "      <td>NaN</td>\n",
       "      <td>NaN</td>\n",
       "      <td>NaN</td>\n",
       "      <td>NaN</td>\n",
       "    </tr>\n",
       "    <tr>\n",
       "      <td>8</td>\n",
       "      <td>9</td>\n",
       "      <td>113.393279</td>\n",
       "      <td>9.143681</td>\n",
       "      <td>NaN</td>\n",
       "      <td>NaN</td>\n",
       "      <td>NaN</td>\n",
       "      <td>NaN</td>\n",
       "      <td>NaN</td>\n",
       "      <td>NaN</td>\n",
       "      <td>NaN</td>\n",
       "    </tr>\n",
       "    <tr>\n",
       "      <td>9</td>\n",
       "      <td>10</td>\n",
       "      <td>81.244796</td>\n",
       "      <td>12.376000</td>\n",
       "      <td>NaN</td>\n",
       "      <td>NaN</td>\n",
       "      <td>NaN</td>\n",
       "      <td>NaN</td>\n",
       "      <td>NaN</td>\n",
       "      <td>NaN</td>\n",
       "      <td>NaN</td>\n",
       "    </tr>\n",
       "  </tbody>\n",
       "</table>\n",
       "</div>"
      ],
      "text/plain": [
       "   key      Wire 1     Wire 2  Wire 3  Wire 4  Wire 5  Wire 6  Wire 7  Wire 8  \\\n",
       "0    1   60.059998        NaN     NaN     NaN     NaN     NaN     NaN     NaN   \n",
       "1    2   96.052315        NaN     NaN     NaN     NaN     NaN     NaN     NaN   \n",
       "2    3   91.160157        NaN     NaN     NaN     NaN     NaN     NaN     NaN   \n",
       "3    4   89.063515        NaN     NaN     NaN     NaN     NaN     NaN     NaN   \n",
       "4    5   89.238236   9.114560     NaN     NaN     NaN     NaN     NaN     NaN   \n",
       "5    6   99.109917   9.114560     NaN     NaN     NaN     NaN     NaN     NaN   \n",
       "6    7   98.061600        NaN     NaN     NaN     NaN     NaN     NaN     NaN   \n",
       "7    8  155.282394        NaN     NaN     NaN     NaN     NaN     NaN     NaN   \n",
       "8    9  113.393279   9.143681     NaN     NaN     NaN     NaN     NaN     NaN   \n",
       "9   10   81.244796  12.376000     NaN     NaN     NaN     NaN     NaN     NaN   \n",
       "\n",
       "   Wire 9  \n",
       "0     NaN  \n",
       "1     NaN  \n",
       "2     NaN  \n",
       "3     NaN  \n",
       "4     NaN  \n",
       "5     NaN  \n",
       "6     NaN  \n",
       "7     NaN  \n",
       "8     NaN  \n",
       "9     NaN  "
      ]
     },
     "execution_count": 20,
     "metadata": {},
     "output_type": "execute_result"
    }
   ],
   "source": [
    "data_wire.head(10)"
   ]
  },
  {
   "cell_type": "code",
   "execution_count": 21,
   "metadata": {
    "colab": {
     "base_uri": "https://localhost:8080/",
     "height": 297
    },
    "id": "inWXWV1mUJAA",
    "outputId": "e1385f83-24ee-4801-e411-ce145c09caab"
   },
   "outputs": [
    {
     "data": {
      "text/html": [
       "<div>\n",
       "<style scoped>\n",
       "    .dataframe tbody tr th:only-of-type {\n",
       "        vertical-align: middle;\n",
       "    }\n",
       "\n",
       "    .dataframe tbody tr th {\n",
       "        vertical-align: top;\n",
       "    }\n",
       "\n",
       "    .dataframe thead th {\n",
       "        text-align: right;\n",
       "    }\n",
       "</style>\n",
       "<table border=\"1\" class=\"dataframe\">\n",
       "  <thead>\n",
       "    <tr style=\"text-align: right;\">\n",
       "      <th></th>\n",
       "      <th>key</th>\n",
       "      <th>Wire 1</th>\n",
       "      <th>Wire 2</th>\n",
       "      <th>Wire 3</th>\n",
       "      <th>Wire 4</th>\n",
       "      <th>Wire 5</th>\n",
       "      <th>Wire 6</th>\n",
       "      <th>Wire 7</th>\n",
       "      <th>Wire 8</th>\n",
       "      <th>Wire 9</th>\n",
       "    </tr>\n",
       "  </thead>\n",
       "  <tbody>\n",
       "    <tr>\n",
       "      <td>count</td>\n",
       "      <td>3081.000000</td>\n",
       "      <td>3055.000000</td>\n",
       "      <td>1079.000000</td>\n",
       "      <td>63.000000</td>\n",
       "      <td>14.000000</td>\n",
       "      <td>1.000</td>\n",
       "      <td>73.000000</td>\n",
       "      <td>11.000000</td>\n",
       "      <td>19.000000</td>\n",
       "      <td>29.000000</td>\n",
       "    </tr>\n",
       "    <tr>\n",
       "      <td>mean</td>\n",
       "      <td>1623.426485</td>\n",
       "      <td>100.895853</td>\n",
       "      <td>50.577323</td>\n",
       "      <td>189.482681</td>\n",
       "      <td>57.442841</td>\n",
       "      <td>15.132</td>\n",
       "      <td>48.016974</td>\n",
       "      <td>10.039007</td>\n",
       "      <td>53.625193</td>\n",
       "      <td>34.155752</td>\n",
       "    </tr>\n",
       "    <tr>\n",
       "      <td>std</td>\n",
       "      <td>932.996726</td>\n",
       "      <td>42.012518</td>\n",
       "      <td>39.320216</td>\n",
       "      <td>99.513444</td>\n",
       "      <td>28.824667</td>\n",
       "      <td>NaN</td>\n",
       "      <td>33.919845</td>\n",
       "      <td>8.610584</td>\n",
       "      <td>16.881728</td>\n",
       "      <td>19.931616</td>\n",
       "    </tr>\n",
       "    <tr>\n",
       "      <td>min</td>\n",
       "      <td>1.000000</td>\n",
       "      <td>1.918800</td>\n",
       "      <td>0.030160</td>\n",
       "      <td>0.144144</td>\n",
       "      <td>24.148801</td>\n",
       "      <td>15.132</td>\n",
       "      <td>0.034320</td>\n",
       "      <td>0.234208</td>\n",
       "      <td>45.076721</td>\n",
       "      <td>4.622800</td>\n",
       "    </tr>\n",
       "    <tr>\n",
       "      <td>25%</td>\n",
       "      <td>823.000000</td>\n",
       "      <td>72.115684</td>\n",
       "      <td>20.193680</td>\n",
       "      <td>95.135044</td>\n",
       "      <td>40.807002</td>\n",
       "      <td>15.132</td>\n",
       "      <td>25.053600</td>\n",
       "      <td>6.762756</td>\n",
       "      <td>46.094879</td>\n",
       "      <td>22.058401</td>\n",
       "    </tr>\n",
       "    <tr>\n",
       "      <td>50%</td>\n",
       "      <td>1619.000000</td>\n",
       "      <td>100.158234</td>\n",
       "      <td>40.142956</td>\n",
       "      <td>235.194977</td>\n",
       "      <td>45.234282</td>\n",
       "      <td>15.132</td>\n",
       "      <td>42.076324</td>\n",
       "      <td>9.017009</td>\n",
       "      <td>46.279999</td>\n",
       "      <td>30.066399</td>\n",
       "    </tr>\n",
       "    <tr>\n",
       "      <td>75%</td>\n",
       "      <td>2434.000000</td>\n",
       "      <td>126.060484</td>\n",
       "      <td>70.227558</td>\n",
       "      <td>276.252014</td>\n",
       "      <td>76.124619</td>\n",
       "      <td>15.132</td>\n",
       "      <td>64.212723</td>\n",
       "      <td>11.886057</td>\n",
       "      <td>48.089603</td>\n",
       "      <td>43.862003</td>\n",
       "    </tr>\n",
       "    <tr>\n",
       "      <td>max</td>\n",
       "      <td>3241.000000</td>\n",
       "      <td>330.314424</td>\n",
       "      <td>282.780152</td>\n",
       "      <td>385.008668</td>\n",
       "      <td>113.231044</td>\n",
       "      <td>15.132</td>\n",
       "      <td>180.454575</td>\n",
       "      <td>32.847674</td>\n",
       "      <td>102.762401</td>\n",
       "      <td>90.053604</td>\n",
       "    </tr>\n",
       "  </tbody>\n",
       "</table>\n",
       "</div>"
      ],
      "text/plain": [
       "               key       Wire 1       Wire 2      Wire 3      Wire 4  Wire 5  \\\n",
       "count  3081.000000  3055.000000  1079.000000   63.000000   14.000000   1.000   \n",
       "mean   1623.426485   100.895853    50.577323  189.482681   57.442841  15.132   \n",
       "std     932.996726    42.012518    39.320216   99.513444   28.824667     NaN   \n",
       "min       1.000000     1.918800     0.030160    0.144144   24.148801  15.132   \n",
       "25%     823.000000    72.115684    20.193680   95.135044   40.807002  15.132   \n",
       "50%    1619.000000   100.158234    40.142956  235.194977   45.234282  15.132   \n",
       "75%    2434.000000   126.060484    70.227558  276.252014   76.124619  15.132   \n",
       "max    3241.000000   330.314424   282.780152  385.008668  113.231044  15.132   \n",
       "\n",
       "           Wire 6     Wire 7      Wire 8     Wire 9  \n",
       "count   73.000000  11.000000   19.000000  29.000000  \n",
       "mean    48.016974  10.039007   53.625193  34.155752  \n",
       "std     33.919845   8.610584   16.881728  19.931616  \n",
       "min      0.034320   0.234208   45.076721   4.622800  \n",
       "25%     25.053600   6.762756   46.094879  22.058401  \n",
       "50%     42.076324   9.017009   46.279999  30.066399  \n",
       "75%     64.212723  11.886057   48.089603  43.862003  \n",
       "max    180.454575  32.847674  102.762401  90.053604  "
      ]
     },
     "execution_count": 21,
     "metadata": {},
     "output_type": "execute_result"
    }
   ],
   "source": [
    "data_wire.describe()"
   ]
  },
  {
   "cell_type": "markdown",
   "metadata": {
    "id": "_i0-N9QtUJAA"
   },
   "source": [
    "Пропущенные значения означают, что какую-то проволоку не добавляли."
   ]
  },
  {
   "cell_type": "markdown",
   "metadata": {
    "id": "hJ5MLnLdUJAA"
   },
   "source": [
    "### 1.7 data_wire_time"
   ]
  },
  {
   "cell_type": "code",
   "execution_count": 22,
   "metadata": {
    "colab": {
     "base_uri": "https://localhost:8080/"
    },
    "id": "8a4fYjatUJAA",
    "outputId": "cabd72a7-7ec4-4ac5-bd32-3119c5e23207"
   },
   "outputs": [
    {
     "name": "stdout",
     "output_type": "stream",
     "text": [
      "<class 'pandas.core.frame.DataFrame'>\n",
      "RangeIndex: 3081 entries, 0 to 3080\n",
      "Data columns (total 10 columns):\n",
      "key       3081 non-null int64\n",
      "Wire 1    3055 non-null object\n",
      "Wire 2    1079 non-null object\n",
      "Wire 3    63 non-null object\n",
      "Wire 4    14 non-null object\n",
      "Wire 5    1 non-null object\n",
      "Wire 6    73 non-null object\n",
      "Wire 7    11 non-null object\n",
      "Wire 8    19 non-null object\n",
      "Wire 9    29 non-null object\n",
      "dtypes: int64(1), object(9)\n",
      "memory usage: 240.8+ KB\n"
     ]
    }
   ],
   "source": [
    "data_wire_time.info()"
   ]
  },
  {
   "cell_type": "code",
   "execution_count": 23,
   "metadata": {
    "colab": {
     "base_uri": "https://localhost:8080/",
     "height": 204
    },
    "id": "lD6oaJYuUJAA",
    "outputId": "82527559-9d29-47b9-a026-9ae7bbfb39d2"
   },
   "outputs": [
    {
     "data": {
      "text/html": [
       "<div>\n",
       "<style scoped>\n",
       "    .dataframe tbody tr th:only-of-type {\n",
       "        vertical-align: middle;\n",
       "    }\n",
       "\n",
       "    .dataframe tbody tr th {\n",
       "        vertical-align: top;\n",
       "    }\n",
       "\n",
       "    .dataframe thead th {\n",
       "        text-align: right;\n",
       "    }\n",
       "</style>\n",
       "<table border=\"1\" class=\"dataframe\">\n",
       "  <thead>\n",
       "    <tr style=\"text-align: right;\">\n",
       "      <th></th>\n",
       "      <th>key</th>\n",
       "      <th>Wire 1</th>\n",
       "      <th>Wire 2</th>\n",
       "      <th>Wire 3</th>\n",
       "      <th>Wire 4</th>\n",
       "      <th>Wire 5</th>\n",
       "      <th>Wire 6</th>\n",
       "      <th>Wire 7</th>\n",
       "      <th>Wire 8</th>\n",
       "      <th>Wire 9</th>\n",
       "    </tr>\n",
       "  </thead>\n",
       "  <tbody>\n",
       "    <tr>\n",
       "      <td>0</td>\n",
       "      <td>1</td>\n",
       "      <td>2019-05-03 11:11:41</td>\n",
       "      <td>NaN</td>\n",
       "      <td>NaN</td>\n",
       "      <td>NaN</td>\n",
       "      <td>NaN</td>\n",
       "      <td>NaN</td>\n",
       "      <td>NaN</td>\n",
       "      <td>NaN</td>\n",
       "      <td>NaN</td>\n",
       "    </tr>\n",
       "    <tr>\n",
       "      <td>1</td>\n",
       "      <td>2</td>\n",
       "      <td>2019-05-03 11:46:10</td>\n",
       "      <td>NaN</td>\n",
       "      <td>NaN</td>\n",
       "      <td>NaN</td>\n",
       "      <td>NaN</td>\n",
       "      <td>NaN</td>\n",
       "      <td>NaN</td>\n",
       "      <td>NaN</td>\n",
       "      <td>NaN</td>\n",
       "    </tr>\n",
       "    <tr>\n",
       "      <td>2</td>\n",
       "      <td>3</td>\n",
       "      <td>2019-05-03 12:13:47</td>\n",
       "      <td>NaN</td>\n",
       "      <td>NaN</td>\n",
       "      <td>NaN</td>\n",
       "      <td>NaN</td>\n",
       "      <td>NaN</td>\n",
       "      <td>NaN</td>\n",
       "      <td>NaN</td>\n",
       "      <td>NaN</td>\n",
       "    </tr>\n",
       "    <tr>\n",
       "      <td>3</td>\n",
       "      <td>4</td>\n",
       "      <td>2019-05-03 12:48:05</td>\n",
       "      <td>NaN</td>\n",
       "      <td>NaN</td>\n",
       "      <td>NaN</td>\n",
       "      <td>NaN</td>\n",
       "      <td>NaN</td>\n",
       "      <td>NaN</td>\n",
       "      <td>NaN</td>\n",
       "      <td>NaN</td>\n",
       "    </tr>\n",
       "    <tr>\n",
       "      <td>4</td>\n",
       "      <td>5</td>\n",
       "      <td>2019-05-03 13:18:15</td>\n",
       "      <td>2019-05-03 13:32:06</td>\n",
       "      <td>NaN</td>\n",
       "      <td>NaN</td>\n",
       "      <td>NaN</td>\n",
       "      <td>NaN</td>\n",
       "      <td>NaN</td>\n",
       "      <td>NaN</td>\n",
       "      <td>NaN</td>\n",
       "    </tr>\n",
       "  </tbody>\n",
       "</table>\n",
       "</div>"
      ],
      "text/plain": [
       "   key               Wire 1               Wire 2 Wire 3 Wire 4 Wire 5 Wire 6  \\\n",
       "0    1  2019-05-03 11:11:41                  NaN    NaN    NaN    NaN    NaN   \n",
       "1    2  2019-05-03 11:46:10                  NaN    NaN    NaN    NaN    NaN   \n",
       "2    3  2019-05-03 12:13:47                  NaN    NaN    NaN    NaN    NaN   \n",
       "3    4  2019-05-03 12:48:05                  NaN    NaN    NaN    NaN    NaN   \n",
       "4    5  2019-05-03 13:18:15  2019-05-03 13:32:06    NaN    NaN    NaN    NaN   \n",
       "\n",
       "  Wire 7 Wire 8 Wire 9  \n",
       "0    NaN    NaN    NaN  \n",
       "1    NaN    NaN    NaN  \n",
       "2    NaN    NaN    NaN  \n",
       "3    NaN    NaN    NaN  \n",
       "4    NaN    NaN    NaN  "
      ]
     },
     "execution_count": 23,
     "metadata": {},
     "output_type": "execute_result"
    }
   ],
   "source": [
    "data_wire_time.head()"
   ]
  },
  {
   "cell_type": "markdown",
   "metadata": {
    "id": "IbvLAPwvUJAA"
   },
   "source": [
    "Эти данные относятся к таблице data_wire."
   ]
  },
  {
   "cell_type": "markdown",
   "metadata": {
    "id": "K9hpqqCMUJAA"
   },
   "source": [
    "## 2. Исследовательский анализ"
   ]
  },
  {
   "cell_type": "markdown",
   "metadata": {
    "id": "zZyOWznjUJAA"
   },
   "source": [
    "Приведем данные с датой в таблице **data_arc** к типу datetime"
   ]
  },
  {
   "cell_type": "code",
   "execution_count": 24,
   "metadata": {
    "id": "F6dJ_5IKUJAA"
   },
   "outputs": [],
   "source": [
    "data_arc['Начало нагрева дугой'] = pd.to_datetime(data_arc['Начало нагрева дугой'])"
   ]
  },
  {
   "cell_type": "code",
   "execution_count": 25,
   "metadata": {
    "id": "_Uf35XkJUJAA"
   },
   "outputs": [],
   "source": [
    "data_arc['Конец нагрева дугой'] = pd.to_datetime(data_arc['Конец нагрева дугой'])"
   ]
  },
  {
   "cell_type": "code",
   "execution_count": 26,
   "metadata": {
    "colab": {
     "base_uri": "https://localhost:8080/"
    },
    "id": "187npxWoUJAA",
    "outputId": "12542671-de44-40c8-b42d-c57c2e8a7989"
   },
   "outputs": [
    {
     "name": "stdout",
     "output_type": "stream",
     "text": [
      "<class 'pandas.core.frame.DataFrame'>\n",
      "RangeIndex: 14876 entries, 0 to 14875\n",
      "Data columns (total 5 columns):\n",
      "key                     14876 non-null int64\n",
      "Начало нагрева дугой    14876 non-null datetime64[ns]\n",
      "Конец нагрева дугой     14876 non-null datetime64[ns]\n",
      "Активная мощность       14876 non-null float64\n",
      "Реактивная мощность     14876 non-null float64\n",
      "dtypes: datetime64[ns](2), float64(2), int64(1)\n",
      "memory usage: 581.2 KB\n"
     ]
    }
   ],
   "source": [
    "data_arc.info()"
   ]
  },
  {
   "cell_type": "markdown",
   "metadata": {
    "id": "6NMP1vs5UJAA"
   },
   "source": [
    "Построим распределение столбца **Активная мощность**"
   ]
  },
  {
   "cell_type": "code",
   "execution_count": 27,
   "metadata": {
    "colab": {
     "base_uri": "https://localhost:8080/",
     "height": 333
    },
    "id": "LaFWF_L_UJAA",
    "outputId": "2324e340-8e88-4845-e697-ef21b672d2e8"
   },
   "outputs": [
    {
     "data": {
      "image/png": "[encoded data removed]",
      "text/plain": [
       "<Figure size 432x288 with 1 Axes>"
      ]
     },
     "metadata": {
      "needs_background": "light"
     },
     "output_type": "display_data"
    }
   ],
   "source": [
    "sns.distplot(data_arc['Активная мощность'])\n",
    "plt.show()"
   ]
  },
  {
   "cell_type": "markdown",
   "metadata": {
    "id": "S8aeYdW2UJAA"
   },
   "source": [
    "Распределение похоже на нормальное, немного скошено вправо."
   ]
  },
  {
   "cell_type": "markdown",
   "metadata": {
    "id": "x4MYrqIHUJAA"
   },
   "source": [
    "Пострим распределение для **data_gas**"
   ]
  },
  {
   "cell_type": "code",
   "execution_count": 28,
   "metadata": {
    "colab": {
     "base_uri": "https://localhost:8080/",
     "height": 333
    },
    "id": "NuxlVVYNUJAA",
    "outputId": "6bbed268-0b78-43be-8055-5c6773885fdb"
   },
   "outputs": [
    {
     "data": {
      "image/png": "[encoded data removed]",
      "text/plain": [
       "<Figure size 432x288 with 1 Axes>"
      ]
     },
     "metadata": {
      "needs_background": "light"
     },
     "output_type": "display_data"
    }
   ],
   "source": [
    "sns.distplot(data_gas['Газ 1'])\n",
    "plt.show()"
   ]
  },
  {
   "cell_type": "markdown",
   "metadata": {
    "id": "LlvAUyNmUJAA"
   },
   "source": [
    "Приведем значения столбца со временем таблицы **data_temp** к типу datetime"
   ]
  },
  {
   "cell_type": "code",
   "execution_count": 29,
   "metadata": {
    "id": "W059dVCqUJAA"
   },
   "outputs": [],
   "source": [
    "data_temp['Время замера'] = pd.to_datetime(data_temp['Время замера'])"
   ]
  },
  {
   "cell_type": "code",
   "execution_count": 30,
   "metadata": {
    "colab": {
     "base_uri": "https://localhost:8080/"
    },
    "id": "VR1hkDP_UJAA",
    "outputId": "dafbda2c-a9d1-45c6-bc98-36bcf9c7813f"
   },
   "outputs": [
    {
     "name": "stdout",
     "output_type": "stream",
     "text": [
      "<class 'pandas.core.frame.DataFrame'>\n",
      "RangeIndex: 15907 entries, 0 to 15906\n",
      "Data columns (total 3 columns):\n",
      "key             15907 non-null int64\n",
      "Время замера    15907 non-null datetime64[ns]\n",
      "Температура     13006 non-null float64\n",
      "dtypes: datetime64[ns](1), float64(1), int64(1)\n",
      "memory usage: 372.9 KB\n"
     ]
    }
   ],
   "source": [
    "data_temp.info()"
   ]
  },
  {
   "cell_type": "markdown",
   "metadata": {
    "id": "WJo0nMPoUJAA"
   },
   "source": [
    "Построим распределение столбца \"Температура\""
   ]
  },
  {
   "cell_type": "code",
   "execution_count": 31,
   "metadata": {
    "colab": {
     "base_uri": "https://localhost:8080/",
     "height": 350
    },
    "id": "j9gYirkSUJAA",
    "outputId": "b4860385-430d-4685-d8f0-fdb316305efe"
   },
   "outputs": [
    {
     "data": {
      "text/plain": [
       "<matplotlib.axes._subplots.AxesSubplot at 0x7f964c014d90>"
      ]
     },
     "execution_count": 31,
     "metadata": {},
     "output_type": "execute_result"
    },
    {
     "data": {
      "image/png": "[encoded data removed]",
      "text/plain": [
       "<Figure size 432x288 with 1 Axes>"
      ]
     },
     "metadata": {
      "needs_background": "light"
     },
     "output_type": "display_data"
    }
   ],
   "source": [
    "sns.boxplot(data_temp['Температура'])"
   ]
  },
  {
   "cell_type": "markdown",
   "metadata": {
    "id": "DCrosc02UJAA"
   },
   "source": [
    "Основное количество данных данных лежит в достаточно узком диапазоне. Аномальных значений температуры совсем мало по сравнению со всем количеством данных.  \n",
    "Удалим пропущеные значения целевого признака."
   ]
  },
  {
   "cell_type": "code",
   "execution_count": 32,
   "metadata": {
    "id": "6n5ggbfWUJAA"
   },
   "outputs": [],
   "source": [
    "data_temp.dropna(inplace=True)"
   ]
  },
  {
   "cell_type": "code",
   "execution_count": 33,
   "metadata": {
    "colab": {
     "base_uri": "https://localhost:8080/"
    },
    "id": "WnO2_zcwF9Ij",
    "outputId": "708f73de-3d5e-4950-9ae9-4b6667bbe26d"
   },
   "outputs": [
    {
     "name": "stdout",
     "output_type": "stream",
     "text": [
      "<class 'pandas.core.frame.DataFrame'>\n",
      "Int64Index: 13006 entries, 0 to 15902\n",
      "Data columns (total 3 columns):\n",
      "key             13006 non-null int64\n",
      "Время замера    13006 non-null datetime64[ns]\n",
      "Температура     13006 non-null float64\n",
      "dtypes: datetime64[ns](1), float64(1), int64(1)\n",
      "memory usage: 406.4 KB\n"
     ]
    }
   ],
   "source": [
    "data_temp.info()"
   ]
  },
  {
   "cell_type": "code",
   "execution_count": 34,
   "metadata": {
    "colab": {
     "base_uri": "https://localhost:8080/",
     "height": 333
    },
    "id": "Zuek64TjUJAA",
    "outputId": "fb105ee2-f4f5-4f2d-992e-1aba5c8835f6"
   },
   "outputs": [
    {
     "data": {
      "image/png": "[encoded data removed]",
      "text/plain": [
       "<Figure size 432x288 with 1 Axes>"
      ]
     },
     "metadata": {
      "needs_background": "light"
     },
     "output_type": "display_data"
    }
   ],
   "source": [
    "sns.distplot(data_temp['Температура'])\n",
    "plt.show()"
   ]
  },
  {
   "cell_type": "code",
   "execution_count": 35,
   "metadata": {
    "colab": {
     "base_uri": "https://localhost:8080/"
    },
    "id": "wreruVSVUJAA",
    "outputId": "42320fa9-dc75-4819-94f7-23cec14d109a"
   },
   "outputs": [
    {
     "name": "stdout",
     "output_type": "stream",
     "text": [
      "<class 'pandas.core.frame.DataFrame'>\n",
      "Int64Index: 13006 entries, 0 to 15902\n",
      "Data columns (total 3 columns):\n",
      "key             13006 non-null int64\n",
      "Время замера    13006 non-null datetime64[ns]\n",
      "Температура     13006 non-null float64\n",
      "dtypes: datetime64[ns](1), float64(1), int64(1)\n",
      "memory usage: 406.4 KB\n"
     ]
    }
   ],
   "source": [
    "data_temp.info()"
   ]
  },
  {
   "cell_type": "markdown",
   "metadata": {
    "id": "W2PnGQkEUJAA"
   },
   "source": [
    "Пропуски обработаны."
   ]
  },
  {
   "cell_type": "markdown",
   "metadata": {
    "id": "LBviSuZIUJAA"
   },
   "source": [
    "# 3. Подготовка признаков"
   ]
  },
  {
   "cell_type": "markdown",
   "metadata": {
    "id": "nbGtCPULUJAA"
   },
   "source": [
    "**решить, нужно ли заполнять пропуски в целевом признаке - температуре**"
   ]
  },
  {
   "cell_type": "markdown",
   "metadata": {
    "id": "DltALXsTUJAA"
   },
   "source": [
    "Создадим итоговый датасет, на котором будем обучать модели.  \n",
    "Он будет основан на наборе данных **data_temp**. "
   ]
  },
  {
   "cell_type": "markdown",
   "metadata": {
    "id": "wuM89OmlUJAA"
   },
   "source": [
    "Избавимся от промежуточных температур. Будем использовать только конечную."
   ]
  },
  {
   "cell_type": "code",
   "execution_count": 36,
   "metadata": {
    "colab": {
     "base_uri": "https://localhost:8080/",
     "height": 514
    },
    "id": "TfD3z9G9UJAA",
    "outputId": "33db7d33-9683-41b8-f9e3-ff20c2341f03"
   },
   "outputs": [
    {
     "data": {
      "text/html": [
       "<div>\n",
       "<style scoped>\n",
       "    .dataframe tbody tr th:only-of-type {\n",
       "        vertical-align: middle;\n",
       "    }\n",
       "\n",
       "    .dataframe tbody tr th {\n",
       "        vertical-align: top;\n",
       "    }\n",
       "\n",
       "    .dataframe thead th {\n",
       "        text-align: right;\n",
       "    }\n",
       "</style>\n",
       "<table border=\"1\" class=\"dataframe\">\n",
       "  <thead>\n",
       "    <tr style=\"text-align: right;\">\n",
       "      <th></th>\n",
       "      <th>key</th>\n",
       "      <th>Время замера</th>\n",
       "      <th>Температура</th>\n",
       "    </tr>\n",
       "  </thead>\n",
       "  <tbody>\n",
       "    <tr>\n",
       "      <td>0</td>\n",
       "      <td>1</td>\n",
       "      <td>2019-05-03 11:16:18</td>\n",
       "      <td>1571.0</td>\n",
       "    </tr>\n",
       "    <tr>\n",
       "      <td>1</td>\n",
       "      <td>1</td>\n",
       "      <td>2019-05-03 11:25:53</td>\n",
       "      <td>1604.0</td>\n",
       "    </tr>\n",
       "    <tr>\n",
       "      <td>2</td>\n",
       "      <td>1</td>\n",
       "      <td>2019-05-03 11:29:11</td>\n",
       "      <td>1618.0</td>\n",
       "    </tr>\n",
       "    <tr>\n",
       "      <td>3</td>\n",
       "      <td>1</td>\n",
       "      <td>2019-05-03 11:30:01</td>\n",
       "      <td>1601.0</td>\n",
       "    </tr>\n",
       "    <tr>\n",
       "      <td>4</td>\n",
       "      <td>1</td>\n",
       "      <td>2019-05-03 11:30:39</td>\n",
       "      <td>1613.0</td>\n",
       "    </tr>\n",
       "    <tr>\n",
       "      <td>5</td>\n",
       "      <td>2</td>\n",
       "      <td>2019-05-03 11:37:27</td>\n",
       "      <td>1581.0</td>\n",
       "    </tr>\n",
       "    <tr>\n",
       "      <td>6</td>\n",
       "      <td>2</td>\n",
       "      <td>2019-05-03 11:38:00</td>\n",
       "      <td>1577.0</td>\n",
       "    </tr>\n",
       "    <tr>\n",
       "      <td>7</td>\n",
       "      <td>2</td>\n",
       "      <td>2019-05-03 11:49:38</td>\n",
       "      <td>1589.0</td>\n",
       "    </tr>\n",
       "    <tr>\n",
       "      <td>8</td>\n",
       "      <td>2</td>\n",
       "      <td>2019-05-03 11:55:50</td>\n",
       "      <td>1604.0</td>\n",
       "    </tr>\n",
       "    <tr>\n",
       "      <td>9</td>\n",
       "      <td>2</td>\n",
       "      <td>2019-05-03 11:58:24</td>\n",
       "      <td>1608.0</td>\n",
       "    </tr>\n",
       "    <tr>\n",
       "      <td>10</td>\n",
       "      <td>2</td>\n",
       "      <td>2019-05-03 11:59:12</td>\n",
       "      <td>1602.0</td>\n",
       "    </tr>\n",
       "    <tr>\n",
       "      <td>11</td>\n",
       "      <td>3</td>\n",
       "      <td>2019-05-03 12:13:17</td>\n",
       "      <td>1596.0</td>\n",
       "    </tr>\n",
       "    <tr>\n",
       "      <td>12</td>\n",
       "      <td>3</td>\n",
       "      <td>2019-05-03 12:18:36</td>\n",
       "      <td>1597.0</td>\n",
       "    </tr>\n",
       "    <tr>\n",
       "      <td>13</td>\n",
       "      <td>3</td>\n",
       "      <td>2019-05-03 12:25:06</td>\n",
       "      <td>1598.0</td>\n",
       "    </tr>\n",
       "    <tr>\n",
       "      <td>14</td>\n",
       "      <td>3</td>\n",
       "      <td>2019-05-03 12:30:48</td>\n",
       "      <td>1599.0</td>\n",
       "    </tr>\n",
       "  </tbody>\n",
       "</table>\n",
       "</div>"
      ],
      "text/plain": [
       "    key        Время замера  Температура\n",
       "0     1 2019-05-03 11:16:18       1571.0\n",
       "1     1 2019-05-03 11:25:53       1604.0\n",
       "2     1 2019-05-03 11:29:11       1618.0\n",
       "3     1 2019-05-03 11:30:01       1601.0\n",
       "4     1 2019-05-03 11:30:39       1613.0\n",
       "5     2 2019-05-03 11:37:27       1581.0\n",
       "6     2 2019-05-03 11:38:00       1577.0\n",
       "7     2 2019-05-03 11:49:38       1589.0\n",
       "8     2 2019-05-03 11:55:50       1604.0\n",
       "9     2 2019-05-03 11:58:24       1608.0\n",
       "10    2 2019-05-03 11:59:12       1602.0\n",
       "11    3 2019-05-03 12:13:17       1596.0\n",
       "12    3 2019-05-03 12:18:36       1597.0\n",
       "13    3 2019-05-03 12:25:06       1598.0\n",
       "14    3 2019-05-03 12:30:48       1599.0"
      ]
     },
     "execution_count": 36,
     "metadata": {},
     "output_type": "execute_result"
    }
   ],
   "source": [
    "data_temp.head(15)"
   ]
  },
  {
   "cell_type": "code",
   "execution_count": 37,
   "metadata": {
    "id": "kfbgKry2UJAA"
   },
   "outputs": [],
   "source": [
    "data = data_temp.drop(['Время замера'], axis=1) # удалим столбец со временем"
   ]
  },
  {
   "cell_type": "code",
   "execution_count": 38,
   "metadata": {
    "colab": {
     "base_uri": "https://localhost:8080/"
    },
    "id": "6KIkkJSBJHn0",
    "outputId": "bca3769f-e7ec-49cd-898b-27084eebc3bf"
   },
   "outputs": [
    {
     "name": "stdout",
     "output_type": "stream",
     "text": [
      "<class 'pandas.core.frame.DataFrame'>\n",
      "Int64Index: 13006 entries, 0 to 15902\n",
      "Data columns (total 2 columns):\n",
      "key            13006 non-null int64\n",
      "Температура    13006 non-null float64\n",
      "dtypes: float64(1), int64(1)\n",
      "memory usage: 304.8 KB\n"
     ]
    }
   ],
   "source": [
    "data.info()"
   ]
  },
  {
   "cell_type": "code",
   "execution_count": 39,
   "metadata": {
    "id": "VeYbPsqtUJAA"
   },
   "outputs": [],
   "source": [
    "# сгруппируем оставшийся датасет по key и возьмем последний элемент (конечная температура)\n",
    "data_last = data.groupby(['key'], axis=0, as_index=False).last() # конечная температура этапа\n",
    "data_first = data.groupby(['key'], axis=0, as_index=False).first() # начальная температура этапа                                           "
   ]
  },
  {
   "cell_type": "code",
   "execution_count": 40,
   "metadata": {
    "colab": {
     "base_uri": "https://localhost:8080/"
    },
    "id": "pm0kBjLRUJAA",
    "outputId": "0177730e-04f6-4d06-e3c2-5b85e450c74f"
   },
   "outputs": [
    {
     "name": "stdout",
     "output_type": "stream",
     "text": [
      "<class 'pandas.core.frame.DataFrame'>\n",
      "Int64Index: 3216 entries, 0 to 3215\n",
      "Data columns (total 2 columns):\n",
      "key            3216 non-null int64\n",
      "Температура    3216 non-null float64\n",
      "dtypes: float64(1), int64(1)\n",
      "memory usage: 75.4 KB\n"
     ]
    }
   ],
   "source": [
    "data_last.info()"
   ]
  },
  {
   "cell_type": "code",
   "execution_count": 41,
   "metadata": {
    "colab": {
     "base_uri": "https://localhost:8080/"
    },
    "id": "oKexjPELHYiO",
    "outputId": "70f8d251-cc6e-417a-be1c-966402db4cd9"
   },
   "outputs": [
    {
     "name": "stdout",
     "output_type": "stream",
     "text": [
      "<class 'pandas.core.frame.DataFrame'>\n",
      "Int64Index: 3216 entries, 0 to 3215\n",
      "Data columns (total 2 columns):\n",
      "key            3216 non-null int64\n",
      "Температура    3216 non-null float64\n",
      "dtypes: float64(1), int64(1)\n",
      "memory usage: 75.4 KB\n"
     ]
    }
   ],
   "source": [
    "data_first.info()"
   ]
  },
  {
   "cell_type": "code",
   "execution_count": 42,
   "metadata": {
    "id": "tibxrBTnHd_0"
   },
   "outputs": [],
   "source": [
    "# создадим датасет, состоящий из начальной температуры этапа, конечной и номера этапа\n",
    "data = pd.merge(data_first, data_last, how ='inner', on ='key') "
   ]
  },
  {
   "cell_type": "code",
   "execution_count": 43,
   "metadata": {
    "colab": {
     "base_uri": "https://localhost:8080/"
    },
    "id": "zXNISRA1JUiC",
    "outputId": "194e0654-dc1c-469c-ab4d-69ad8580dc20"
   },
   "outputs": [
    {
     "name": "stdout",
     "output_type": "stream",
     "text": [
      "<class 'pandas.core.frame.DataFrame'>\n",
      "Int64Index: 3216 entries, 0 to 3215\n",
      "Data columns (total 3 columns):\n",
      "key              3216 non-null int64\n",
      "Температура_x    3216 non-null float64\n",
      "Температура_y    3216 non-null float64\n",
      "dtypes: float64(2), int64(1)\n",
      "memory usage: 100.5 KB\n"
     ]
    }
   ],
   "source": [
    "data.info()"
   ]
  },
  {
   "cell_type": "code",
   "execution_count": 44,
   "metadata": {
    "colab": {
     "base_uri": "https://localhost:8080/",
     "height": 204
    },
    "id": "Uy3WaA61KWZB",
    "outputId": "af98a798-6898-4d5e-e831-dad2b407966d"
   },
   "outputs": [
    {
     "data": {
      "text/html": [
       "<div>\n",
       "<style scoped>\n",
       "    .dataframe tbody tr th:only-of-type {\n",
       "        vertical-align: middle;\n",
       "    }\n",
       "\n",
       "    .dataframe tbody tr th {\n",
       "        vertical-align: top;\n",
       "    }\n",
       "\n",
       "    .dataframe thead th {\n",
       "        text-align: right;\n",
       "    }\n",
       "</style>\n",
       "<table border=\"1\" class=\"dataframe\">\n",
       "  <thead>\n",
       "    <tr style=\"text-align: right;\">\n",
       "      <th></th>\n",
       "      <th>key</th>\n",
       "      <th>Температура_x</th>\n",
       "      <th>Температура_y</th>\n",
       "    </tr>\n",
       "  </thead>\n",
       "  <tbody>\n",
       "    <tr>\n",
       "      <td>0</td>\n",
       "      <td>1</td>\n",
       "      <td>1571.0</td>\n",
       "      <td>1613.0</td>\n",
       "    </tr>\n",
       "    <tr>\n",
       "      <td>1</td>\n",
       "      <td>2</td>\n",
       "      <td>1581.0</td>\n",
       "      <td>1602.0</td>\n",
       "    </tr>\n",
       "    <tr>\n",
       "      <td>2</td>\n",
       "      <td>3</td>\n",
       "      <td>1596.0</td>\n",
       "      <td>1599.0</td>\n",
       "    </tr>\n",
       "    <tr>\n",
       "      <td>3</td>\n",
       "      <td>4</td>\n",
       "      <td>1601.0</td>\n",
       "      <td>1625.0</td>\n",
       "    </tr>\n",
       "    <tr>\n",
       "      <td>4</td>\n",
       "      <td>5</td>\n",
       "      <td>1576.0</td>\n",
       "      <td>1602.0</td>\n",
       "    </tr>\n",
       "  </tbody>\n",
       "</table>\n",
       "</div>"
      ],
      "text/plain": [
       "   key  Температура_x  Температура_y\n",
       "0    1         1571.0         1613.0\n",
       "1    2         1581.0         1602.0\n",
       "2    3         1596.0         1599.0\n",
       "3    4         1601.0         1625.0\n",
       "4    5         1576.0         1602.0"
      ]
     },
     "execution_count": 44,
     "metadata": {},
     "output_type": "execute_result"
    }
   ],
   "source": [
    "data.head()"
   ]
  },
  {
   "cell_type": "markdown",
   "metadata": {
    "id": "EhqEMfqdHe3k"
   },
   "source": [
    "Сравним начальные и конечные температуры каждого этапа. Если они одинаковые, то не будем брать их в расчеты и удалим из датасета эти значения."
   ]
  },
  {
   "cell_type": "code",
   "execution_count": 46,
   "metadata": {
    "id": "Z7RjydWyILXL"
   },
   "outputs": [],
   "source": [
    "data['temp'] = data['Температура_x'] == data['Температура_y']"
   ]
  },
  {
   "cell_type": "code",
   "execution_count": 47,
   "metadata": {
    "colab": {
     "base_uri": "https://localhost:8080/"
    },
    "id": "yBbySK-MUJAA",
    "outputId": "ee6be87b-16e2-4f61-dc87-26d080a2299e",
    "scrolled": true
   },
   "outputs": [
    {
     "name": "stdout",
     "output_type": "stream",
     "text": [
      "<class 'pandas.core.frame.DataFrame'>\n",
      "Int64Index: 3216 entries, 0 to 3215\n",
      "Data columns (total 4 columns):\n",
      "key              3216 non-null int64\n",
      "Температура_x    3216 non-null float64\n",
      "Температура_y    3216 non-null float64\n",
      "temp             3216 non-null bool\n",
      "dtypes: bool(1), float64(2), int64(1)\n",
      "memory usage: 103.6 KB\n"
     ]
    }
   ],
   "source": [
    "data.info() "
   ]
  },
  {
   "cell_type": "code",
   "execution_count": 48,
   "metadata": {
    "colab": {
     "base_uri": "https://localhost:8080/"
    },
    "id": "dXdMtBYTLG2K",
    "outputId": "170e85d2-746b-4e50-d21b-3d615f16f657"
   },
   "outputs": [
    {
     "data": {
      "text/plain": [
       "783"
      ]
     },
     "execution_count": 48,
     "metadata": {},
     "output_type": "execute_result"
    }
   ],
   "source": [
    "data['temp'].sum()"
   ]
  },
  {
   "cell_type": "markdown",
   "metadata": {
    "id": "n0BRwd5cLczB"
   },
   "source": [
    "Получили 783 значения с одинаковыми начальными и конечными температурами. Удалим их из набора."
   ]
  },
  {
   "cell_type": "code",
   "execution_count": 49,
   "metadata": {
    "id": "fDieJAsbLOmV"
   },
   "outputs": [],
   "source": [
    "data = data[data['temp'] == False]"
   ]
  },
  {
   "cell_type": "code",
   "execution_count": 50,
   "metadata": {
    "colab": {
     "base_uri": "https://localhost:8080/"
    },
    "id": "zxDddFFxONCO",
    "outputId": "a9c7a385-579f-4a34-96dc-a4a889d96cf2"
   },
   "outputs": [
    {
     "name": "stdout",
     "output_type": "stream",
     "text": [
      "<class 'pandas.core.frame.DataFrame'>\n",
      "Int64Index: 2433 entries, 0 to 2476\n",
      "Data columns (total 4 columns):\n",
      "key              2433 non-null int64\n",
      "Температура_x    2433 non-null float64\n",
      "Температура_y    2433 non-null float64\n",
      "temp             2433 non-null bool\n",
      "dtypes: bool(1), float64(2), int64(1)\n",
      "memory usage: 78.4 KB\n"
     ]
    }
   ],
   "source": [
    "data.info()"
   ]
  },
  {
   "cell_type": "markdown",
   "metadata": {
    "id": "2eCiehmQOgug"
   },
   "source": [
    "Удалим ненужный больше столбец temp и переименуем \"Температуры\""
   ]
  },
  {
   "cell_type": "code",
   "execution_count": 51,
   "metadata": {
    "id": "x_hhbU89OoXY"
   },
   "outputs": [],
   "source": [
    "data = data.drop('temp', axis=1)"
   ]
  },
  {
   "cell_type": "code",
   "execution_count": 52,
   "metadata": {
    "id": "hWwWNmTnNAj5"
   },
   "outputs": [],
   "source": [
    "data.columns=['key', 'temp_1', 'temp_2']"
   ]
  },
  {
   "cell_type": "code",
   "execution_count": 53,
   "metadata": {
    "colab": {
     "base_uri": "https://localhost:8080/"
    },
    "id": "5uayXX1YL6-F",
    "outputId": "151ea54d-a190-457c-a007-8fa987c1c94c"
   },
   "outputs": [
    {
     "name": "stdout",
     "output_type": "stream",
     "text": [
      "<class 'pandas.core.frame.DataFrame'>\n",
      "Int64Index: 2433 entries, 0 to 2476\n",
      "Data columns (total 3 columns):\n",
      "key       2433 non-null int64\n",
      "temp_1    2433 non-null float64\n",
      "temp_2    2433 non-null float64\n",
      "dtypes: float64(2), int64(1)\n",
      "memory usage: 76.0 KB\n"
     ]
    }
   ],
   "source": [
    "data.info()"
   ]
  },
  {
   "cell_type": "code",
   "execution_count": null,
   "metadata": {
    "id": "qRYzcbG_MWC8"
   },
   "outputs": [],
   "source": []
  },
  {
   "cell_type": "markdown",
   "metadata": {
    "id": "_BgGsdcSUJAK"
   },
   "source": [
    "Заполним пропущенные значения в таблице data_wire нулями (т.к. пропуск означает, сто этой проволоки не добавляли)."
   ]
  },
  {
   "cell_type": "code",
   "execution_count": 54,
   "metadata": {
    "colab": {
     "base_uri": "https://localhost:8080/"
    },
    "id": "W7CTtbPlUJAK",
    "outputId": "44a051a5-1abe-4266-b591-b1cca3f909ea"
   },
   "outputs": [
    {
     "name": "stdout",
     "output_type": "stream",
     "text": [
      "<class 'pandas.core.frame.DataFrame'>\n",
      "RangeIndex: 3081 entries, 0 to 3080\n",
      "Data columns (total 10 columns):\n",
      "key       3081 non-null int64\n",
      "Wire 1    3055 non-null float64\n",
      "Wire 2    1079 non-null float64\n",
      "Wire 3    63 non-null float64\n",
      "Wire 4    14 non-null float64\n",
      "Wire 5    1 non-null float64\n",
      "Wire 6    73 non-null float64\n",
      "Wire 7    11 non-null float64\n",
      "Wire 8    19 non-null float64\n",
      "Wire 9    29 non-null float64\n",
      "dtypes: float64(9), int64(1)\n",
      "memory usage: 240.8 KB\n"
     ]
    }
   ],
   "source": [
    "data_wire.info()"
   ]
  },
  {
   "cell_type": "code",
   "execution_count": 55,
   "metadata": {
    "id": "G39aBO40UJAK"
   },
   "outputs": [],
   "source": [
    "data_wire = data_wire.fillna(0)"
   ]
  },
  {
   "cell_type": "code",
   "execution_count": 58,
   "metadata": {
    "colab": {
     "base_uri": "https://localhost:8080/"
    },
    "id": "3oR7EJqeUJAK",
    "outputId": "448998e2-6c47-467b-98e5-9ed472599bfd"
   },
   "outputs": [
    {
     "name": "stdout",
     "output_type": "stream",
     "text": [
      "<class 'pandas.core.frame.DataFrame'>\n",
      "RangeIndex: 3081 entries, 0 to 3080\n",
      "Data columns (total 10 columns):\n",
      "key       3081 non-null int64\n",
      "Wire 1    3081 non-null float64\n",
      "Wire 2    3081 non-null float64\n",
      "Wire 3    3081 non-null float64\n",
      "Wire 4    3081 non-null float64\n",
      "Wire 5    3081 non-null float64\n",
      "Wire 6    3081 non-null float64\n",
      "Wire 7    3081 non-null float64\n",
      "Wire 8    3081 non-null float64\n",
      "Wire 9    3081 non-null float64\n",
      "dtypes: float64(9), int64(1)\n",
      "memory usage: 240.8 KB\n"
     ]
    }
   ],
   "source": [
    "data_wire.info()"
   ]
  },
  {
   "cell_type": "markdown",
   "metadata": {
    "id": "wimC_X3lUJAK"
   },
   "source": [
    "Добавим данные из получившегося датасета ***data_wire** в **data**"
   ]
  },
  {
   "cell_type": "code",
   "execution_count": 59,
   "metadata": {
    "colab": {
     "base_uri": "https://localhost:8080/"
    },
    "id": "4Zw4n-elUJAK",
    "outputId": "cb52b71f-b3d7-4341-c6d5-871aeaf9bfe7"
   },
   "outputs": [
    {
     "name": "stdout",
     "output_type": "stream",
     "text": [
      "<class 'pandas.core.frame.DataFrame'>\n",
      "Int64Index: 2433 entries, 0 to 2476\n",
      "Data columns (total 3 columns):\n",
      "key       2433 non-null int64\n",
      "temp_1    2433 non-null float64\n",
      "temp_2    2433 non-null float64\n",
      "dtypes: float64(2), int64(1)\n",
      "memory usage: 76.0 KB\n"
     ]
    }
   ],
   "source": [
    "data.info()"
   ]
  },
  {
   "cell_type": "code",
   "execution_count": 60,
   "metadata": {
    "id": "iSvR4oQsUJAK"
   },
   "outputs": [],
   "source": [
    "data_1 = data.merge(data_wire, on='key', how='inner')"
   ]
  },
  {
   "cell_type": "code",
   "execution_count": 61,
   "metadata": {
    "colab": {
     "base_uri": "https://localhost:8080/"
    },
    "id": "krWF1A62UJAK",
    "outputId": "df3990df-f201-429a-cafb-2efef0b6b11a"
   },
   "outputs": [
    {
     "name": "stdout",
     "output_type": "stream",
     "text": [
      "<class 'pandas.core.frame.DataFrame'>\n",
      "Int64Index: 2336 entries, 0 to 2335\n",
      "Data columns (total 12 columns):\n",
      "key       2336 non-null int64\n",
      "temp_1    2336 non-null float64\n",
      "temp_2    2336 non-null float64\n",
      "Wire 1    2336 non-null float64\n",
      "Wire 2    2336 non-null float64\n",
      "Wire 3    2336 non-null float64\n",
      "Wire 4    2336 non-null float64\n",
      "Wire 5    2336 non-null float64\n",
      "Wire 6    2336 non-null float64\n",
      "Wire 7    2336 non-null float64\n",
      "Wire 8    2336 non-null float64\n",
      "Wire 9    2336 non-null float64\n",
      "dtypes: float64(11), int64(1)\n",
      "memory usage: 237.2 KB\n"
     ]
    }
   ],
   "source": [
    "data_1.info()"
   ]
  },
  {
   "cell_type": "markdown",
   "metadata": {
    "id": "kxKjA8mlUJAK"
   },
   "source": [
    "Выделим признаки из столбца **data_arc**"
   ]
  },
  {
   "cell_type": "code",
   "execution_count": 62,
   "metadata": {
    "id": "2Fsz4uHiUJAK"
   },
   "outputs": [],
   "source": [
    "data = data_1"
   ]
  },
  {
   "cell_type": "code",
   "execution_count": 63,
   "metadata": {
    "colab": {
     "base_uri": "https://localhost:8080/",
     "height": 514
    },
    "id": "fFW8QO7RUJAK",
    "outputId": "a9b53bdf-19f3-43e4-f295-de642961d4e3"
   },
   "outputs": [
    {
     "data": {
      "text/html": [
       "<div>\n",
       "<style scoped>\n",
       "    .dataframe tbody tr th:only-of-type {\n",
       "        vertical-align: middle;\n",
       "    }\n",
       "\n",
       "    .dataframe tbody tr th {\n",
       "        vertical-align: top;\n",
       "    }\n",
       "\n",
       "    .dataframe thead th {\n",
       "        text-align: right;\n",
       "    }\n",
       "</style>\n",
       "<table border=\"1\" class=\"dataframe\">\n",
       "  <thead>\n",
       "    <tr style=\"text-align: right;\">\n",
       "      <th></th>\n",
       "      <th>key</th>\n",
       "      <th>Начало нагрева дугой</th>\n",
       "      <th>Конец нагрева дугой</th>\n",
       "      <th>Активная мощность</th>\n",
       "      <th>Реактивная мощность</th>\n",
       "    </tr>\n",
       "  </thead>\n",
       "  <tbody>\n",
       "    <tr>\n",
       "      <td>0</td>\n",
       "      <td>1</td>\n",
       "      <td>2019-05-03 11:02:14</td>\n",
       "      <td>2019-05-03 11:06:02</td>\n",
       "      <td>0.976059</td>\n",
       "      <td>0.687084</td>\n",
       "    </tr>\n",
       "    <tr>\n",
       "      <td>1</td>\n",
       "      <td>1</td>\n",
       "      <td>2019-05-03 11:07:28</td>\n",
       "      <td>2019-05-03 11:10:33</td>\n",
       "      <td>0.805607</td>\n",
       "      <td>0.520285</td>\n",
       "    </tr>\n",
       "    <tr>\n",
       "      <td>2</td>\n",
       "      <td>1</td>\n",
       "      <td>2019-05-03 11:11:44</td>\n",
       "      <td>2019-05-03 11:14:36</td>\n",
       "      <td>0.744363</td>\n",
       "      <td>0.498805</td>\n",
       "    </tr>\n",
       "    <tr>\n",
       "      <td>3</td>\n",
       "      <td>1</td>\n",
       "      <td>2019-05-03 11:18:14</td>\n",
       "      <td>2019-05-03 11:24:19</td>\n",
       "      <td>1.659363</td>\n",
       "      <td>1.062669</td>\n",
       "    </tr>\n",
       "    <tr>\n",
       "      <td>4</td>\n",
       "      <td>1</td>\n",
       "      <td>2019-05-03 11:26:09</td>\n",
       "      <td>2019-05-03 11:28:37</td>\n",
       "      <td>0.692755</td>\n",
       "      <td>0.414397</td>\n",
       "    </tr>\n",
       "    <tr>\n",
       "      <td>5</td>\n",
       "      <td>2</td>\n",
       "      <td>2019-05-03 11:34:14</td>\n",
       "      <td>2019-05-03 11:36:31</td>\n",
       "      <td>0.438063</td>\n",
       "      <td>0.283043</td>\n",
       "    </tr>\n",
       "    <tr>\n",
       "      <td>6</td>\n",
       "      <td>2</td>\n",
       "      <td>2019-05-03 11:38:50</td>\n",
       "      <td>2019-05-03 11:44:28</td>\n",
       "      <td>1.296415</td>\n",
       "      <td>0.892914</td>\n",
       "    </tr>\n",
       "    <tr>\n",
       "      <td>7</td>\n",
       "      <td>2</td>\n",
       "      <td>2019-05-03 11:46:19</td>\n",
       "      <td>2019-05-03 11:48:25</td>\n",
       "      <td>0.490377</td>\n",
       "      <td>0.305281</td>\n",
       "    </tr>\n",
       "    <tr>\n",
       "      <td>8</td>\n",
       "      <td>2</td>\n",
       "      <td>2019-05-03 11:49:48</td>\n",
       "      <td>2019-05-03 11:53:18</td>\n",
       "      <td>0.827743</td>\n",
       "      <td>0.516874</td>\n",
       "    </tr>\n",
       "    <tr>\n",
       "      <td>9</td>\n",
       "      <td>3</td>\n",
       "      <td>2019-05-03 12:06:54</td>\n",
       "      <td>2019-05-03 12:11:34</td>\n",
       "      <td>1.062053</td>\n",
       "      <td>0.671494</td>\n",
       "    </tr>\n",
       "    <tr>\n",
       "      <td>10</td>\n",
       "      <td>3</td>\n",
       "      <td>2019-05-03 12:13:52</td>\n",
       "      <td>2019-05-03 12:15:56</td>\n",
       "      <td>0.484206</td>\n",
       "      <td>0.312100</td>\n",
       "    </tr>\n",
       "    <tr>\n",
       "      <td>11</td>\n",
       "      <td>3</td>\n",
       "      <td>2019-05-03 12:18:56</td>\n",
       "      <td>2019-05-03 12:20:45</td>\n",
       "      <td>0.429355</td>\n",
       "      <td>0.271774</td>\n",
       "    </tr>\n",
       "    <tr>\n",
       "      <td>12</td>\n",
       "      <td>3</td>\n",
       "      <td>2019-05-03 12:25:43</td>\n",
       "      <td>2019-05-03 12:27:00</td>\n",
       "      <td>0.299989</td>\n",
       "      <td>0.187806</td>\n",
       "    </tr>\n",
       "    <tr>\n",
       "      <td>13</td>\n",
       "      <td>3</td>\n",
       "      <td>2019-05-03 12:31:14</td>\n",
       "      <td>2019-05-03 12:32:19</td>\n",
       "      <td>0.250280</td>\n",
       "      <td>0.155901</td>\n",
       "    </tr>\n",
       "    <tr>\n",
       "      <td>14</td>\n",
       "      <td>4</td>\n",
       "      <td>2019-05-03 12:39:37</td>\n",
       "      <td>2019-05-03 12:43:04</td>\n",
       "      <td>0.875313</td>\n",
       "      <td>0.614404</td>\n",
       "    </tr>\n",
       "  </tbody>\n",
       "</table>\n",
       "</div>"
      ],
      "text/plain": [
       "    key Начало нагрева дугой Конец нагрева дугой  Активная мощность  \\\n",
       "0     1  2019-05-03 11:02:14 2019-05-03 11:06:02           0.976059   \n",
       "1     1  2019-05-03 11:07:28 2019-05-03 11:10:33           0.805607   \n",
       "2     1  2019-05-03 11:11:44 2019-05-03 11:14:36           0.744363   \n",
       "3     1  2019-05-03 11:18:14 2019-05-03 11:24:19           1.659363   \n",
       "4     1  2019-05-03 11:26:09 2019-05-03 11:28:37           0.692755   \n",
       "5     2  2019-05-03 11:34:14 2019-05-03 11:36:31           0.438063   \n",
       "6     2  2019-05-03 11:38:50 2019-05-03 11:44:28           1.296415   \n",
       "7     2  2019-05-03 11:46:19 2019-05-03 11:48:25           0.490377   \n",
       "8     2  2019-05-03 11:49:48 2019-05-03 11:53:18           0.827743   \n",
       "9     3  2019-05-03 12:06:54 2019-05-03 12:11:34           1.062053   \n",
       "10    3  2019-05-03 12:13:52 2019-05-03 12:15:56           0.484206   \n",
       "11    3  2019-05-03 12:18:56 2019-05-03 12:20:45           0.429355   \n",
       "12    3  2019-05-03 12:25:43 2019-05-03 12:27:00           0.299989   \n",
       "13    3  2019-05-03 12:31:14 2019-05-03 12:32:19           0.250280   \n",
       "14    4  2019-05-03 12:39:37 2019-05-03 12:43:04           0.875313   \n",
       "\n",
       "    Реактивная мощность  \n",
       "0              0.687084  \n",
       "1              0.520285  \n",
       "2              0.498805  \n",
       "3              1.062669  \n",
       "4              0.414397  \n",
       "5              0.283043  \n",
       "6              0.892914  \n",
       "7              0.305281  \n",
       "8              0.516874  \n",
       "9              0.671494  \n",
       "10             0.312100  \n",
       "11             0.271774  \n",
       "12             0.187806  \n",
       "13             0.155901  \n",
       "14             0.614404  "
      ]
     },
     "execution_count": 63,
     "metadata": {},
     "output_type": "execute_result"
    }
   ],
   "source": [
    "data_arc.head(15)"
   ]
  },
  {
   "cell_type": "markdown",
   "metadata": {
    "id": "AqpAvwfpUJAK"
   },
   "source": [
    "Посчитаем время нагрева дугой для каждого этапа в минутах"
   ]
  },
  {
   "cell_type": "code",
   "execution_count": 64,
   "metadata": {
    "id": "8T_0wizoUJAK"
   },
   "outputs": [],
   "source": [
    "data_arc['time_delta'] = ((data_arc['Конец нагрева дугой'] - data_arc['Начало нагрева дугой']) \\\n",
    "                          / np.timedelta64(1, 'm')).astype('int')                          "
   ]
  },
  {
   "cell_type": "code",
   "execution_count": 65,
   "metadata": {
    "colab": {
     "base_uri": "https://localhost:8080/",
     "height": 204
    },
    "id": "ouY0opkhUJAK",
    "outputId": "541e45d0-4160-4a7c-a190-2ee2066bc9d8"
   },
   "outputs": [
    {
     "data": {
      "text/html": [
       "<div>\n",
       "<style scoped>\n",
       "    .dataframe tbody tr th:only-of-type {\n",
       "        vertical-align: middle;\n",
       "    }\n",
       "\n",
       "    .dataframe tbody tr th {\n",
       "        vertical-align: top;\n",
       "    }\n",
       "\n",
       "    .dataframe thead th {\n",
       "        text-align: right;\n",
       "    }\n",
       "</style>\n",
       "<table border=\"1\" class=\"dataframe\">\n",
       "  <thead>\n",
       "    <tr style=\"text-align: right;\">\n",
       "      <th></th>\n",
       "      <th>key</th>\n",
       "      <th>Начало нагрева дугой</th>\n",
       "      <th>Конец нагрева дугой</th>\n",
       "      <th>Активная мощность</th>\n",
       "      <th>Реактивная мощность</th>\n",
       "      <th>time_delta</th>\n",
       "    </tr>\n",
       "  </thead>\n",
       "  <tbody>\n",
       "    <tr>\n",
       "      <td>0</td>\n",
       "      <td>1</td>\n",
       "      <td>2019-05-03 11:02:14</td>\n",
       "      <td>2019-05-03 11:06:02</td>\n",
       "      <td>0.976059</td>\n",
       "      <td>0.687084</td>\n",
       "      <td>3</td>\n",
       "    </tr>\n",
       "    <tr>\n",
       "      <td>1</td>\n",
       "      <td>1</td>\n",
       "      <td>2019-05-03 11:07:28</td>\n",
       "      <td>2019-05-03 11:10:33</td>\n",
       "      <td>0.805607</td>\n",
       "      <td>0.520285</td>\n",
       "      <td>3</td>\n",
       "    </tr>\n",
       "    <tr>\n",
       "      <td>2</td>\n",
       "      <td>1</td>\n",
       "      <td>2019-05-03 11:11:44</td>\n",
       "      <td>2019-05-03 11:14:36</td>\n",
       "      <td>0.744363</td>\n",
       "      <td>0.498805</td>\n",
       "      <td>2</td>\n",
       "    </tr>\n",
       "    <tr>\n",
       "      <td>3</td>\n",
       "      <td>1</td>\n",
       "      <td>2019-05-03 11:18:14</td>\n",
       "      <td>2019-05-03 11:24:19</td>\n",
       "      <td>1.659363</td>\n",
       "      <td>1.062669</td>\n",
       "      <td>6</td>\n",
       "    </tr>\n",
       "    <tr>\n",
       "      <td>4</td>\n",
       "      <td>1</td>\n",
       "      <td>2019-05-03 11:26:09</td>\n",
       "      <td>2019-05-03 11:28:37</td>\n",
       "      <td>0.692755</td>\n",
       "      <td>0.414397</td>\n",
       "      <td>2</td>\n",
       "    </tr>\n",
       "  </tbody>\n",
       "</table>\n",
       "</div>"
      ],
      "text/plain": [
       "   key Начало нагрева дугой Конец нагрева дугой  Активная мощность  \\\n",
       "0    1  2019-05-03 11:02:14 2019-05-03 11:06:02           0.976059   \n",
       "1    1  2019-05-03 11:07:28 2019-05-03 11:10:33           0.805607   \n",
       "2    1  2019-05-03 11:11:44 2019-05-03 11:14:36           0.744363   \n",
       "3    1  2019-05-03 11:18:14 2019-05-03 11:24:19           1.659363   \n",
       "4    1  2019-05-03 11:26:09 2019-05-03 11:28:37           0.692755   \n",
       "\n",
       "   Реактивная мощность  time_delta  \n",
       "0             0.687084           3  \n",
       "1             0.520285           3  \n",
       "2             0.498805           2  \n",
       "3             1.062669           6  \n",
       "4             0.414397           2  "
      ]
     },
     "execution_count": 65,
     "metadata": {},
     "output_type": "execute_result"
    }
   ],
   "source": [
    "data_arc.head()"
   ]
  },
  {
   "cell_type": "markdown",
   "metadata": {
    "id": "kjLzMLiFUJAK"
   },
   "source": [
    "Сгруппируем данные по ключу и рассчитаем суммарную мощность общее время.  \n",
    "Предварительно составим датасет из интересующих нас величин."
   ]
  },
  {
   "cell_type": "code",
   "execution_count": 66,
   "metadata": {
    "id": "oK8_zKswUJAK"
   },
   "outputs": [],
   "source": [
    "data_arc_new = data_arc[['key', 'Активная мощность', 'time_delta']]"
   ]
  },
  {
   "cell_type": "code",
   "execution_count": 67,
   "metadata": {
    "id": "Muat_XdiUJAK"
   },
   "outputs": [],
   "source": [
    "data_arc_group = data_arc_new.groupby(['key'], axis=0, as_index=False).sum()"
   ]
  },
  {
   "cell_type": "code",
   "execution_count": 68,
   "metadata": {
    "colab": {
     "base_uri": "https://localhost:8080/",
     "height": 204
    },
    "id": "AJBTF-K7UJAK",
    "outputId": "d7946b5f-4af3-41a5-fb52-e8675d7ce1ae"
   },
   "outputs": [
    {
     "data": {
      "text/html": [
       "<div>\n",
       "<style scoped>\n",
       "    .dataframe tbody tr th:only-of-type {\n",
       "        vertical-align: middle;\n",
       "    }\n",
       "\n",
       "    .dataframe tbody tr th {\n",
       "        vertical-align: top;\n",
       "    }\n",
       "\n",
       "    .dataframe thead th {\n",
       "        text-align: right;\n",
       "    }\n",
       "</style>\n",
       "<table border=\"1\" class=\"dataframe\">\n",
       "  <thead>\n",
       "    <tr style=\"text-align: right;\">\n",
       "      <th></th>\n",
       "      <th>key</th>\n",
       "      <th>Активная мощность</th>\n",
       "      <th>time_delta</th>\n",
       "    </tr>\n",
       "  </thead>\n",
       "  <tbody>\n",
       "    <tr>\n",
       "      <td>0</td>\n",
       "      <td>1</td>\n",
       "      <td>4.878147</td>\n",
       "      <td>16</td>\n",
       "    </tr>\n",
       "    <tr>\n",
       "      <td>1</td>\n",
       "      <td>2</td>\n",
       "      <td>3.052598</td>\n",
       "      <td>12</td>\n",
       "    </tr>\n",
       "    <tr>\n",
       "      <td>2</td>\n",
       "      <td>3</td>\n",
       "      <td>2.525882</td>\n",
       "      <td>9</td>\n",
       "    </tr>\n",
       "    <tr>\n",
       "      <td>3</td>\n",
       "      <td>4</td>\n",
       "      <td>3.209250</td>\n",
       "      <td>10</td>\n",
       "    </tr>\n",
       "    <tr>\n",
       "      <td>4</td>\n",
       "      <td>5</td>\n",
       "      <td>3.347173</td>\n",
       "      <td>13</td>\n",
       "    </tr>\n",
       "  </tbody>\n",
       "</table>\n",
       "</div>"
      ],
      "text/plain": [
       "   key  Активная мощность  time_delta\n",
       "0    1           4.878147          16\n",
       "1    2           3.052598          12\n",
       "2    3           2.525882           9\n",
       "3    4           3.209250          10\n",
       "4    5           3.347173          13"
      ]
     },
     "execution_count": 68,
     "metadata": {},
     "output_type": "execute_result"
    }
   ],
   "source": [
    "data_arc_group.head()"
   ]
  },
  {
   "cell_type": "code",
   "execution_count": 69,
   "metadata": {
    "colab": {
     "base_uri": "https://localhost:8080/"
    },
    "id": "6PT8ARuOUJAK",
    "outputId": "7ad0d4b5-59a3-4b7c-85d5-939e70a67b8c"
   },
   "outputs": [
    {
     "name": "stdout",
     "output_type": "stream",
     "text": [
      "<class 'pandas.core.frame.DataFrame'>\n",
      "Int64Index: 3214 entries, 0 to 3213\n",
      "Data columns (total 3 columns):\n",
      "key                  3214 non-null int64\n",
      "Активная мощность    3214 non-null float64\n",
      "time_delta           3214 non-null int64\n",
      "dtypes: float64(1), int64(2)\n",
      "memory usage: 100.4 KB\n"
     ]
    }
   ],
   "source": [
    "data_arc_group.info()"
   ]
  },
  {
   "cell_type": "markdown",
   "metadata": {
    "id": "SD7vd1o-UJAK"
   },
   "source": [
    "Добавим полученные столбцы в **data**."
   ]
  },
  {
   "cell_type": "code",
   "execution_count": 70,
   "metadata": {
    "id": "0GJ9Pd-MUJAK"
   },
   "outputs": [],
   "source": [
    "data_2 = data.merge(data_arc_group, on='key', how='inner')"
   ]
  },
  {
   "cell_type": "code",
   "execution_count": 71,
   "metadata": {
    "colab": {
     "base_uri": "https://localhost:8080/",
     "height": 204
    },
    "id": "wsiaXIFPUJAK",
    "outputId": "3cf2de16-29e1-4871-b194-0e546e2b1b09"
   },
   "outputs": [
    {
     "data": {
      "text/html": [
       "<div>\n",
       "<style scoped>\n",
       "    .dataframe tbody tr th:only-of-type {\n",
       "        vertical-align: middle;\n",
       "    }\n",
       "\n",
       "    .dataframe tbody tr th {\n",
       "        vertical-align: top;\n",
       "    }\n",
       "\n",
       "    .dataframe thead th {\n",
       "        text-align: right;\n",
       "    }\n",
       "</style>\n",
       "<table border=\"1\" class=\"dataframe\">\n",
       "  <thead>\n",
       "    <tr style=\"text-align: right;\">\n",
       "      <th></th>\n",
       "      <th>key</th>\n",
       "      <th>temp_1</th>\n",
       "      <th>temp_2</th>\n",
       "      <th>Wire 1</th>\n",
       "      <th>Wire 2</th>\n",
       "      <th>Wire 3</th>\n",
       "      <th>Wire 4</th>\n",
       "      <th>Wire 5</th>\n",
       "      <th>Wire 6</th>\n",
       "      <th>Wire 7</th>\n",
       "      <th>Wire 8</th>\n",
       "      <th>Wire 9</th>\n",
       "      <th>Активная мощность</th>\n",
       "      <th>time_delta</th>\n",
       "    </tr>\n",
       "  </thead>\n",
       "  <tbody>\n",
       "    <tr>\n",
       "      <td>0</td>\n",
       "      <td>1</td>\n",
       "      <td>1571.0</td>\n",
       "      <td>1613.0</td>\n",
       "      <td>60.059998</td>\n",
       "      <td>0.00000</td>\n",
       "      <td>0.0</td>\n",
       "      <td>0.0</td>\n",
       "      <td>0.0</td>\n",
       "      <td>0.0</td>\n",
       "      <td>0.0</td>\n",
       "      <td>0.0</td>\n",
       "      <td>0.0</td>\n",
       "      <td>4.878147</td>\n",
       "      <td>16</td>\n",
       "    </tr>\n",
       "    <tr>\n",
       "      <td>1</td>\n",
       "      <td>2</td>\n",
       "      <td>1581.0</td>\n",
       "      <td>1602.0</td>\n",
       "      <td>96.052315</td>\n",
       "      <td>0.00000</td>\n",
       "      <td>0.0</td>\n",
       "      <td>0.0</td>\n",
       "      <td>0.0</td>\n",
       "      <td>0.0</td>\n",
       "      <td>0.0</td>\n",
       "      <td>0.0</td>\n",
       "      <td>0.0</td>\n",
       "      <td>3.052598</td>\n",
       "      <td>12</td>\n",
       "    </tr>\n",
       "    <tr>\n",
       "      <td>2</td>\n",
       "      <td>3</td>\n",
       "      <td>1596.0</td>\n",
       "      <td>1599.0</td>\n",
       "      <td>91.160157</td>\n",
       "      <td>0.00000</td>\n",
       "      <td>0.0</td>\n",
       "      <td>0.0</td>\n",
       "      <td>0.0</td>\n",
       "      <td>0.0</td>\n",
       "      <td>0.0</td>\n",
       "      <td>0.0</td>\n",
       "      <td>0.0</td>\n",
       "      <td>2.525882</td>\n",
       "      <td>9</td>\n",
       "    </tr>\n",
       "    <tr>\n",
       "      <td>3</td>\n",
       "      <td>4</td>\n",
       "      <td>1601.0</td>\n",
       "      <td>1625.0</td>\n",
       "      <td>89.063515</td>\n",
       "      <td>0.00000</td>\n",
       "      <td>0.0</td>\n",
       "      <td>0.0</td>\n",
       "      <td>0.0</td>\n",
       "      <td>0.0</td>\n",
       "      <td>0.0</td>\n",
       "      <td>0.0</td>\n",
       "      <td>0.0</td>\n",
       "      <td>3.209250</td>\n",
       "      <td>10</td>\n",
       "    </tr>\n",
       "    <tr>\n",
       "      <td>4</td>\n",
       "      <td>5</td>\n",
       "      <td>1576.0</td>\n",
       "      <td>1602.0</td>\n",
       "      <td>89.238236</td>\n",
       "      <td>9.11456</td>\n",
       "      <td>0.0</td>\n",
       "      <td>0.0</td>\n",
       "      <td>0.0</td>\n",
       "      <td>0.0</td>\n",
       "      <td>0.0</td>\n",
       "      <td>0.0</td>\n",
       "      <td>0.0</td>\n",
       "      <td>3.347173</td>\n",
       "      <td>13</td>\n",
       "    </tr>\n",
       "  </tbody>\n",
       "</table>\n",
       "</div>"
      ],
      "text/plain": [
       "   key  temp_1  temp_2     Wire 1   Wire 2  Wire 3  Wire 4  Wire 5  Wire 6  \\\n",
       "0    1  1571.0  1613.0  60.059998  0.00000     0.0     0.0     0.0     0.0   \n",
       "1    2  1581.0  1602.0  96.052315  0.00000     0.0     0.0     0.0     0.0   \n",
       "2    3  1596.0  1599.0  91.160157  0.00000     0.0     0.0     0.0     0.0   \n",
       "3    4  1601.0  1625.0  89.063515  0.00000     0.0     0.0     0.0     0.0   \n",
       "4    5  1576.0  1602.0  89.238236  9.11456     0.0     0.0     0.0     0.0   \n",
       "\n",
       "   Wire 7  Wire 8  Wire 9  Активная мощность  time_delta  \n",
       "0     0.0     0.0     0.0           4.878147          16  \n",
       "1     0.0     0.0     0.0           3.052598          12  \n",
       "2     0.0     0.0     0.0           2.525882           9  \n",
       "3     0.0     0.0     0.0           3.209250          10  \n",
       "4     0.0     0.0     0.0           3.347173          13  "
      ]
     },
     "execution_count": 71,
     "metadata": {},
     "output_type": "execute_result"
    }
   ],
   "source": [
    "data_2.head()"
   ]
  },
  {
   "cell_type": "code",
   "execution_count": 72,
   "metadata": {
    "id": "zQ21hIMIUJAK"
   },
   "outputs": [],
   "source": [
    "data = data_2"
   ]
  },
  {
   "cell_type": "code",
   "execution_count": 73,
   "metadata": {
    "colab": {
     "base_uri": "https://localhost:8080/"
    },
    "id": "0HrIzByLUJAK",
    "outputId": "d61cc6ec-d317-40e3-902d-831246cff523"
   },
   "outputs": [
    {
     "name": "stdout",
     "output_type": "stream",
     "text": [
      "<class 'pandas.core.frame.DataFrame'>\n",
      "Int64Index: 2336 entries, 0 to 2335\n",
      "Data columns (total 14 columns):\n",
      "key                  2336 non-null int64\n",
      "temp_1               2336 non-null float64\n",
      "temp_2               2336 non-null float64\n",
      "Wire 1               2336 non-null float64\n",
      "Wire 2               2336 non-null float64\n",
      "Wire 3               2336 non-null float64\n",
      "Wire 4               2336 non-null float64\n",
      "Wire 5               2336 non-null float64\n",
      "Wire 6               2336 non-null float64\n",
      "Wire 7               2336 non-null float64\n",
      "Wire 8               2336 non-null float64\n",
      "Wire 9               2336 non-null float64\n",
      "Активная мощность    2336 non-null float64\n",
      "time_delta           2336 non-null int64\n",
      "dtypes: float64(12), int64(2)\n",
      "memory usage: 273.8 KB\n"
     ]
    }
   ],
   "source": [
    "data.info()"
   ]
  },
  {
   "cell_type": "markdown",
   "metadata": {
    "id": "fkkGU0uIUJAK"
   },
   "source": [
    "Выделим полезные данные из таблицы **data_bulk**"
   ]
  },
  {
   "cell_type": "code",
   "execution_count": 74,
   "metadata": {
    "colab": {
     "base_uri": "https://localhost:8080/"
    },
    "id": "XFnz7ZdiUJAK",
    "outputId": "a17b0f43-010c-498e-cc6a-0c9888ce5d12"
   },
   "outputs": [
    {
     "name": "stdout",
     "output_type": "stream",
     "text": [
      "<class 'pandas.core.frame.DataFrame'>\n",
      "RangeIndex: 3129 entries, 0 to 3128\n",
      "Data columns (total 16 columns):\n",
      "key        3129 non-null int64\n",
      "Bulk 1     252 non-null float64\n",
      "Bulk 2     22 non-null float64\n",
      "Bulk 3     1298 non-null float64\n",
      "Bulk 4     1014 non-null float64\n",
      "Bulk 5     77 non-null float64\n",
      "Bulk 6     576 non-null float64\n",
      "Bulk 7     25 non-null float64\n",
      "Bulk 8     1 non-null float64\n",
      "Bulk 9     19 non-null float64\n",
      "Bulk 10    176 non-null float64\n",
      "Bulk 11    177 non-null float64\n",
      "Bulk 12    2450 non-null float64\n",
      "Bulk 13    18 non-null float64\n",
      "Bulk 14    2806 non-null float64\n",
      "Bulk 15    2248 non-null float64\n",
      "dtypes: float64(15), int64(1)\n",
      "memory usage: 391.2 KB\n"
     ]
    }
   ],
   "source": [
    "data_bulk.info()"
   ]
  },
  {
   "cell_type": "code",
   "execution_count": 75,
   "metadata": {
    "colab": {
     "base_uri": "https://localhost:8080/",
     "height": 282
    },
    "id": "OQcyufDHUJAK",
    "outputId": "e6d921b2-a48c-4253-a3bc-1acf8fe73689"
   },
   "outputs": [
    {
     "data": {
      "text/plain": [
       "<matplotlib.axes._subplots.AxesSubplot at 0x7f964bf78b50>"
      ]
     },
     "execution_count": 75,
     "metadata": {},
     "output_type": "execute_result"
    },
    {
     "data": {
      "image/png": "[encoded data removed]",
      "text/plain": [
       "<Figure size 432x288 with 1 Axes>"
      ]
     },
     "metadata": {
      "needs_background": "light"
     },
     "output_type": "display_data"
    }
   ],
   "source": [
    "data_bulk['Bulk 12'].hist(bins=100)"
   ]
  },
  {
   "cell_type": "code",
   "execution_count": 76,
   "metadata": {
    "colab": {
     "base_uri": "https://localhost:8080/",
     "height": 282
    },
    "id": "b2h1J9b0UJAK",
    "outputId": "c17d9cca-f48a-4125-f8ff-dcece15f2e3e"
   },
   "outputs": [
    {
     "data": {
      "text/plain": [
       "<matplotlib.axes._subplots.AxesSubplot at 0x7f964ea326d0>"
      ]
     },
     "execution_count": 76,
     "metadata": {},
     "output_type": "execute_result"
    },
    {
     "data": {
      "image/png": "[encoded data removed]",
      "text/plain": [
       "<Figure size 432x288 with 1 Axes>"
      ]
     },
     "metadata": {
      "needs_background": "light"
     },
     "output_type": "display_data"
    }
   ],
   "source": [
    "data_bulk['Bulk 14'].hist(bins=100)"
   ]
  },
  {
   "cell_type": "code",
   "execution_count": 77,
   "metadata": {
    "colab": {
     "base_uri": "https://localhost:8080/",
     "height": 282
    },
    "id": "_LsaqvgBUJAK",
    "outputId": "0b4a8611-8dab-4a51-a187-493a69de168b"
   },
   "outputs": [
    {
     "data": {
      "text/plain": [
       "<matplotlib.axes._subplots.AxesSubplot at 0x7f964e77b710>"
      ]
     },
     "execution_count": 77,
     "metadata": {},
     "output_type": "execute_result"
    },
    {
     "data": {
      "image/png": "[encoded data removed]",
      "text/plain": [
       "<Figure size 432x288 with 1 Axes>"
      ]
     },
     "metadata": {
      "needs_background": "light"
     },
     "output_type": "display_data"
    }
   ],
   "source": [
    "data_bulk['Bulk 15'].hist(bins=100)"
   ]
  },
  {
   "cell_type": "markdown",
   "metadata": {
    "id": "TK_wkYodUJAK"
   },
   "source": [
    "Пропущенные значения говорят о том, что примеси не добавляли. Заменим их нулями."
   ]
  },
  {
   "cell_type": "code",
   "execution_count": 78,
   "metadata": {
    "id": "R7VXYILUR2C5"
   },
   "outputs": [],
   "source": [
    "data_bulk = data_bulk.fillna(0)"
   ]
  },
  {
   "cell_type": "code",
   "execution_count": 79,
   "metadata": {
    "colab": {
     "base_uri": "https://localhost:8080/"
    },
    "id": "YJ7AmlKoR6Td",
    "outputId": "b047cd9f-8e90-426e-c049-58ed43688c08"
   },
   "outputs": [
    {
     "name": "stdout",
     "output_type": "stream",
     "text": [
      "<class 'pandas.core.frame.DataFrame'>\n",
      "RangeIndex: 3129 entries, 0 to 3128\n",
      "Data columns (total 16 columns):\n",
      "key        3129 non-null int64\n",
      "Bulk 1     3129 non-null float64\n",
      "Bulk 2     3129 non-null float64\n",
      "Bulk 3     3129 non-null float64\n",
      "Bulk 4     3129 non-null float64\n",
      "Bulk 5     3129 non-null float64\n",
      "Bulk 6     3129 non-null float64\n",
      "Bulk 7     3129 non-null float64\n",
      "Bulk 8     3129 non-null float64\n",
      "Bulk 9     3129 non-null float64\n",
      "Bulk 10    3129 non-null float64\n",
      "Bulk 11    3129 non-null float64\n",
      "Bulk 12    3129 non-null float64\n",
      "Bulk 13    3129 non-null float64\n",
      "Bulk 14    3129 non-null float64\n",
      "Bulk 15    3129 non-null float64\n",
      "dtypes: float64(15), int64(1)\n",
      "memory usage: 391.2 KB\n"
     ]
    }
   ],
   "source": [
    "data_bulk.info()"
   ]
  },
  {
   "cell_type": "markdown",
   "metadata": {
    "id": "0dmvHupNSHHT"
   },
   "source": [
    "Добавим эти значения в итоговый датасет"
   ]
  },
  {
   "cell_type": "code",
   "execution_count": 80,
   "metadata": {
    "id": "Mad6F4DASK8i"
   },
   "outputs": [],
   "source": [
    "data_5 = data.merge(data_bulk, on='key', how='inner')"
   ]
  },
  {
   "cell_type": "code",
   "execution_count": 81,
   "metadata": {
    "colab": {
     "base_uri": "https://localhost:8080/"
    },
    "id": "FTlhsVwiTZAr",
    "outputId": "c0dc6ead-9045-4cc9-841f-b1439daac734"
   },
   "outputs": [
    {
     "name": "stdout",
     "output_type": "stream",
     "text": [
      "<class 'pandas.core.frame.DataFrame'>\n",
      "Int64Index: 2336 entries, 0 to 2335\n",
      "Data columns (total 14 columns):\n",
      "key                  2336 non-null int64\n",
      "temp_1               2336 non-null float64\n",
      "temp_2               2336 non-null float64\n",
      "Wire 1               2336 non-null float64\n",
      "Wire 2               2336 non-null float64\n",
      "Wire 3               2336 non-null float64\n",
      "Wire 4               2336 non-null float64\n",
      "Wire 5               2336 non-null float64\n",
      "Wire 6               2336 non-null float64\n",
      "Wire 7               2336 non-null float64\n",
      "Wire 8               2336 non-null float64\n",
      "Wire 9               2336 non-null float64\n",
      "Активная мощность    2336 non-null float64\n",
      "time_delta           2336 non-null int64\n",
      "dtypes: float64(12), int64(2)\n",
      "memory usage: 273.8 KB\n"
     ]
    }
   ],
   "source": [
    "data.info()"
   ]
  },
  {
   "cell_type": "code",
   "execution_count": 82,
   "metadata": {
    "colab": {
     "base_uri": "https://localhost:8080/"
    },
    "id": "6RK3T_ShSjDY",
    "outputId": "620ec969-3be8-4c65-d230-e1cc823fa787"
   },
   "outputs": [
    {
     "name": "stdout",
     "output_type": "stream",
     "text": [
      "<class 'pandas.core.frame.DataFrame'>\n",
      "Int64Index: 2295 entries, 0 to 2294\n",
      "Data columns (total 29 columns):\n",
      "key                  2295 non-null int64\n",
      "temp_1               2295 non-null float64\n",
      "temp_2               2295 non-null float64\n",
      "Wire 1               2295 non-null float64\n",
      "Wire 2               2295 non-null float64\n",
      "Wire 3               2295 non-null float64\n",
      "Wire 4               2295 non-null float64\n",
      "Wire 5               2295 non-null float64\n",
      "Wire 6               2295 non-null float64\n",
      "Wire 7               2295 non-null float64\n",
      "Wire 8               2295 non-null float64\n",
      "Wire 9               2295 non-null float64\n",
      "Активная мощность    2295 non-null float64\n",
      "time_delta           2295 non-null int64\n",
      "Bulk 1               2295 non-null float64\n",
      "Bulk 2               2295 non-null float64\n",
      "Bulk 3               2295 non-null float64\n",
      "Bulk 4               2295 non-null float64\n",
      "Bulk 5               2295 non-null float64\n",
      "Bulk 6               2295 non-null float64\n",
      "Bulk 7               2295 non-null float64\n",
      "Bulk 8               2295 non-null float64\n",
      "Bulk 9               2295 non-null float64\n",
      "Bulk 10              2295 non-null float64\n",
      "Bulk 11              2295 non-null float64\n",
      "Bulk 12              2295 non-null float64\n",
      "Bulk 13              2295 non-null float64\n",
      "Bulk 14              2295 non-null float64\n",
      "Bulk 15              2295 non-null float64\n",
      "dtypes: float64(27), int64(2)\n",
      "memory usage: 537.9 KB\n"
     ]
    }
   ],
   "source": [
    "data_5.info()"
   ]
  },
  {
   "cell_type": "code",
   "execution_count": 83,
   "metadata": {
    "id": "DrX7GgwNTuVG"
   },
   "outputs": [],
   "source": [
    "data = data_5"
   ]
  },
  {
   "cell_type": "markdown",
   "metadata": {
    "id": "3tNr6f3ZUJAK"
   },
   "source": [
    "Посмотрим данные по таблице **data_gas**"
   ]
  },
  {
   "cell_type": "code",
   "execution_count": 84,
   "metadata": {
    "colab": {
     "base_uri": "https://localhost:8080/",
     "height": 204
    },
    "id": "Lxnb3aM7UJAK",
    "outputId": "ff58a348-4bd4-486e-f2a7-df5827d010fe"
   },
   "outputs": [
    {
     "data": {
      "text/html": [
       "<div>\n",
       "<style scoped>\n",
       "    .dataframe tbody tr th:only-of-type {\n",
       "        vertical-align: middle;\n",
       "    }\n",
       "\n",
       "    .dataframe tbody tr th {\n",
       "        vertical-align: top;\n",
       "    }\n",
       "\n",
       "    .dataframe thead th {\n",
       "        text-align: right;\n",
       "    }\n",
       "</style>\n",
       "<table border=\"1\" class=\"dataframe\">\n",
       "  <thead>\n",
       "    <tr style=\"text-align: right;\">\n",
       "      <th></th>\n",
       "      <th>key</th>\n",
       "      <th>Газ 1</th>\n",
       "    </tr>\n",
       "  </thead>\n",
       "  <tbody>\n",
       "    <tr>\n",
       "      <td>0</td>\n",
       "      <td>1</td>\n",
       "      <td>29.749986</td>\n",
       "    </tr>\n",
       "    <tr>\n",
       "      <td>1</td>\n",
       "      <td>2</td>\n",
       "      <td>12.555561</td>\n",
       "    </tr>\n",
       "    <tr>\n",
       "      <td>2</td>\n",
       "      <td>3</td>\n",
       "      <td>28.554793</td>\n",
       "    </tr>\n",
       "    <tr>\n",
       "      <td>3</td>\n",
       "      <td>4</td>\n",
       "      <td>18.841219</td>\n",
       "    </tr>\n",
       "    <tr>\n",
       "      <td>4</td>\n",
       "      <td>5</td>\n",
       "      <td>5.413692</td>\n",
       "    </tr>\n",
       "  </tbody>\n",
       "</table>\n",
       "</div>"
      ],
      "text/plain": [
       "   key      Газ 1\n",
       "0    1  29.749986\n",
       "1    2  12.555561\n",
       "2    3  28.554793\n",
       "3    4  18.841219\n",
       "4    5   5.413692"
      ]
     },
     "execution_count": 84,
     "metadata": {},
     "output_type": "execute_result"
    }
   ],
   "source": [
    "data_gas.head()"
   ]
  },
  {
   "cell_type": "code",
   "execution_count": 85,
   "metadata": {
    "colab": {
     "base_uri": "https://localhost:8080/"
    },
    "id": "mBQooOHjUJAK",
    "outputId": "4344d515-fe7a-45c9-cbc0-d616cd7be025"
   },
   "outputs": [
    {
     "name": "stdout",
     "output_type": "stream",
     "text": [
      "<class 'pandas.core.frame.DataFrame'>\n",
      "RangeIndex: 3239 entries, 0 to 3238\n",
      "Data columns (total 2 columns):\n",
      "key      3239 non-null int64\n",
      "Газ 1    3239 non-null float64\n",
      "dtypes: float64(1), int64(1)\n",
      "memory usage: 50.7 KB\n"
     ]
    }
   ],
   "source": [
    "data_gas.info()"
   ]
  },
  {
   "cell_type": "code",
   "execution_count": 86,
   "metadata": {
    "id": "6F78RiNrUJAK"
   },
   "outputs": [],
   "source": [
    "data_7 = data.merge(data_gas, on='key', how='inner')"
   ]
  },
  {
   "cell_type": "code",
   "execution_count": 87,
   "metadata": {
    "id": "PAJmqOOXUJAK"
   },
   "outputs": [],
   "source": [
    "data = data_7"
   ]
  },
  {
   "cell_type": "code",
   "execution_count": 88,
   "metadata": {
    "colab": {
     "base_uri": "https://localhost:8080/"
    },
    "id": "AnVHoiKUUJAK",
    "outputId": "4fe23087-0b02-4197-e193-c18317ac97e0"
   },
   "outputs": [
    {
     "name": "stdout",
     "output_type": "stream",
     "text": [
      "<class 'pandas.core.frame.DataFrame'>\n",
      "Int64Index: 2293 entries, 0 to 2292\n",
      "Data columns (total 30 columns):\n",
      "key                  2293 non-null int64\n",
      "temp_1               2293 non-null float64\n",
      "temp_2               2293 non-null float64\n",
      "Wire 1               2293 non-null float64\n",
      "Wire 2               2293 non-null float64\n",
      "Wire 3               2293 non-null float64\n",
      "Wire 4               2293 non-null float64\n",
      "Wire 5               2293 non-null float64\n",
      "Wire 6               2293 non-null float64\n",
      "Wire 7               2293 non-null float64\n",
      "Wire 8               2293 non-null float64\n",
      "Wire 9               2293 non-null float64\n",
      "Активная мощность    2293 non-null float64\n",
      "time_delta           2293 non-null int64\n",
      "Bulk 1               2293 non-null float64\n",
      "Bulk 2               2293 non-null float64\n",
      "Bulk 3               2293 non-null float64\n",
      "Bulk 4               2293 non-null float64\n",
      "Bulk 5               2293 non-null float64\n",
      "Bulk 6               2293 non-null float64\n",
      "Bulk 7               2293 non-null float64\n",
      "Bulk 8               2293 non-null float64\n",
      "Bulk 9               2293 non-null float64\n",
      "Bulk 10              2293 non-null float64\n",
      "Bulk 11              2293 non-null float64\n",
      "Bulk 12              2293 non-null float64\n",
      "Bulk 13              2293 non-null float64\n",
      "Bulk 14              2293 non-null float64\n",
      "Bulk 15              2293 non-null float64\n",
      "Газ 1                2293 non-null float64\n",
      "dtypes: float64(28), int64(2)\n",
      "memory usage: 555.3 KB\n"
     ]
    }
   ],
   "source": [
    "data.info()"
   ]
  },
  {
   "cell_type": "code",
   "execution_count": 89,
   "metadata": {
    "colab": {
     "base_uri": "https://localhost:8080/",
     "height": 241
    },
    "id": "-Kyk48EcUJAK",
    "outputId": "e57c0cfa-10a3-42f4-88d4-b29f8b7a4ec3"
   },
   "outputs": [
    {
     "data": {
      "text/html": [
       "<div>\n",
       "<style scoped>\n",
       "    .dataframe tbody tr th:only-of-type {\n",
       "        vertical-align: middle;\n",
       "    }\n",
       "\n",
       "    .dataframe tbody tr th {\n",
       "        vertical-align: top;\n",
       "    }\n",
       "\n",
       "    .dataframe thead th {\n",
       "        text-align: right;\n",
       "    }\n",
       "</style>\n",
       "<table border=\"1\" class=\"dataframe\">\n",
       "  <thead>\n",
       "    <tr style=\"text-align: right;\">\n",
       "      <th></th>\n",
       "      <th>key</th>\n",
       "      <th>temp_1</th>\n",
       "      <th>temp_2</th>\n",
       "      <th>Wire 1</th>\n",
       "      <th>Wire 2</th>\n",
       "      <th>Wire 3</th>\n",
       "      <th>Wire 4</th>\n",
       "      <th>Wire 5</th>\n",
       "      <th>Wire 6</th>\n",
       "      <th>Wire 7</th>\n",
       "      <th>...</th>\n",
       "      <th>Bulk 7</th>\n",
       "      <th>Bulk 8</th>\n",
       "      <th>Bulk 9</th>\n",
       "      <th>Bulk 10</th>\n",
       "      <th>Bulk 11</th>\n",
       "      <th>Bulk 12</th>\n",
       "      <th>Bulk 13</th>\n",
       "      <th>Bulk 14</th>\n",
       "      <th>Bulk 15</th>\n",
       "      <th>Газ 1</th>\n",
       "    </tr>\n",
       "  </thead>\n",
       "  <tbody>\n",
       "    <tr>\n",
       "      <td>0</td>\n",
       "      <td>1</td>\n",
       "      <td>1571.0</td>\n",
       "      <td>1613.0</td>\n",
       "      <td>60.059998</td>\n",
       "      <td>0.00000</td>\n",
       "      <td>0.0</td>\n",
       "      <td>0.0</td>\n",
       "      <td>0.0</td>\n",
       "      <td>0.0</td>\n",
       "      <td>0.0</td>\n",
       "      <td>...</td>\n",
       "      <td>0.0</td>\n",
       "      <td>0.0</td>\n",
       "      <td>0.0</td>\n",
       "      <td>0.0</td>\n",
       "      <td>0.0</td>\n",
       "      <td>206.0</td>\n",
       "      <td>0.0</td>\n",
       "      <td>150.0</td>\n",
       "      <td>154.0</td>\n",
       "      <td>29.749986</td>\n",
       "    </tr>\n",
       "    <tr>\n",
       "      <td>1</td>\n",
       "      <td>2</td>\n",
       "      <td>1581.0</td>\n",
       "      <td>1602.0</td>\n",
       "      <td>96.052315</td>\n",
       "      <td>0.00000</td>\n",
       "      <td>0.0</td>\n",
       "      <td>0.0</td>\n",
       "      <td>0.0</td>\n",
       "      <td>0.0</td>\n",
       "      <td>0.0</td>\n",
       "      <td>...</td>\n",
       "      <td>0.0</td>\n",
       "      <td>0.0</td>\n",
       "      <td>0.0</td>\n",
       "      <td>0.0</td>\n",
       "      <td>0.0</td>\n",
       "      <td>206.0</td>\n",
       "      <td>0.0</td>\n",
       "      <td>149.0</td>\n",
       "      <td>154.0</td>\n",
       "      <td>12.555561</td>\n",
       "    </tr>\n",
       "    <tr>\n",
       "      <td>2</td>\n",
       "      <td>3</td>\n",
       "      <td>1596.0</td>\n",
       "      <td>1599.0</td>\n",
       "      <td>91.160157</td>\n",
       "      <td>0.00000</td>\n",
       "      <td>0.0</td>\n",
       "      <td>0.0</td>\n",
       "      <td>0.0</td>\n",
       "      <td>0.0</td>\n",
       "      <td>0.0</td>\n",
       "      <td>...</td>\n",
       "      <td>0.0</td>\n",
       "      <td>0.0</td>\n",
       "      <td>0.0</td>\n",
       "      <td>0.0</td>\n",
       "      <td>0.0</td>\n",
       "      <td>205.0</td>\n",
       "      <td>0.0</td>\n",
       "      <td>152.0</td>\n",
       "      <td>153.0</td>\n",
       "      <td>28.554793</td>\n",
       "    </tr>\n",
       "    <tr>\n",
       "      <td>3</td>\n",
       "      <td>4</td>\n",
       "      <td>1601.0</td>\n",
       "      <td>1625.0</td>\n",
       "      <td>89.063515</td>\n",
       "      <td>0.00000</td>\n",
       "      <td>0.0</td>\n",
       "      <td>0.0</td>\n",
       "      <td>0.0</td>\n",
       "      <td>0.0</td>\n",
       "      <td>0.0</td>\n",
       "      <td>...</td>\n",
       "      <td>0.0</td>\n",
       "      <td>0.0</td>\n",
       "      <td>0.0</td>\n",
       "      <td>0.0</td>\n",
       "      <td>0.0</td>\n",
       "      <td>207.0</td>\n",
       "      <td>0.0</td>\n",
       "      <td>153.0</td>\n",
       "      <td>154.0</td>\n",
       "      <td>18.841219</td>\n",
       "    </tr>\n",
       "    <tr>\n",
       "      <td>4</td>\n",
       "      <td>5</td>\n",
       "      <td>1576.0</td>\n",
       "      <td>1602.0</td>\n",
       "      <td>89.238236</td>\n",
       "      <td>9.11456</td>\n",
       "      <td>0.0</td>\n",
       "      <td>0.0</td>\n",
       "      <td>0.0</td>\n",
       "      <td>0.0</td>\n",
       "      <td>0.0</td>\n",
       "      <td>...</td>\n",
       "      <td>0.0</td>\n",
       "      <td>0.0</td>\n",
       "      <td>0.0</td>\n",
       "      <td>0.0</td>\n",
       "      <td>0.0</td>\n",
       "      <td>203.0</td>\n",
       "      <td>0.0</td>\n",
       "      <td>151.0</td>\n",
       "      <td>152.0</td>\n",
       "      <td>5.413692</td>\n",
       "    </tr>\n",
       "  </tbody>\n",
       "</table>\n",
       "<p>5 rows × 30 columns</p>\n",
       "</div>"
      ],
      "text/plain": [
       "   key  temp_1  temp_2     Wire 1   Wire 2  Wire 3  Wire 4  Wire 5  Wire 6  \\\n",
       "0    1  1571.0  1613.0  60.059998  0.00000     0.0     0.0     0.0     0.0   \n",
       "1    2  1581.0  1602.0  96.052315  0.00000     0.0     0.0     0.0     0.0   \n",
       "2    3  1596.0  1599.0  91.160157  0.00000     0.0     0.0     0.0     0.0   \n",
       "3    4  1601.0  1625.0  89.063515  0.00000     0.0     0.0     0.0     0.0   \n",
       "4    5  1576.0  1602.0  89.238236  9.11456     0.0     0.0     0.0     0.0   \n",
       "\n",
       "   Wire 7  ...  Bulk 7  Bulk 8  Bulk 9  Bulk 10  Bulk 11  Bulk 12  Bulk 13  \\\n",
       "0     0.0  ...     0.0     0.0     0.0      0.0      0.0    206.0      0.0   \n",
       "1     0.0  ...     0.0     0.0     0.0      0.0      0.0    206.0      0.0   \n",
       "2     0.0  ...     0.0     0.0     0.0      0.0      0.0    205.0      0.0   \n",
       "3     0.0  ...     0.0     0.0     0.0      0.0      0.0    207.0      0.0   \n",
       "4     0.0  ...     0.0     0.0     0.0      0.0      0.0    203.0      0.0   \n",
       "\n",
       "   Bulk 14  Bulk 15      Газ 1  \n",
       "0    150.0    154.0  29.749986  \n",
       "1    149.0    154.0  12.555561  \n",
       "2    152.0    153.0  28.554793  \n",
       "3    153.0    154.0  18.841219  \n",
       "4    151.0    152.0   5.413692  \n",
       "\n",
       "[5 rows x 30 columns]"
      ]
     },
     "execution_count": 89,
     "metadata": {},
     "output_type": "execute_result"
    }
   ],
   "source": [
    "data.head()"
   ]
  },
  {
   "cell_type": "markdown",
   "metadata": {
    "id": "I558zT0jUJAK"
   },
   "source": [
    "Переименуем названия столбцов для удобства."
   ]
  },
  {
   "cell_type": "code",
   "execution_count": 90,
   "metadata": {
    "id": "sjUGgI32UJAK"
   },
   "outputs": [],
   "source": [
    "#data.columns = ['kye', 'temp', 'wire_1', 'wire_2', 'act_pow', 'time_delta', 'gas']\n",
    "data = data.rename(columns={'Активная мощность': 'act_pow', 'Газ 1': 'gas'})"
   ]
  },
  {
   "cell_type": "code",
   "execution_count": 91,
   "metadata": {
    "colab": {
     "base_uri": "https://localhost:8080/"
    },
    "id": "39gCp2f2UJAK",
    "outputId": "3bdb1295-505f-4adf-e299-d039ec588001"
   },
   "outputs": [
    {
     "name": "stdout",
     "output_type": "stream",
     "text": [
      "<class 'pandas.core.frame.DataFrame'>\n",
      "Int64Index: 2293 entries, 0 to 2292\n",
      "Data columns (total 30 columns):\n",
      "key           2293 non-null int64\n",
      "temp_1        2293 non-null float64\n",
      "temp_2        2293 non-null float64\n",
      "Wire 1        2293 non-null float64\n",
      "Wire 2        2293 non-null float64\n",
      "Wire 3        2293 non-null float64\n",
      "Wire 4        2293 non-null float64\n",
      "Wire 5        2293 non-null float64\n",
      "Wire 6        2293 non-null float64\n",
      "Wire 7        2293 non-null float64\n",
      "Wire 8        2293 non-null float64\n",
      "Wire 9        2293 non-null float64\n",
      "act_pow       2293 non-null float64\n",
      "time_delta    2293 non-null int64\n",
      "Bulk 1        2293 non-null float64\n",
      "Bulk 2        2293 non-null float64\n",
      "Bulk 3        2293 non-null float64\n",
      "Bulk 4        2293 non-null float64\n",
      "Bulk 5        2293 non-null float64\n",
      "Bulk 6        2293 non-null float64\n",
      "Bulk 7        2293 non-null float64\n",
      "Bulk 8        2293 non-null float64\n",
      "Bulk 9        2293 non-null float64\n",
      "Bulk 10       2293 non-null float64\n",
      "Bulk 11       2293 non-null float64\n",
      "Bulk 12       2293 non-null float64\n",
      "Bulk 13       2293 non-null float64\n",
      "Bulk 14       2293 non-null float64\n",
      "Bulk 15       2293 non-null float64\n",
      "gas           2293 non-null float64\n",
      "dtypes: float64(28), int64(2)\n",
      "memory usage: 555.3 KB\n"
     ]
    }
   ],
   "source": [
    "data.info()"
   ]
  },
  {
   "cell_type": "code",
   "execution_count": 93,
   "metadata": {},
   "outputs": [
    {
     "data": {
      "text/html": [
       "<div>\n",
       "<style scoped>\n",
       "    .dataframe tbody tr th:only-of-type {\n",
       "        vertical-align: middle;\n",
       "    }\n",
       "\n",
       "    .dataframe tbody tr th {\n",
       "        vertical-align: top;\n",
       "    }\n",
       "\n",
       "    .dataframe thead th {\n",
       "        text-align: right;\n",
       "    }\n",
       "</style>\n",
       "<table border=\"1\" class=\"dataframe\">\n",
       "  <thead>\n",
       "    <tr style=\"text-align: right;\">\n",
       "      <th></th>\n",
       "      <th>key</th>\n",
       "      <th>temp_1</th>\n",
       "      <th>temp_2</th>\n",
       "      <th>Wire 1</th>\n",
       "      <th>Wire 2</th>\n",
       "      <th>Wire 3</th>\n",
       "      <th>Wire 4</th>\n",
       "      <th>Wire 5</th>\n",
       "      <th>Wire 6</th>\n",
       "      <th>Wire 7</th>\n",
       "      <th>Wire 8</th>\n",
       "      <th>Wire 9</th>\n",
       "      <th>act_pow</th>\n",
       "      <th>time_delta</th>\n",
       "      <th>Bulk 1</th>\n",
       "      <th>Bulk 2</th>\n",
       "      <th>Bulk 3</th>\n",
       "      <th>Bulk 4</th>\n",
       "      <th>Bulk 5</th>\n",
       "      <th>Bulk 6</th>\n",
       "      <th>Bulk 7</th>\n",
       "      <th>Bulk 8</th>\n",
       "      <th>Bulk 9</th>\n",
       "      <th>Bulk 10</th>\n",
       "      <th>Bulk 11</th>\n",
       "      <th>Bulk 12</th>\n",
       "      <th>Bulk 13</th>\n",
       "      <th>Bulk 14</th>\n",
       "      <th>Bulk 15</th>\n",
       "      <th>gas</th>\n",
       "    </tr>\n",
       "  </thead>\n",
       "  <tbody>\n",
       "    <tr>\n",
       "      <td>0</td>\n",
       "      <td>1</td>\n",
       "      <td>1571.0</td>\n",
       "      <td>1613.0</td>\n",
       "      <td>60.059998</td>\n",
       "      <td>0.0</td>\n",
       "      <td>0.0</td>\n",
       "      <td>0.0</td>\n",
       "      <td>0.0</td>\n",
       "      <td>0.0</td>\n",
       "      <td>0.0</td>\n",
       "      <td>0.0</td>\n",
       "      <td>0.0</td>\n",
       "      <td>4.878147</td>\n",
       "      <td>16</td>\n",
       "      <td>0.0</td>\n",
       "      <td>0.0</td>\n",
       "      <td>0.0</td>\n",
       "      <td>43.0</td>\n",
       "      <td>0.0</td>\n",
       "      <td>0.0</td>\n",
       "      <td>0.0</td>\n",
       "      <td>0.0</td>\n",
       "      <td>0.0</td>\n",
       "      <td>0.0</td>\n",
       "      <td>0.0</td>\n",
       "      <td>206.0</td>\n",
       "      <td>0.0</td>\n",
       "      <td>150.0</td>\n",
       "      <td>154.0</td>\n",
       "      <td>29.749986</td>\n",
       "    </tr>\n",
       "    <tr>\n",
       "      <td>1</td>\n",
       "      <td>2</td>\n",
       "      <td>1581.0</td>\n",
       "      <td>1602.0</td>\n",
       "      <td>96.052315</td>\n",
       "      <td>0.0</td>\n",
       "      <td>0.0</td>\n",
       "      <td>0.0</td>\n",
       "      <td>0.0</td>\n",
       "      <td>0.0</td>\n",
       "      <td>0.0</td>\n",
       "      <td>0.0</td>\n",
       "      <td>0.0</td>\n",
       "      <td>3.052598</td>\n",
       "      <td>12</td>\n",
       "      <td>0.0</td>\n",
       "      <td>0.0</td>\n",
       "      <td>0.0</td>\n",
       "      <td>73.0</td>\n",
       "      <td>0.0</td>\n",
       "      <td>0.0</td>\n",
       "      <td>0.0</td>\n",
       "      <td>0.0</td>\n",
       "      <td>0.0</td>\n",
       "      <td>0.0</td>\n",
       "      <td>0.0</td>\n",
       "      <td>206.0</td>\n",
       "      <td>0.0</td>\n",
       "      <td>149.0</td>\n",
       "      <td>154.0</td>\n",
       "      <td>12.555561</td>\n",
       "    </tr>\n",
       "    <tr>\n",
       "      <td>2</td>\n",
       "      <td>3</td>\n",
       "      <td>1596.0</td>\n",
       "      <td>1599.0</td>\n",
       "      <td>91.160157</td>\n",
       "      <td>0.0</td>\n",
       "      <td>0.0</td>\n",
       "      <td>0.0</td>\n",
       "      <td>0.0</td>\n",
       "      <td>0.0</td>\n",
       "      <td>0.0</td>\n",
       "      <td>0.0</td>\n",
       "      <td>0.0</td>\n",
       "      <td>2.525882</td>\n",
       "      <td>9</td>\n",
       "      <td>0.0</td>\n",
       "      <td>0.0</td>\n",
       "      <td>0.0</td>\n",
       "      <td>34.0</td>\n",
       "      <td>0.0</td>\n",
       "      <td>0.0</td>\n",
       "      <td>0.0</td>\n",
       "      <td>0.0</td>\n",
       "      <td>0.0</td>\n",
       "      <td>0.0</td>\n",
       "      <td>0.0</td>\n",
       "      <td>205.0</td>\n",
       "      <td>0.0</td>\n",
       "      <td>152.0</td>\n",
       "      <td>153.0</td>\n",
       "      <td>28.554793</td>\n",
       "    </tr>\n",
       "  </tbody>\n",
       "</table>\n",
       "</div>"
      ],
      "text/plain": [
       "   key  temp_1  temp_2     Wire 1  Wire 2  Wire 3  Wire 4  Wire 5  Wire 6  \\\n",
       "0    1  1571.0  1613.0  60.059998     0.0     0.0     0.0     0.0     0.0   \n",
       "1    2  1581.0  1602.0  96.052315     0.0     0.0     0.0     0.0     0.0   \n",
       "2    3  1596.0  1599.0  91.160157     0.0     0.0     0.0     0.0     0.0   \n",
       "\n",
       "   Wire 7  Wire 8  Wire 9   act_pow  time_delta  Bulk 1  Bulk 2  Bulk 3  \\\n",
       "0     0.0     0.0     0.0  4.878147          16     0.0     0.0     0.0   \n",
       "1     0.0     0.0     0.0  3.052598          12     0.0     0.0     0.0   \n",
       "2     0.0     0.0     0.0  2.525882           9     0.0     0.0     0.0   \n",
       "\n",
       "   Bulk 4  Bulk 5  Bulk 6  Bulk 7  Bulk 8  Bulk 9  Bulk 10  Bulk 11  Bulk 12  \\\n",
       "0    43.0     0.0     0.0     0.0     0.0     0.0      0.0      0.0    206.0   \n",
       "1    73.0     0.0     0.0     0.0     0.0     0.0      0.0      0.0    206.0   \n",
       "2    34.0     0.0     0.0     0.0     0.0     0.0      0.0      0.0    205.0   \n",
       "\n",
       "   Bulk 13  Bulk 14  Bulk 15        gas  \n",
       "0      0.0    150.0    154.0  29.749986  \n",
       "1      0.0    149.0    154.0  12.555561  \n",
       "2      0.0    152.0    153.0  28.554793  "
      ]
     },
     "execution_count": 93,
     "metadata": {},
     "output_type": "execute_result"
    }
   ],
   "source": [
    "pd.set_option('display.max_columns', 150)\n",
    "data.head(3)"
   ]
  },
  {
   "cell_type": "markdown",
   "metadata": {
    "id": "1nxHTvPiUJAK"
   },
   "source": [
    "## Изучение итогового набора данных."
   ]
  },
  {
   "cell_type": "markdown",
   "metadata": {
    "id": "wgM-KiMWUwZq"
   },
   "source": [
    "Построим матрицу корреляций"
   ]
  },
  {
   "cell_type": "code",
   "execution_count": 94,
   "metadata": {
    "colab": {
     "base_uri": "https://localhost:8080/",
     "height": 1000
    },
    "id": "W24XTBt6U1Wj",
    "outputId": "c72a9cfb-0123-4078-ef57-92b26fbb587b"
   },
   "outputs": [
    {
     "data": {
      "text/html": [
       "<div>\n",
       "<style scoped>\n",
       "    .dataframe tbody tr th:only-of-type {\n",
       "        vertical-align: middle;\n",
       "    }\n",
       "\n",
       "    .dataframe tbody tr th {\n",
       "        vertical-align: top;\n",
       "    }\n",
       "\n",
       "    .dataframe thead th {\n",
       "        text-align: right;\n",
       "    }\n",
       "</style>\n",
       "<table border=\"1\" class=\"dataframe\">\n",
       "  <thead>\n",
       "    <tr style=\"text-align: right;\">\n",
       "      <th></th>\n",
       "      <th>key</th>\n",
       "      <th>temp_1</th>\n",
       "      <th>temp_2</th>\n",
       "      <th>Wire 1</th>\n",
       "      <th>Wire 2</th>\n",
       "      <th>Wire 3</th>\n",
       "      <th>Wire 4</th>\n",
       "      <th>Wire 5</th>\n",
       "      <th>Wire 6</th>\n",
       "      <th>Wire 7</th>\n",
       "      <th>Wire 8</th>\n",
       "      <th>Wire 9</th>\n",
       "      <th>act_pow</th>\n",
       "      <th>time_delta</th>\n",
       "      <th>Bulk 1</th>\n",
       "      <th>Bulk 2</th>\n",
       "      <th>Bulk 3</th>\n",
       "      <th>Bulk 4</th>\n",
       "      <th>Bulk 5</th>\n",
       "      <th>Bulk 6</th>\n",
       "      <th>Bulk 7</th>\n",
       "      <th>Bulk 8</th>\n",
       "      <th>Bulk 9</th>\n",
       "      <th>Bulk 10</th>\n",
       "      <th>Bulk 11</th>\n",
       "      <th>Bulk 12</th>\n",
       "      <th>Bulk 13</th>\n",
       "      <th>Bulk 14</th>\n",
       "      <th>Bulk 15</th>\n",
       "      <th>gas</th>\n",
       "    </tr>\n",
       "  </thead>\n",
       "  <tbody>\n",
       "    <tr>\n",
       "      <td>key</td>\n",
       "      <td>1.000000</td>\n",
       "      <td>-0.021206</td>\n",
       "      <td>-0.101522</td>\n",
       "      <td>-0.016550</td>\n",
       "      <td>0.045248</td>\n",
       "      <td>-0.027068</td>\n",
       "      <td>0.049820</td>\n",
       "      <td>NaN</td>\n",
       "      <td>-0.007906</td>\n",
       "      <td>0.037370</td>\n",
       "      <td>-0.036007</td>\n",
       "      <td>0.021781</td>\n",
       "      <td>-0.030370</td>\n",
       "      <td>-0.036031</td>\n",
       "      <td>-0.074087</td>\n",
       "      <td>-0.005988</td>\n",
       "      <td>-0.005752</td>\n",
       "      <td>-0.027059</td>\n",
       "      <td>0.035872</td>\n",
       "      <td>0.007876</td>\n",
       "      <td>0.052941</td>\n",
       "      <td>0.015674</td>\n",
       "      <td>-0.039752</td>\n",
       "      <td>0.062053</td>\n",
       "      <td>0.038036</td>\n",
       "      <td>0.026805</td>\n",
       "      <td>-0.015651</td>\n",
       "      <td>-0.112169</td>\n",
       "      <td>-0.044593</td>\n",
       "      <td>-0.044429</td>\n",
       "    </tr>\n",
       "    <tr>\n",
       "      <td>temp_1</td>\n",
       "      <td>-0.021206</td>\n",
       "      <td>1.000000</td>\n",
       "      <td>0.247758</td>\n",
       "      <td>0.207442</td>\n",
       "      <td>-0.084844</td>\n",
       "      <td>0.000232</td>\n",
       "      <td>0.065347</td>\n",
       "      <td>NaN</td>\n",
       "      <td>0.020325</td>\n",
       "      <td>0.044967</td>\n",
       "      <td>-0.023055</td>\n",
       "      <td>0.004645</td>\n",
       "      <td>-0.351962</td>\n",
       "      <td>-0.314345</td>\n",
       "      <td>0.073896</td>\n",
       "      <td>0.120302</td>\n",
       "      <td>-0.104162</td>\n",
       "      <td>0.142999</td>\n",
       "      <td>0.068947</td>\n",
       "      <td>-0.095032</td>\n",
       "      <td>0.075107</td>\n",
       "      <td>-0.009264</td>\n",
       "      <td>-0.026013</td>\n",
       "      <td>0.035791</td>\n",
       "      <td>-0.087717</td>\n",
       "      <td>-0.061164</td>\n",
       "      <td>0.018910</td>\n",
       "      <td>-0.132640</td>\n",
       "      <td>-0.041960</td>\n",
       "      <td>0.037686</td>\n",
       "    </tr>\n",
       "    <tr>\n",
       "      <td>temp_2</td>\n",
       "      <td>-0.101522</td>\n",
       "      <td>0.247758</td>\n",
       "      <td>1.000000</td>\n",
       "      <td>0.313493</td>\n",
       "      <td>-0.206883</td>\n",
       "      <td>-0.048049</td>\n",
       "      <td>-0.161311</td>\n",
       "      <td>NaN</td>\n",
       "      <td>-0.084906</td>\n",
       "      <td>-0.138618</td>\n",
       "      <td>-0.010898</td>\n",
       "      <td>-0.027792</td>\n",
       "      <td>0.288620</td>\n",
       "      <td>0.284838</td>\n",
       "      <td>-0.074559</td>\n",
       "      <td>-0.083292</td>\n",
       "      <td>-0.036533</td>\n",
       "      <td>0.184636</td>\n",
       "      <td>-0.028678</td>\n",
       "      <td>-0.179633</td>\n",
       "      <td>-0.108353</td>\n",
       "      <td>-0.026855</td>\n",
       "      <td>-0.016259</td>\n",
       "      <td>0.061691</td>\n",
       "      <td>-0.110517</td>\n",
       "      <td>0.265241</td>\n",
       "      <td>-0.011054</td>\n",
       "      <td>0.113165</td>\n",
       "      <td>0.266348</td>\n",
       "      <td>0.058063</td>\n",
       "    </tr>\n",
       "    <tr>\n",
       "      <td>Wire 1</td>\n",
       "      <td>-0.016550</td>\n",
       "      <td>0.207442</td>\n",
       "      <td>0.313493</td>\n",
       "      <td>1.000000</td>\n",
       "      <td>-0.067045</td>\n",
       "      <td>0.038305</td>\n",
       "      <td>-0.142777</td>\n",
       "      <td>NaN</td>\n",
       "      <td>-0.128731</td>\n",
       "      <td>-0.067874</td>\n",
       "      <td>0.017340</td>\n",
       "      <td>0.021205</td>\n",
       "      <td>0.048517</td>\n",
       "      <td>0.041041</td>\n",
       "      <td>0.015794</td>\n",
       "      <td>-0.170400</td>\n",
       "      <td>0.040465</td>\n",
       "      <td>0.295424</td>\n",
       "      <td>-0.013550</td>\n",
       "      <td>-0.233375</td>\n",
       "      <td>-0.144045</td>\n",
       "      <td>0.034843</td>\n",
       "      <td>0.022732</td>\n",
       "      <td>0.062481</td>\n",
       "      <td>-0.115356</td>\n",
       "      <td>0.170117</td>\n",
       "      <td>0.039669</td>\n",
       "      <td>-0.054473</td>\n",
       "      <td>0.120059</td>\n",
       "      <td>0.115629</td>\n",
       "    </tr>\n",
       "    <tr>\n",
       "      <td>Wire 2</td>\n",
       "      <td>0.045248</td>\n",
       "      <td>-0.084844</td>\n",
       "      <td>-0.206883</td>\n",
       "      <td>-0.067045</td>\n",
       "      <td>1.000000</td>\n",
       "      <td>0.093985</td>\n",
       "      <td>-0.034043</td>\n",
       "      <td>NaN</td>\n",
       "      <td>-0.059201</td>\n",
       "      <td>-0.016337</td>\n",
       "      <td>0.069245</td>\n",
       "      <td>0.213453</td>\n",
       "      <td>0.055369</td>\n",
       "      <td>0.052472</td>\n",
       "      <td>-0.011764</td>\n",
       "      <td>-0.039388</td>\n",
       "      <td>0.096544</td>\n",
       "      <td>-0.266983</td>\n",
       "      <td>-0.014188</td>\n",
       "      <td>0.203061</td>\n",
       "      <td>-0.000830</td>\n",
       "      <td>0.018900</td>\n",
       "      <td>0.066697</td>\n",
       "      <td>-0.104179</td>\n",
       "      <td>0.066725</td>\n",
       "      <td>-0.100186</td>\n",
       "      <td>-0.001620</td>\n",
       "      <td>0.035552</td>\n",
       "      <td>-0.100112</td>\n",
       "      <td>0.103664</td>\n",
       "    </tr>\n",
       "    <tr>\n",
       "      <td>Wire 3</td>\n",
       "      <td>-0.027068</td>\n",
       "      <td>0.000232</td>\n",
       "      <td>-0.048049</td>\n",
       "      <td>0.038305</td>\n",
       "      <td>0.093985</td>\n",
       "      <td>1.000000</td>\n",
       "      <td>0.169716</td>\n",
       "      <td>NaN</td>\n",
       "      <td>0.183289</td>\n",
       "      <td>0.100347</td>\n",
       "      <td>-0.008319</td>\n",
       "      <td>-0.010794</td>\n",
       "      <td>0.035263</td>\n",
       "      <td>0.025101</td>\n",
       "      <td>0.020315</td>\n",
       "      <td>0.223100</td>\n",
       "      <td>0.005347</td>\n",
       "      <td>-0.039247</td>\n",
       "      <td>0.070718</td>\n",
       "      <td>-0.046949</td>\n",
       "      <td>0.156529</td>\n",
       "      <td>-0.002438</td>\n",
       "      <td>-0.008413</td>\n",
       "      <td>-0.028319</td>\n",
       "      <td>-0.021753</td>\n",
       "      <td>-0.121489</td>\n",
       "      <td>-0.008822</td>\n",
       "      <td>-0.009236</td>\n",
       "      <td>-0.119141</td>\n",
       "      <td>0.103659</td>\n",
       "    </tr>\n",
       "    <tr>\n",
       "      <td>Wire 4</td>\n",
       "      <td>0.049820</td>\n",
       "      <td>0.065347</td>\n",
       "      <td>-0.161311</td>\n",
       "      <td>-0.142777</td>\n",
       "      <td>-0.034043</td>\n",
       "      <td>0.169716</td>\n",
       "      <td>1.000000</td>\n",
       "      <td>NaN</td>\n",
       "      <td>0.445905</td>\n",
       "      <td>0.602957</td>\n",
       "      <td>-0.004630</td>\n",
       "      <td>-0.006007</td>\n",
       "      <td>0.047614</td>\n",
       "      <td>0.038927</td>\n",
       "      <td>0.147235</td>\n",
       "      <td>0.699320</td>\n",
       "      <td>-0.040974</td>\n",
       "      <td>0.034843</td>\n",
       "      <td>0.262681</td>\n",
       "      <td>-0.026155</td>\n",
       "      <td>0.740555</td>\n",
       "      <td>-0.001357</td>\n",
       "      <td>-0.004682</td>\n",
       "      <td>-0.015760</td>\n",
       "      <td>-0.012106</td>\n",
       "      <td>-0.086222</td>\n",
       "      <td>-0.004910</td>\n",
       "      <td>-0.122715</td>\n",
       "      <td>-0.092115</td>\n",
       "      <td>0.146140</td>\n",
       "    </tr>\n",
       "    <tr>\n",
       "      <td>Wire 5</td>\n",
       "      <td>NaN</td>\n",
       "      <td>NaN</td>\n",
       "      <td>NaN</td>\n",
       "      <td>NaN</td>\n",
       "      <td>NaN</td>\n",
       "      <td>NaN</td>\n",
       "      <td>NaN</td>\n",
       "      <td>NaN</td>\n",
       "      <td>NaN</td>\n",
       "      <td>NaN</td>\n",
       "      <td>NaN</td>\n",
       "      <td>NaN</td>\n",
       "      <td>NaN</td>\n",
       "      <td>NaN</td>\n",
       "      <td>NaN</td>\n",
       "      <td>NaN</td>\n",
       "      <td>NaN</td>\n",
       "      <td>NaN</td>\n",
       "      <td>NaN</td>\n",
       "      <td>NaN</td>\n",
       "      <td>NaN</td>\n",
       "      <td>NaN</td>\n",
       "      <td>NaN</td>\n",
       "      <td>NaN</td>\n",
       "      <td>NaN</td>\n",
       "      <td>NaN</td>\n",
       "      <td>NaN</td>\n",
       "      <td>NaN</td>\n",
       "      <td>NaN</td>\n",
       "      <td>NaN</td>\n",
       "    </tr>\n",
       "    <tr>\n",
       "      <td>Wire 6</td>\n",
       "      <td>-0.007906</td>\n",
       "      <td>0.020325</td>\n",
       "      <td>-0.084906</td>\n",
       "      <td>-0.128731</td>\n",
       "      <td>-0.059201</td>\n",
       "      <td>0.183289</td>\n",
       "      <td>0.445905</td>\n",
       "      <td>NaN</td>\n",
       "      <td>1.000000</td>\n",
       "      <td>0.302720</td>\n",
       "      <td>-0.008091</td>\n",
       "      <td>-0.010498</td>\n",
       "      <td>0.053100</td>\n",
       "      <td>0.036497</td>\n",
       "      <td>0.149481</td>\n",
       "      <td>0.558837</td>\n",
       "      <td>0.006699</td>\n",
       "      <td>-0.011236</td>\n",
       "      <td>0.204653</td>\n",
       "      <td>-0.020574</td>\n",
       "      <td>0.456046</td>\n",
       "      <td>-0.002371</td>\n",
       "      <td>-0.008182</td>\n",
       "      <td>-0.018076</td>\n",
       "      <td>0.009367</td>\n",
       "      <td>-0.043221</td>\n",
       "      <td>-0.008580</td>\n",
       "      <td>-0.053012</td>\n",
       "      <td>-0.032889</td>\n",
       "      <td>0.108406</td>\n",
       "    </tr>\n",
       "    <tr>\n",
       "      <td>Wire 7</td>\n",
       "      <td>0.037370</td>\n",
       "      <td>0.044967</td>\n",
       "      <td>-0.138618</td>\n",
       "      <td>-0.067874</td>\n",
       "      <td>-0.016337</td>\n",
       "      <td>0.100347</td>\n",
       "      <td>0.602957</td>\n",
       "      <td>NaN</td>\n",
       "      <td>0.302720</td>\n",
       "      <td>1.000000</td>\n",
       "      <td>-0.002222</td>\n",
       "      <td>-0.002883</td>\n",
       "      <td>0.019614</td>\n",
       "      <td>0.015675</td>\n",
       "      <td>0.083979</td>\n",
       "      <td>0.431723</td>\n",
       "      <td>-0.019663</td>\n",
       "      <td>0.034164</td>\n",
       "      <td>0.172104</td>\n",
       "      <td>-0.012551</td>\n",
       "      <td>0.372234</td>\n",
       "      <td>-0.000651</td>\n",
       "      <td>-0.002247</td>\n",
       "      <td>-0.007563</td>\n",
       "      <td>-0.005810</td>\n",
       "      <td>-0.041377</td>\n",
       "      <td>-0.002356</td>\n",
       "      <td>-0.058889</td>\n",
       "      <td>-0.044205</td>\n",
       "      <td>0.079361</td>\n",
       "    </tr>\n",
       "    <tr>\n",
       "      <td>Wire 8</td>\n",
       "      <td>-0.036007</td>\n",
       "      <td>-0.023055</td>\n",
       "      <td>-0.010898</td>\n",
       "      <td>0.017340</td>\n",
       "      <td>0.069245</td>\n",
       "      <td>-0.008319</td>\n",
       "      <td>-0.004630</td>\n",
       "      <td>NaN</td>\n",
       "      <td>-0.008091</td>\n",
       "      <td>-0.002222</td>\n",
       "      <td>1.000000</td>\n",
       "      <td>-0.006592</td>\n",
       "      <td>0.029313</td>\n",
       "      <td>0.019262</td>\n",
       "      <td>-0.019725</td>\n",
       "      <td>-0.005357</td>\n",
       "      <td>0.004588</td>\n",
       "      <td>0.008061</td>\n",
       "      <td>-0.008469</td>\n",
       "      <td>-0.028703</td>\n",
       "      <td>-0.004696</td>\n",
       "      <td>0.321030</td>\n",
       "      <td>0.974967</td>\n",
       "      <td>-0.017296</td>\n",
       "      <td>-0.013286</td>\n",
       "      <td>-0.056273</td>\n",
       "      <td>-0.005388</td>\n",
       "      <td>0.043710</td>\n",
       "      <td>-0.090714</td>\n",
       "      <td>0.118594</td>\n",
       "    </tr>\n",
       "    <tr>\n",
       "      <td>Wire 9</td>\n",
       "      <td>0.021781</td>\n",
       "      <td>0.004645</td>\n",
       "      <td>-0.027792</td>\n",
       "      <td>0.021205</td>\n",
       "      <td>0.213453</td>\n",
       "      <td>-0.010794</td>\n",
       "      <td>-0.006007</td>\n",
       "      <td>NaN</td>\n",
       "      <td>-0.010498</td>\n",
       "      <td>-0.002883</td>\n",
       "      <td>-0.006592</td>\n",
       "      <td>1.000000</td>\n",
       "      <td>-0.016761</td>\n",
       "      <td>-0.008313</td>\n",
       "      <td>0.011065</td>\n",
       "      <td>-0.006950</td>\n",
       "      <td>0.004278</td>\n",
       "      <td>-0.058371</td>\n",
       "      <td>-0.010989</td>\n",
       "      <td>-0.013612</td>\n",
       "      <td>-0.006093</td>\n",
       "      <td>-0.001932</td>\n",
       "      <td>-0.006667</td>\n",
       "      <td>-0.022441</td>\n",
       "      <td>-0.017238</td>\n",
       "      <td>-0.042666</td>\n",
       "      <td>-0.006991</td>\n",
       "      <td>0.018425</td>\n",
       "      <td>-0.037412</td>\n",
       "      <td>0.013835</td>\n",
       "    </tr>\n",
       "    <tr>\n",
       "      <td>act_pow</td>\n",
       "      <td>-0.030370</td>\n",
       "      <td>-0.351962</td>\n",
       "      <td>0.288620</td>\n",
       "      <td>0.048517</td>\n",
       "      <td>0.055369</td>\n",
       "      <td>0.035263</td>\n",
       "      <td>0.047614</td>\n",
       "      <td>NaN</td>\n",
       "      <td>0.053100</td>\n",
       "      <td>0.019614</td>\n",
       "      <td>0.029313</td>\n",
       "      <td>-0.016761</td>\n",
       "      <td>1.000000</td>\n",
       "      <td>0.970311</td>\n",
       "      <td>0.086541</td>\n",
       "      <td>0.030900</td>\n",
       "      <td>0.111404</td>\n",
       "      <td>-0.032507</td>\n",
       "      <td>0.005928</td>\n",
       "      <td>0.155275</td>\n",
       "      <td>0.074576</td>\n",
       "      <td>-0.011588</td>\n",
       "      <td>0.023512</td>\n",
       "      <td>-0.003935</td>\n",
       "      <td>0.078163</td>\n",
       "      <td>0.475958</td>\n",
       "      <td>0.122878</td>\n",
       "      <td>0.465115</td>\n",
       "      <td>0.333184</td>\n",
       "      <td>0.374228</td>\n",
       "    </tr>\n",
       "    <tr>\n",
       "      <td>time_delta</td>\n",
       "      <td>-0.036031</td>\n",
       "      <td>-0.314345</td>\n",
       "      <td>0.284838</td>\n",
       "      <td>0.041041</td>\n",
       "      <td>0.052472</td>\n",
       "      <td>0.025101</td>\n",
       "      <td>0.038927</td>\n",
       "      <td>NaN</td>\n",
       "      <td>0.036497</td>\n",
       "      <td>0.015675</td>\n",
       "      <td>0.019262</td>\n",
       "      <td>-0.008313</td>\n",
       "      <td>0.970311</td>\n",
       "      <td>1.000000</td>\n",
       "      <td>0.108153</td>\n",
       "      <td>0.023906</td>\n",
       "      <td>0.082811</td>\n",
       "      <td>-0.035195</td>\n",
       "      <td>0.000530</td>\n",
       "      <td>0.154774</td>\n",
       "      <td>0.067423</td>\n",
       "      <td>-0.009814</td>\n",
       "      <td>0.014129</td>\n",
       "      <td>-0.017198</td>\n",
       "      <td>0.082160</td>\n",
       "      <td>0.471184</td>\n",
       "      <td>0.129614</td>\n",
       "      <td>0.464750</td>\n",
       "      <td>0.304367</td>\n",
       "      <td>0.376559</td>\n",
       "    </tr>\n",
       "    <tr>\n",
       "      <td>Bulk 1</td>\n",
       "      <td>-0.074087</td>\n",
       "      <td>0.073896</td>\n",
       "      <td>-0.074559</td>\n",
       "      <td>0.015794</td>\n",
       "      <td>-0.011764</td>\n",
       "      <td>0.020315</td>\n",
       "      <td>0.147235</td>\n",
       "      <td>NaN</td>\n",
       "      <td>0.149481</td>\n",
       "      <td>0.083979</td>\n",
       "      <td>-0.019725</td>\n",
       "      <td>0.011065</td>\n",
       "      <td>0.086541</td>\n",
       "      <td>0.108153</td>\n",
       "      <td>1.000000</td>\n",
       "      <td>0.226159</td>\n",
       "      <td>-0.010652</td>\n",
       "      <td>0.041917</td>\n",
       "      <td>0.060744</td>\n",
       "      <td>-0.005339</td>\n",
       "      <td>0.238760</td>\n",
       "      <td>-0.005780</td>\n",
       "      <td>-0.019948</td>\n",
       "      <td>-0.023044</td>\n",
       "      <td>-0.037009</td>\n",
       "      <td>0.327637</td>\n",
       "      <td>-0.010411</td>\n",
       "      <td>0.208215</td>\n",
       "      <td>-0.000323</td>\n",
       "      <td>0.239360</td>\n",
       "    </tr>\n",
       "    <tr>\n",
       "      <td>Bulk 2</td>\n",
       "      <td>-0.005988</td>\n",
       "      <td>0.120302</td>\n",
       "      <td>-0.083292</td>\n",
       "      <td>-0.170400</td>\n",
       "      <td>-0.039388</td>\n",
       "      <td>0.223100</td>\n",
       "      <td>0.699320</td>\n",
       "      <td>NaN</td>\n",
       "      <td>0.558837</td>\n",
       "      <td>0.431723</td>\n",
       "      <td>-0.005357</td>\n",
       "      <td>-0.006950</td>\n",
       "      <td>0.030900</td>\n",
       "      <td>0.023906</td>\n",
       "      <td>0.226159</td>\n",
       "      <td>1.000000</td>\n",
       "      <td>-0.047407</td>\n",
       "      <td>0.041288</td>\n",
       "      <td>0.360219</td>\n",
       "      <td>-0.030261</td>\n",
       "      <td>0.679332</td>\n",
       "      <td>-0.001570</td>\n",
       "      <td>-0.005417</td>\n",
       "      <td>-0.018235</td>\n",
       "      <td>0.001837</td>\n",
       "      <td>-0.099758</td>\n",
       "      <td>-0.005681</td>\n",
       "      <td>-0.141981</td>\n",
       "      <td>-0.106577</td>\n",
       "      <td>0.218583</td>\n",
       "    </tr>\n",
       "    <tr>\n",
       "      <td>Bulk 3</td>\n",
       "      <td>-0.005752</td>\n",
       "      <td>-0.104162</td>\n",
       "      <td>-0.036533</td>\n",
       "      <td>0.040465</td>\n",
       "      <td>0.096544</td>\n",
       "      <td>0.005347</td>\n",
       "      <td>-0.040974</td>\n",
       "      <td>NaN</td>\n",
       "      <td>0.006699</td>\n",
       "      <td>-0.019663</td>\n",
       "      <td>0.004588</td>\n",
       "      <td>0.004278</td>\n",
       "      <td>0.111404</td>\n",
       "      <td>0.082811</td>\n",
       "      <td>-0.010652</td>\n",
       "      <td>-0.047407</td>\n",
       "      <td>1.000000</td>\n",
       "      <td>-0.294200</td>\n",
       "      <td>-0.007302</td>\n",
       "      <td>0.066254</td>\n",
       "      <td>-0.033898</td>\n",
       "      <td>0.020839</td>\n",
       "      <td>0.011106</td>\n",
       "      <td>-0.085609</td>\n",
       "      <td>-0.008658</td>\n",
       "      <td>0.018912</td>\n",
       "      <td>-0.013751</td>\n",
       "      <td>0.010684</td>\n",
       "      <td>-0.013031</td>\n",
       "      <td>0.057472</td>\n",
       "    </tr>\n",
       "    <tr>\n",
       "      <td>Bulk 4</td>\n",
       "      <td>-0.027059</td>\n",
       "      <td>0.142999</td>\n",
       "      <td>0.184636</td>\n",
       "      <td>0.295424</td>\n",
       "      <td>-0.266983</td>\n",
       "      <td>-0.039247</td>\n",
       "      <td>0.034843</td>\n",
       "      <td>NaN</td>\n",
       "      <td>-0.011236</td>\n",
       "      <td>0.034164</td>\n",
       "      <td>0.008061</td>\n",
       "      <td>-0.058371</td>\n",
       "      <td>-0.032507</td>\n",
       "      <td>-0.035195</td>\n",
       "      <td>0.041917</td>\n",
       "      <td>0.041288</td>\n",
       "      <td>-0.294200</td>\n",
       "      <td>1.000000</td>\n",
       "      <td>0.028852</td>\n",
       "      <td>-0.250883</td>\n",
       "      <td>0.046405</td>\n",
       "      <td>-0.013239</td>\n",
       "      <td>-0.002791</td>\n",
       "      <td>-0.085481</td>\n",
       "      <td>-0.117665</td>\n",
       "      <td>0.104344</td>\n",
       "      <td>0.003414</td>\n",
       "      <td>-0.090557</td>\n",
       "      <td>0.102593</td>\n",
       "      <td>0.016853</td>\n",
       "    </tr>\n",
       "    <tr>\n",
       "      <td>Bulk 5</td>\n",
       "      <td>0.035872</td>\n",
       "      <td>0.068947</td>\n",
       "      <td>-0.028678</td>\n",
       "      <td>-0.013550</td>\n",
       "      <td>-0.014188</td>\n",
       "      <td>0.070718</td>\n",
       "      <td>0.262681</td>\n",
       "      <td>NaN</td>\n",
       "      <td>0.204653</td>\n",
       "      <td>0.172104</td>\n",
       "      <td>-0.008469</td>\n",
       "      <td>-0.010989</td>\n",
       "      <td>0.005928</td>\n",
       "      <td>0.000530</td>\n",
       "      <td>0.060744</td>\n",
       "      <td>0.360219</td>\n",
       "      <td>-0.007302</td>\n",
       "      <td>0.028852</td>\n",
       "      <td>1.000000</td>\n",
       "      <td>-0.022222</td>\n",
       "      <td>0.288258</td>\n",
       "      <td>-0.002482</td>\n",
       "      <td>-0.008565</td>\n",
       "      <td>-0.028830</td>\n",
       "      <td>-0.015630</td>\n",
       "      <td>-0.073461</td>\n",
       "      <td>-0.008981</td>\n",
       "      <td>-0.066610</td>\n",
       "      <td>-0.067909</td>\n",
       "      <td>0.087060</td>\n",
       "    </tr>\n",
       "    <tr>\n",
       "      <td>Bulk 6</td>\n",
       "      <td>0.007876</td>\n",
       "      <td>-0.095032</td>\n",
       "      <td>-0.179633</td>\n",
       "      <td>-0.233375</td>\n",
       "      <td>0.203061</td>\n",
       "      <td>-0.046949</td>\n",
       "      <td>-0.026155</td>\n",
       "      <td>NaN</td>\n",
       "      <td>-0.020574</td>\n",
       "      <td>-0.012551</td>\n",
       "      <td>-0.028703</td>\n",
       "      <td>-0.013612</td>\n",
       "      <td>0.155275</td>\n",
       "      <td>0.154774</td>\n",
       "      <td>-0.005339</td>\n",
       "      <td>-0.030261</td>\n",
       "      <td>0.066254</td>\n",
       "      <td>-0.250883</td>\n",
       "      <td>-0.022222</td>\n",
       "      <td>1.000000</td>\n",
       "      <td>-0.025339</td>\n",
       "      <td>-0.008411</td>\n",
       "      <td>-0.029027</td>\n",
       "      <td>-0.097709</td>\n",
       "      <td>0.199274</td>\n",
       "      <td>-0.113537</td>\n",
       "      <td>0.042553</td>\n",
       "      <td>0.177188</td>\n",
       "      <td>-0.111807</td>\n",
       "      <td>0.140886</td>\n",
       "    </tr>\n",
       "    <tr>\n",
       "      <td>Bulk 7</td>\n",
       "      <td>0.052941</td>\n",
       "      <td>0.075107</td>\n",
       "      <td>-0.108353</td>\n",
       "      <td>-0.144045</td>\n",
       "      <td>-0.000830</td>\n",
       "      <td>0.156529</td>\n",
       "      <td>0.740555</td>\n",
       "      <td>NaN</td>\n",
       "      <td>0.456046</td>\n",
       "      <td>0.372234</td>\n",
       "      <td>-0.004696</td>\n",
       "      <td>-0.006093</td>\n",
       "      <td>0.074576</td>\n",
       "      <td>0.067423</td>\n",
       "      <td>0.238760</td>\n",
       "      <td>0.679332</td>\n",
       "      <td>-0.033898</td>\n",
       "      <td>0.046405</td>\n",
       "      <td>0.288258</td>\n",
       "      <td>-0.025339</td>\n",
       "      <td>1.000000</td>\n",
       "      <td>-0.001376</td>\n",
       "      <td>-0.004749</td>\n",
       "      <td>-0.015985</td>\n",
       "      <td>-0.004717</td>\n",
       "      <td>-0.017977</td>\n",
       "      <td>-0.004980</td>\n",
       "      <td>-0.077015</td>\n",
       "      <td>-0.090856</td>\n",
       "      <td>0.199384</td>\n",
       "    </tr>\n",
       "    <tr>\n",
       "      <td>Bulk 8</td>\n",
       "      <td>0.015674</td>\n",
       "      <td>-0.009264</td>\n",
       "      <td>-0.026855</td>\n",
       "      <td>0.034843</td>\n",
       "      <td>0.018900</td>\n",
       "      <td>-0.002438</td>\n",
       "      <td>-0.001357</td>\n",
       "      <td>NaN</td>\n",
       "      <td>-0.002371</td>\n",
       "      <td>-0.000651</td>\n",
       "      <td>0.321030</td>\n",
       "      <td>-0.001932</td>\n",
       "      <td>-0.011588</td>\n",
       "      <td>-0.009814</td>\n",
       "      <td>-0.005780</td>\n",
       "      <td>-0.001570</td>\n",
       "      <td>0.020839</td>\n",
       "      <td>-0.013239</td>\n",
       "      <td>-0.002482</td>\n",
       "      <td>-0.008411</td>\n",
       "      <td>-0.001376</td>\n",
       "      <td>1.000000</td>\n",
       "      <td>0.488389</td>\n",
       "      <td>-0.005068</td>\n",
       "      <td>-0.003893</td>\n",
       "      <td>-0.027728</td>\n",
       "      <td>-0.001579</td>\n",
       "      <td>-0.039464</td>\n",
       "      <td>-0.029623</td>\n",
       "      <td>0.004081</td>\n",
       "    </tr>\n",
       "    <tr>\n",
       "      <td>Bulk 9</td>\n",
       "      <td>-0.039752</td>\n",
       "      <td>-0.026013</td>\n",
       "      <td>-0.016259</td>\n",
       "      <td>0.022732</td>\n",
       "      <td>0.066697</td>\n",
       "      <td>-0.008413</td>\n",
       "      <td>-0.004682</td>\n",
       "      <td>NaN</td>\n",
       "      <td>-0.008182</td>\n",
       "      <td>-0.002247</td>\n",
       "      <td>0.974967</td>\n",
       "      <td>-0.006667</td>\n",
       "      <td>0.023512</td>\n",
       "      <td>0.014129</td>\n",
       "      <td>-0.019948</td>\n",
       "      <td>-0.005417</td>\n",
       "      <td>0.011106</td>\n",
       "      <td>-0.002791</td>\n",
       "      <td>-0.008565</td>\n",
       "      <td>-0.029027</td>\n",
       "      <td>-0.004749</td>\n",
       "      <td>0.488389</td>\n",
       "      <td>1.000000</td>\n",
       "      <td>-0.017491</td>\n",
       "      <td>-0.013436</td>\n",
       "      <td>-0.058220</td>\n",
       "      <td>-0.005449</td>\n",
       "      <td>0.038870</td>\n",
       "      <td>-0.094300</td>\n",
       "      <td>0.117090</td>\n",
       "    </tr>\n",
       "    <tr>\n",
       "      <td>Bulk 10</td>\n",
       "      <td>0.062053</td>\n",
       "      <td>0.035791</td>\n",
       "      <td>0.061691</td>\n",
       "      <td>0.062481</td>\n",
       "      <td>-0.104179</td>\n",
       "      <td>-0.028319</td>\n",
       "      <td>-0.015760</td>\n",
       "      <td>NaN</td>\n",
       "      <td>-0.018076</td>\n",
       "      <td>-0.007563</td>\n",
       "      <td>-0.017296</td>\n",
       "      <td>-0.022441</td>\n",
       "      <td>-0.003935</td>\n",
       "      <td>-0.017198</td>\n",
       "      <td>-0.023044</td>\n",
       "      <td>-0.018235</td>\n",
       "      <td>-0.085609</td>\n",
       "      <td>-0.085481</td>\n",
       "      <td>-0.028830</td>\n",
       "      <td>-0.097709</td>\n",
       "      <td>-0.015985</td>\n",
       "      <td>-0.005068</td>\n",
       "      <td>-0.017491</td>\n",
       "      <td>1.000000</td>\n",
       "      <td>-0.045227</td>\n",
       "      <td>0.024191</td>\n",
       "      <td>-0.018342</td>\n",
       "      <td>-0.048628</td>\n",
       "      <td>0.049956</td>\n",
       "      <td>-0.009879</td>\n",
       "    </tr>\n",
       "    <tr>\n",
       "      <td>Bulk 11</td>\n",
       "      <td>0.038036</td>\n",
       "      <td>-0.087717</td>\n",
       "      <td>-0.110517</td>\n",
       "      <td>-0.115356</td>\n",
       "      <td>0.066725</td>\n",
       "      <td>-0.021753</td>\n",
       "      <td>-0.012106</td>\n",
       "      <td>NaN</td>\n",
       "      <td>0.009367</td>\n",
       "      <td>-0.005810</td>\n",
       "      <td>-0.013286</td>\n",
       "      <td>-0.017238</td>\n",
       "      <td>0.078163</td>\n",
       "      <td>0.082160</td>\n",
       "      <td>-0.037009</td>\n",
       "      <td>0.001837</td>\n",
       "      <td>-0.008658</td>\n",
       "      <td>-0.117665</td>\n",
       "      <td>-0.015630</td>\n",
       "      <td>0.199274</td>\n",
       "      <td>-0.004717</td>\n",
       "      <td>-0.003893</td>\n",
       "      <td>-0.013436</td>\n",
       "      <td>-0.045227</td>\n",
       "      <td>1.000000</td>\n",
       "      <td>-0.036643</td>\n",
       "      <td>-0.010117</td>\n",
       "      <td>0.078279</td>\n",
       "      <td>-0.049977</td>\n",
       "      <td>0.041922</td>\n",
       "    </tr>\n",
       "    <tr>\n",
       "      <td>Bulk 12</td>\n",
       "      <td>0.026805</td>\n",
       "      <td>-0.061164</td>\n",
       "      <td>0.265241</td>\n",
       "      <td>0.170117</td>\n",
       "      <td>-0.100186</td>\n",
       "      <td>-0.121489</td>\n",
       "      <td>-0.086222</td>\n",
       "      <td>NaN</td>\n",
       "      <td>-0.043221</td>\n",
       "      <td>-0.041377</td>\n",
       "      <td>-0.056273</td>\n",
       "      <td>-0.042666</td>\n",
       "      <td>0.475958</td>\n",
       "      <td>0.471184</td>\n",
       "      <td>0.327637</td>\n",
       "      <td>-0.099758</td>\n",
       "      <td>0.018912</td>\n",
       "      <td>0.104344</td>\n",
       "      <td>-0.073461</td>\n",
       "      <td>-0.113537</td>\n",
       "      <td>-0.017977</td>\n",
       "      <td>-0.027728</td>\n",
       "      <td>-0.058220</td>\n",
       "      <td>0.024191</td>\n",
       "      <td>-0.036643</td>\n",
       "      <td>1.000000</td>\n",
       "      <td>0.054432</td>\n",
       "      <td>0.480171</td>\n",
       "      <td>0.614359</td>\n",
       "      <td>0.215532</td>\n",
       "    </tr>\n",
       "    <tr>\n",
       "      <td>Bulk 13</td>\n",
       "      <td>-0.015651</td>\n",
       "      <td>0.018910</td>\n",
       "      <td>-0.011054</td>\n",
       "      <td>0.039669</td>\n",
       "      <td>-0.001620</td>\n",
       "      <td>-0.008822</td>\n",
       "      <td>-0.004910</td>\n",
       "      <td>NaN</td>\n",
       "      <td>-0.008580</td>\n",
       "      <td>-0.002356</td>\n",
       "      <td>-0.005388</td>\n",
       "      <td>-0.006991</td>\n",
       "      <td>0.122878</td>\n",
       "      <td>0.129614</td>\n",
       "      <td>-0.010411</td>\n",
       "      <td>-0.005681</td>\n",
       "      <td>-0.013751</td>\n",
       "      <td>0.003414</td>\n",
       "      <td>-0.008981</td>\n",
       "      <td>0.042553</td>\n",
       "      <td>-0.004980</td>\n",
       "      <td>-0.001579</td>\n",
       "      <td>-0.005449</td>\n",
       "      <td>-0.018342</td>\n",
       "      <td>-0.010117</td>\n",
       "      <td>0.054432</td>\n",
       "      <td>1.000000</td>\n",
       "      <td>-0.076228</td>\n",
       "      <td>0.018524</td>\n",
       "      <td>0.049112</td>\n",
       "    </tr>\n",
       "    <tr>\n",
       "      <td>Bulk 14</td>\n",
       "      <td>-0.112169</td>\n",
       "      <td>-0.132640</td>\n",
       "      <td>0.113165</td>\n",
       "      <td>-0.054473</td>\n",
       "      <td>0.035552</td>\n",
       "      <td>-0.009236</td>\n",
       "      <td>-0.122715</td>\n",
       "      <td>NaN</td>\n",
       "      <td>-0.053012</td>\n",
       "      <td>-0.058889</td>\n",
       "      <td>0.043710</td>\n",
       "      <td>0.018425</td>\n",
       "      <td>0.465115</td>\n",
       "      <td>0.464750</td>\n",
       "      <td>0.208215</td>\n",
       "      <td>-0.141981</td>\n",
       "      <td>0.010684</td>\n",
       "      <td>-0.090557</td>\n",
       "      <td>-0.066610</td>\n",
       "      <td>0.177188</td>\n",
       "      <td>-0.077015</td>\n",
       "      <td>-0.039464</td>\n",
       "      <td>0.038870</td>\n",
       "      <td>-0.048628</td>\n",
       "      <td>0.078279</td>\n",
       "      <td>0.480171</td>\n",
       "      <td>-0.076228</td>\n",
       "      <td>1.000000</td>\n",
       "      <td>0.264504</td>\n",
       "      <td>0.269012</td>\n",
       "    </tr>\n",
       "    <tr>\n",
       "      <td>Bulk 15</td>\n",
       "      <td>-0.044593</td>\n",
       "      <td>-0.041960</td>\n",
       "      <td>0.266348</td>\n",
       "      <td>0.120059</td>\n",
       "      <td>-0.100112</td>\n",
       "      <td>-0.119141</td>\n",
       "      <td>-0.092115</td>\n",
       "      <td>NaN</td>\n",
       "      <td>-0.032889</td>\n",
       "      <td>-0.044205</td>\n",
       "      <td>-0.090714</td>\n",
       "      <td>-0.037412</td>\n",
       "      <td>0.333184</td>\n",
       "      <td>0.304367</td>\n",
       "      <td>-0.000323</td>\n",
       "      <td>-0.106577</td>\n",
       "      <td>-0.013031</td>\n",
       "      <td>0.102593</td>\n",
       "      <td>-0.067909</td>\n",
       "      <td>-0.111807</td>\n",
       "      <td>-0.090856</td>\n",
       "      <td>-0.029623</td>\n",
       "      <td>-0.094300</td>\n",
       "      <td>0.049956</td>\n",
       "      <td>-0.049977</td>\n",
       "      <td>0.614359</td>\n",
       "      <td>0.018524</td>\n",
       "      <td>0.264504</td>\n",
       "      <td>1.000000</td>\n",
       "      <td>0.038998</td>\n",
       "    </tr>\n",
       "    <tr>\n",
       "      <td>gas</td>\n",
       "      <td>-0.044429</td>\n",
       "      <td>0.037686</td>\n",
       "      <td>0.058063</td>\n",
       "      <td>0.115629</td>\n",
       "      <td>0.103664</td>\n",
       "      <td>0.103659</td>\n",
       "      <td>0.146140</td>\n",
       "      <td>NaN</td>\n",
       "      <td>0.108406</td>\n",
       "      <td>0.079361</td>\n",
       "      <td>0.118594</td>\n",
       "      <td>0.013835</td>\n",
       "      <td>0.374228</td>\n",
       "      <td>0.376559</td>\n",
       "      <td>0.239360</td>\n",
       "      <td>0.218583</td>\n",
       "      <td>0.057472</td>\n",
       "      <td>0.016853</td>\n",
       "      <td>0.087060</td>\n",
       "      <td>0.140886</td>\n",
       "      <td>0.199384</td>\n",
       "      <td>0.004081</td>\n",
       "      <td>0.117090</td>\n",
       "      <td>-0.009879</td>\n",
       "      <td>0.041922</td>\n",
       "      <td>0.215532</td>\n",
       "      <td>0.049112</td>\n",
       "      <td>0.269012</td>\n",
       "      <td>0.038998</td>\n",
       "      <td>1.000000</td>\n",
       "    </tr>\n",
       "  </tbody>\n",
       "</table>\n",
       "</div>"
      ],
      "text/plain": [
       "                 key    temp_1    temp_2    Wire 1    Wire 2    Wire 3  \\\n",
       "key         1.000000 -0.021206 -0.101522 -0.016550  0.045248 -0.027068   \n",
       "temp_1     -0.021206  1.000000  0.247758  0.207442 -0.084844  0.000232   \n",
       "temp_2     -0.101522  0.247758  1.000000  0.313493 -0.206883 -0.048049   \n",
       "Wire 1     -0.016550  0.207442  0.313493  1.000000 -0.067045  0.038305   \n",
       "Wire 2      0.045248 -0.084844 -0.206883 -0.067045  1.000000  0.093985   \n",
       "Wire 3     -0.027068  0.000232 -0.048049  0.038305  0.093985  1.000000   \n",
       "Wire 4      0.049820  0.065347 -0.161311 -0.142777 -0.034043  0.169716   \n",
       "Wire 5           NaN       NaN       NaN       NaN       NaN       NaN   \n",
       "Wire 6     -0.007906  0.020325 -0.084906 -0.128731 -0.059201  0.183289   \n",
       "Wire 7      0.037370  0.044967 -0.138618 -0.067874 -0.016337  0.100347   \n",
       "Wire 8     -0.036007 -0.023055 -0.010898  0.017340  0.069245 -0.008319   \n",
       "Wire 9      0.021781  0.004645 -0.027792  0.021205  0.213453 -0.010794   \n",
       "act_pow    -0.030370 -0.351962  0.288620  0.048517  0.055369  0.035263   \n",
       "time_delta -0.036031 -0.314345  0.284838  0.041041  0.052472  0.025101   \n",
       "Bulk 1     -0.074087  0.073896 -0.074559  0.015794 -0.011764  0.020315   \n",
       "Bulk 2     -0.005988  0.120302 -0.083292 -0.170400 -0.039388  0.223100   \n",
       "Bulk 3     -0.005752 -0.104162 -0.036533  0.040465  0.096544  0.005347   \n",
       "Bulk 4     -0.027059  0.142999  0.184636  0.295424 -0.266983 -0.039247   \n",
       "Bulk 5      0.035872  0.068947 -0.028678 -0.013550 -0.014188  0.070718   \n",
       "Bulk 6      0.007876 -0.095032 -0.179633 -0.233375  0.203061 -0.046949   \n",
       "Bulk 7      0.052941  0.075107 -0.108353 -0.144045 -0.000830  0.156529   \n",
       "Bulk 8      0.015674 -0.009264 -0.026855  0.034843  0.018900 -0.002438   \n",
       "Bulk 9     -0.039752 -0.026013 -0.016259  0.022732  0.066697 -0.008413   \n",
       "Bulk 10     0.062053  0.035791  0.061691  0.062481 -0.104179 -0.028319   \n",
       "Bulk 11     0.038036 -0.087717 -0.110517 -0.115356  0.066725 -0.021753   \n",
       "Bulk 12     0.026805 -0.061164  0.265241  0.170117 -0.100186 -0.121489   \n",
       "Bulk 13    -0.015651  0.018910 -0.011054  0.039669 -0.001620 -0.008822   \n",
       "Bulk 14    -0.112169 -0.132640  0.113165 -0.054473  0.035552 -0.009236   \n",
       "Bulk 15    -0.044593 -0.041960  0.266348  0.120059 -0.100112 -0.119141   \n",
       "gas        -0.044429  0.037686  0.058063  0.115629  0.103664  0.103659   \n",
       "\n",
       "              Wire 4  Wire 5    Wire 6    Wire 7    Wire 8    Wire 9  \\\n",
       "key         0.049820     NaN -0.007906  0.037370 -0.036007  0.021781   \n",
       "temp_1      0.065347     NaN  0.020325  0.044967 -0.023055  0.004645   \n",
       "temp_2     -0.161311     NaN -0.084906 -0.138618 -0.010898 -0.027792   \n",
       "Wire 1     -0.142777     NaN -0.128731 -0.067874  0.017340  0.021205   \n",
       "Wire 2     -0.034043     NaN -0.059201 -0.016337  0.069245  0.213453   \n",
       "Wire 3      0.169716     NaN  0.183289  0.100347 -0.008319 -0.010794   \n",
       "Wire 4      1.000000     NaN  0.445905  0.602957 -0.004630 -0.006007   \n",
       "Wire 5           NaN     NaN       NaN       NaN       NaN       NaN   \n",
       "Wire 6      0.445905     NaN  1.000000  0.302720 -0.008091 -0.010498   \n",
       "Wire 7      0.602957     NaN  0.302720  1.000000 -0.002222 -0.002883   \n",
       "Wire 8     -0.004630     NaN -0.008091 -0.002222  1.000000 -0.006592   \n",
       "Wire 9     -0.006007     NaN -0.010498 -0.002883 -0.006592  1.000000   \n",
       "act_pow     0.047614     NaN  0.053100  0.019614  0.029313 -0.016761   \n",
       "time_delta  0.038927     NaN  0.036497  0.015675  0.019262 -0.008313   \n",
       "Bulk 1      0.147235     NaN  0.149481  0.083979 -0.019725  0.011065   \n",
       "Bulk 2      0.699320     NaN  0.558837  0.431723 -0.005357 -0.006950   \n",
       "Bulk 3     -0.040974     NaN  0.006699 -0.019663  0.004588  0.004278   \n",
       "Bulk 4      0.034843     NaN -0.011236  0.034164  0.008061 -0.058371   \n",
       "Bulk 5      0.262681     NaN  0.204653  0.172104 -0.008469 -0.010989   \n",
       "Bulk 6     -0.026155     NaN -0.020574 -0.012551 -0.028703 -0.013612   \n",
       "Bulk 7      0.740555     NaN  0.456046  0.372234 -0.004696 -0.006093   \n",
       "Bulk 8     -0.001357     NaN -0.002371 -0.000651  0.321030 -0.001932   \n",
       "Bulk 9     -0.004682     NaN -0.008182 -0.002247  0.974967 -0.006667   \n",
       "Bulk 10    -0.015760     NaN -0.018076 -0.007563 -0.017296 -0.022441   \n",
       "Bulk 11    -0.012106     NaN  0.009367 -0.005810 -0.013286 -0.017238   \n",
       "Bulk 12    -0.086222     NaN -0.043221 -0.041377 -0.056273 -0.042666   \n",
       "Bulk 13    -0.004910     NaN -0.008580 -0.002356 -0.005388 -0.006991   \n",
       "Bulk 14    -0.122715     NaN -0.053012 -0.058889  0.043710  0.018425   \n",
       "Bulk 15    -0.092115     NaN -0.032889 -0.044205 -0.090714 -0.037412   \n",
       "gas         0.146140     NaN  0.108406  0.079361  0.118594  0.013835   \n",
       "\n",
       "             act_pow  time_delta    Bulk 1    Bulk 2    Bulk 3    Bulk 4  \\\n",
       "key        -0.030370   -0.036031 -0.074087 -0.005988 -0.005752 -0.027059   \n",
       "temp_1     -0.351962   -0.314345  0.073896  0.120302 -0.104162  0.142999   \n",
       "temp_2      0.288620    0.284838 -0.074559 -0.083292 -0.036533  0.184636   \n",
       "Wire 1      0.048517    0.041041  0.015794 -0.170400  0.040465  0.295424   \n",
       "Wire 2      0.055369    0.052472 -0.011764 -0.039388  0.096544 -0.266983   \n",
       "Wire 3      0.035263    0.025101  0.020315  0.223100  0.005347 -0.039247   \n",
       "Wire 4      0.047614    0.038927  0.147235  0.699320 -0.040974  0.034843   \n",
       "Wire 5           NaN         NaN       NaN       NaN       NaN       NaN   \n",
       "Wire 6      0.053100    0.036497  0.149481  0.558837  0.006699 -0.011236   \n",
       "Wire 7      0.019614    0.015675  0.083979  0.431723 -0.019663  0.034164   \n",
       "Wire 8      0.029313    0.019262 -0.019725 -0.005357  0.004588  0.008061   \n",
       "Wire 9     -0.016761   -0.008313  0.011065 -0.006950  0.004278 -0.058371   \n",
       "act_pow     1.000000    0.970311  0.086541  0.030900  0.111404 -0.032507   \n",
       "time_delta  0.970311    1.000000  0.108153  0.023906  0.082811 -0.035195   \n",
       "Bulk 1      0.086541    0.108153  1.000000  0.226159 -0.010652  0.041917   \n",
       "Bulk 2      0.030900    0.023906  0.226159  1.000000 -0.047407  0.041288   \n",
       "Bulk 3      0.111404    0.082811 -0.010652 -0.047407  1.000000 -0.294200   \n",
       "Bulk 4     -0.032507   -0.035195  0.041917  0.041288 -0.294200  1.000000   \n",
       "Bulk 5      0.005928    0.000530  0.060744  0.360219 -0.007302  0.028852   \n",
       "Bulk 6      0.155275    0.154774 -0.005339 -0.030261  0.066254 -0.250883   \n",
       "Bulk 7      0.074576    0.067423  0.238760  0.679332 -0.033898  0.046405   \n",
       "Bulk 8     -0.011588   -0.009814 -0.005780 -0.001570  0.020839 -0.013239   \n",
       "Bulk 9      0.023512    0.014129 -0.019948 -0.005417  0.011106 -0.002791   \n",
       "Bulk 10    -0.003935   -0.017198 -0.023044 -0.018235 -0.085609 -0.085481   \n",
       "Bulk 11     0.078163    0.082160 -0.037009  0.001837 -0.008658 -0.117665   \n",
       "Bulk 12     0.475958    0.471184  0.327637 -0.099758  0.018912  0.104344   \n",
       "Bulk 13     0.122878    0.129614 -0.010411 -0.005681 -0.013751  0.003414   \n",
       "Bulk 14     0.465115    0.464750  0.208215 -0.141981  0.010684 -0.090557   \n",
       "Bulk 15     0.333184    0.304367 -0.000323 -0.106577 -0.013031  0.102593   \n",
       "gas         0.374228    0.376559  0.239360  0.218583  0.057472  0.016853   \n",
       "\n",
       "              Bulk 5    Bulk 6    Bulk 7    Bulk 8    Bulk 9   Bulk 10  \\\n",
       "key         0.035872  0.007876  0.052941  0.015674 -0.039752  0.062053   \n",
       "temp_1      0.068947 -0.095032  0.075107 -0.009264 -0.026013  0.035791   \n",
       "temp_2     -0.028678 -0.179633 -0.108353 -0.026855 -0.016259  0.061691   \n",
       "Wire 1     -0.013550 -0.233375 -0.144045  0.034843  0.022732  0.062481   \n",
       "Wire 2     -0.014188  0.203061 -0.000830  0.018900  0.066697 -0.104179   \n",
       "Wire 3      0.070718 -0.046949  0.156529 -0.002438 -0.008413 -0.028319   \n",
       "Wire 4      0.262681 -0.026155  0.740555 -0.001357 -0.004682 -0.015760   \n",
       "Wire 5           NaN       NaN       NaN       NaN       NaN       NaN   \n",
       "Wire 6      0.204653 -0.020574  0.456046 -0.002371 -0.008182 -0.018076   \n",
       "Wire 7      0.172104 -0.012551  0.372234 -0.000651 -0.002247 -0.007563   \n",
       "Wire 8     -0.008469 -0.028703 -0.004696  0.321030  0.974967 -0.017296   \n",
       "Wire 9     -0.010989 -0.013612 -0.006093 -0.001932 -0.006667 -0.022441   \n",
       "act_pow     0.005928  0.155275  0.074576 -0.011588  0.023512 -0.003935   \n",
       "time_delta  0.000530  0.154774  0.067423 -0.009814  0.014129 -0.017198   \n",
       "Bulk 1      0.060744 -0.005339  0.238760 -0.005780 -0.019948 -0.023044   \n",
       "Bulk 2      0.360219 -0.030261  0.679332 -0.001570 -0.005417 -0.018235   \n",
       "Bulk 3     -0.007302  0.066254 -0.033898  0.020839  0.011106 -0.085609   \n",
       "Bulk 4      0.028852 -0.250883  0.046405 -0.013239 -0.002791 -0.085481   \n",
       "Bulk 5      1.000000 -0.022222  0.288258 -0.002482 -0.008565 -0.028830   \n",
       "Bulk 6     -0.022222  1.000000 -0.025339 -0.008411 -0.029027 -0.097709   \n",
       "Bulk 7      0.288258 -0.025339  1.000000 -0.001376 -0.004749 -0.015985   \n",
       "Bulk 8     -0.002482 -0.008411 -0.001376  1.000000  0.488389 -0.005068   \n",
       "Bulk 9     -0.008565 -0.029027 -0.004749  0.488389  1.000000 -0.017491   \n",
       "Bulk 10    -0.028830 -0.097709 -0.015985 -0.005068 -0.017491  1.000000   \n",
       "Bulk 11    -0.015630  0.199274 -0.004717 -0.003893 -0.013436 -0.045227   \n",
       "Bulk 12    -0.073461 -0.113537 -0.017977 -0.027728 -0.058220  0.024191   \n",
       "Bulk 13    -0.008981  0.042553 -0.004980 -0.001579 -0.005449 -0.018342   \n",
       "Bulk 14    -0.066610  0.177188 -0.077015 -0.039464  0.038870 -0.048628   \n",
       "Bulk 15    -0.067909 -0.111807 -0.090856 -0.029623 -0.094300  0.049956   \n",
       "gas         0.087060  0.140886  0.199384  0.004081  0.117090 -0.009879   \n",
       "\n",
       "             Bulk 11   Bulk 12   Bulk 13   Bulk 14   Bulk 15       gas  \n",
       "key         0.038036  0.026805 -0.015651 -0.112169 -0.044593 -0.044429  \n",
       "temp_1     -0.087717 -0.061164  0.018910 -0.132640 -0.041960  0.037686  \n",
       "temp_2     -0.110517  0.265241 -0.011054  0.113165  0.266348  0.058063  \n",
       "Wire 1     -0.115356  0.170117  0.039669 -0.054473  0.120059  0.115629  \n",
       "Wire 2      0.066725 -0.100186 -0.001620  0.035552 -0.100112  0.103664  \n",
       "Wire 3     -0.021753 -0.121489 -0.008822 -0.009236 -0.119141  0.103659  \n",
       "Wire 4     -0.012106 -0.086222 -0.004910 -0.122715 -0.092115  0.146140  \n",
       "Wire 5           NaN       NaN       NaN       NaN       NaN       NaN  \n",
       "Wire 6      0.009367 -0.043221 -0.008580 -0.053012 -0.032889  0.108406  \n",
       "Wire 7     -0.005810 -0.041377 -0.002356 -0.058889 -0.044205  0.079361  \n",
       "Wire 8     -0.013286 -0.056273 -0.005388  0.043710 -0.090714  0.118594  \n",
       "Wire 9     -0.017238 -0.042666 -0.006991  0.018425 -0.037412  0.013835  \n",
       "act_pow     0.078163  0.475958  0.122878  0.465115  0.333184  0.374228  \n",
       "time_delta  0.082160  0.471184  0.129614  0.464750  0.304367  0.376559  \n",
       "Bulk 1     -0.037009  0.327637 -0.010411  0.208215 -0.000323  0.239360  \n",
       "Bulk 2      0.001837 -0.099758 -0.005681 -0.141981 -0.106577  0.218583  \n",
       "Bulk 3     -0.008658  0.018912 -0.013751  0.010684 -0.013031  0.057472  \n",
       "Bulk 4     -0.117665  0.104344  0.003414 -0.090557  0.102593  0.016853  \n",
       "Bulk 5     -0.015630 -0.073461 -0.008981 -0.066610 -0.067909  0.087060  \n",
       "Bulk 6      0.199274 -0.113537  0.042553  0.177188 -0.111807  0.140886  \n",
       "Bulk 7     -0.004717 -0.017977 -0.004980 -0.077015 -0.090856  0.199384  \n",
       "Bulk 8     -0.003893 -0.027728 -0.001579 -0.039464 -0.029623  0.004081  \n",
       "Bulk 9     -0.013436 -0.058220 -0.005449  0.038870 -0.094300  0.117090  \n",
       "Bulk 10    -0.045227  0.024191 -0.018342 -0.048628  0.049956 -0.009879  \n",
       "Bulk 11     1.000000 -0.036643 -0.010117  0.078279 -0.049977  0.041922  \n",
       "Bulk 12    -0.036643  1.000000  0.054432  0.480171  0.614359  0.215532  \n",
       "Bulk 13    -0.010117  0.054432  1.000000 -0.076228  0.018524  0.049112  \n",
       "Bulk 14     0.078279  0.480171 -0.076228  1.000000  0.264504  0.269012  \n",
       "Bulk 15    -0.049977  0.614359  0.018524  0.264504  1.000000  0.038998  \n",
       "gas         0.041922  0.215532  0.049112  0.269012  0.038998  1.000000  "
      ]
     },
     "execution_count": 94,
     "metadata": {},
     "output_type": "execute_result"
    }
   ],
   "source": [
    "corr = data.corr()\n",
    "corr"
   ]
  },
  {
   "cell_type": "markdown",
   "metadata": {
    "id": "tgxkGMjHU90l"
   },
   "source": [
    "Построим тепловую диагармму корреляций."
   ]
  },
  {
   "cell_type": "code",
   "execution_count": 95,
   "metadata": {
    "colab": {
     "base_uri": "https://localhost:8080/",
     "height": 597
    },
    "id": "izwG3dz7VcxO",
    "outputId": "6c04746a-e503-4ad5-f888-4950fe2650cc"
   },
   "outputs": [
    {
     "data": {
      "text/plain": [
       "<matplotlib.axes._subplots.AxesSubplot at 0x7f964bca9e10>"
      ]
     },
     "execution_count": 95,
     "metadata": {},
     "output_type": "execute_result"
    },
    {
     "data": {
      "image/png": "[encoded data removed]",
      "text/plain": [
       "<Figure size 792x648 with 2 Axes>"
      ]
     },
     "metadata": {
      "needs_background": "light"
     },
     "output_type": "display_data"
    }
   ],
   "source": [
    "\n",
    "# Создадим маску для верхнего треугольника\n",
    "mask = np.triu(np.ones_like(corr, dtype=bool))\n",
    "\n",
    "# Зададим параметры фигуры\n",
    "f, ax = plt.subplots(figsize=(11, 9))\n",
    "\n",
    "# Строим диаграмму\n",
    "sns.heatmap(corr, mask=mask, square=True, linewidths=.5, cbar_kws={\"shrink\": .5})"
   ]
  },
  {
   "cell_type": "markdown",
   "metadata": {
    "id": "vIUkJAYmUJAc"
   },
   "source": [
    "Наблюдается сильная корреляция между значениями time_delta и act_pow. Чем больше время нагрева, тем выше активная мощность.  \n",
    "Избавимся от столбца **time_delta**"
   ]
  },
  {
   "cell_type": "code",
   "execution_count": 96,
   "metadata": {
    "id": "2AmQkpzNXNEh"
   },
   "outputs": [],
   "source": [
    "data = data.drop('time_delta', axis=1)"
   ]
  },
  {
   "cell_type": "code",
   "execution_count": 97,
   "metadata": {
    "colab": {
     "base_uri": "https://localhost:8080/"
    },
    "id": "jCWNYUFgXRtG",
    "outputId": "6cbf022a-4f79-4bb4-bbfc-e37552733c9e"
   },
   "outputs": [
    {
     "data": {
      "text/plain": [
       "0.0"
      ]
     },
     "execution_count": 97,
     "metadata": {},
     "output_type": "execute_result"
    }
   ],
   "source": [
    "data['Wire 5'].sum()"
   ]
  },
  {
   "cell_type": "markdown",
   "metadata": {
    "id": "nt6QFTuqXenA"
   },
   "source": [
    "Столбец Wire 5 состоит из одних нулей. Никакой полезной информации не несет."
   ]
  },
  {
   "cell_type": "code",
   "execution_count": 98,
   "metadata": {
    "id": "QttPu0UAXleL"
   },
   "outputs": [],
   "source": [
    "data = data.drop('Wire 5', axis=1)"
   ]
  },
  {
   "cell_type": "code",
   "execution_count": 99,
   "metadata": {
    "colab": {
     "base_uri": "https://localhost:8080/"
    },
    "id": "CHnSmfRaXuTC",
    "outputId": "419099e2-8245-4cb4-a0cb-71b8cd26a651"
   },
   "outputs": [
    {
     "name": "stdout",
     "output_type": "stream",
     "text": [
      "<class 'pandas.core.frame.DataFrame'>\n",
      "Int64Index: 2293 entries, 0 to 2292\n",
      "Data columns (total 28 columns):\n",
      "key        2293 non-null int64\n",
      "temp_1     2293 non-null float64\n",
      "temp_2     2293 non-null float64\n",
      "Wire 1     2293 non-null float64\n",
      "Wire 2     2293 non-null float64\n",
      "Wire 3     2293 non-null float64\n",
      "Wire 4     2293 non-null float64\n",
      "Wire 6     2293 non-null float64\n",
      "Wire 7     2293 non-null float64\n",
      "Wire 8     2293 non-null float64\n",
      "Wire 9     2293 non-null float64\n",
      "act_pow    2293 non-null float64\n",
      "Bulk 1     2293 non-null float64\n",
      "Bulk 2     2293 non-null float64\n",
      "Bulk 3     2293 non-null float64\n",
      "Bulk 4     2293 non-null float64\n",
      "Bulk 5     2293 non-null float64\n",
      "Bulk 6     2293 non-null float64\n",
      "Bulk 7     2293 non-null float64\n",
      "Bulk 8     2293 non-null float64\n",
      "Bulk 9     2293 non-null float64\n",
      "Bulk 10    2293 non-null float64\n",
      "Bulk 11    2293 non-null float64\n",
      "Bulk 12    2293 non-null float64\n",
      "Bulk 13    2293 non-null float64\n",
      "Bulk 14    2293 non-null float64\n",
      "Bulk 15    2293 non-null float64\n",
      "gas        2293 non-null float64\n",
      "dtypes: float64(27), int64(1)\n",
      "memory usage: 519.5 KB\n"
     ]
    }
   ],
   "source": [
    "data.info()"
   ]
  },
  {
   "cell_type": "code",
   "execution_count": 101,
   "metadata": {
    "id": "6HAH2dTMegYt"
   },
   "outputs": [],
   "source": [
    "features = data.drop(['key', 'temp_2'], axis=1) # temp_2 - целевой признак (конечная температура)\n",
    "target = data['temp_2']"
   ]
  },
  {
   "cell_type": "markdown",
   "metadata": {
    "id": "_-4IlMmuUJAe"
   },
   "source": [
    "Разобьем датасет на тренировочную и тестовую выборки."
   ]
  },
  {
   "cell_type": "code",
   "execution_count": 102,
   "metadata": {
    "id": "AU64LB1MUJAe"
   },
   "outputs": [],
   "source": [
    "features_train, features_test, target_train, target_test = train_test_split(\n",
    "                                   features, target, test_size=0.3, random_state=24)"
   ]
  },
  {
   "cell_type": "code",
   "execution_count": 103,
   "metadata": {
    "colab": {
     "base_uri": "https://localhost:8080/",
     "height": 159
    },
    "id": "H9Iu1EaEAk37",
    "outputId": "7433e487-ecbe-490e-d488-e15d0c8640ca"
   },
   "outputs": [
    {
     "data": {
      "text/html": [
       "<div>\n",
       "<style scoped>\n",
       "    .dataframe tbody tr th:only-of-type {\n",
       "        vertical-align: middle;\n",
       "    }\n",
       "\n",
       "    .dataframe tbody tr th {\n",
       "        vertical-align: top;\n",
       "    }\n",
       "\n",
       "    .dataframe thead th {\n",
       "        text-align: right;\n",
       "    }\n",
       "</style>\n",
       "<table border=\"1\" class=\"dataframe\">\n",
       "  <thead>\n",
       "    <tr style=\"text-align: right;\">\n",
       "      <th></th>\n",
       "      <th>temp_1</th>\n",
       "      <th>Wire 1</th>\n",
       "      <th>Wire 2</th>\n",
       "      <th>Wire 3</th>\n",
       "      <th>Wire 4</th>\n",
       "      <th>Wire 6</th>\n",
       "      <th>Wire 7</th>\n",
       "      <th>Wire 8</th>\n",
       "      <th>Wire 9</th>\n",
       "      <th>act_pow</th>\n",
       "      <th>Bulk 1</th>\n",
       "      <th>Bulk 2</th>\n",
       "      <th>Bulk 3</th>\n",
       "      <th>Bulk 4</th>\n",
       "      <th>Bulk 5</th>\n",
       "      <th>Bulk 6</th>\n",
       "      <th>Bulk 7</th>\n",
       "      <th>Bulk 8</th>\n",
       "      <th>Bulk 9</th>\n",
       "      <th>Bulk 10</th>\n",
       "      <th>Bulk 11</th>\n",
       "      <th>Bulk 12</th>\n",
       "      <th>Bulk 13</th>\n",
       "      <th>Bulk 14</th>\n",
       "      <th>Bulk 15</th>\n",
       "      <th>gas</th>\n",
       "    </tr>\n",
       "  </thead>\n",
       "  <tbody>\n",
       "    <tr>\n",
       "      <td>1790</td>\n",
       "      <td>1619.0</td>\n",
       "      <td>118.067040</td>\n",
       "      <td>0.000000</td>\n",
       "      <td>0.0</td>\n",
       "      <td>0.0</td>\n",
       "      <td>0.0</td>\n",
       "      <td>0.0</td>\n",
       "      <td>0.0</td>\n",
       "      <td>0.0</td>\n",
       "      <td>0.595230</td>\n",
       "      <td>0.0</td>\n",
       "      <td>0.0</td>\n",
       "      <td>0.0</td>\n",
       "      <td>82.0</td>\n",
       "      <td>0.0</td>\n",
       "      <td>0.0</td>\n",
       "      <td>0.0</td>\n",
       "      <td>0.0</td>\n",
       "      <td>0.0</td>\n",
       "      <td>0.0</td>\n",
       "      <td>0.0</td>\n",
       "      <td>0.0</td>\n",
       "      <td>0.0</td>\n",
       "      <td>0.0</td>\n",
       "      <td>0.0</td>\n",
       "      <td>8.898433</td>\n",
       "    </tr>\n",
       "    <tr>\n",
       "      <td>2118</td>\n",
       "      <td>1577.0</td>\n",
       "      <td>157.116959</td>\n",
       "      <td>20.146879</td>\n",
       "      <td>0.0</td>\n",
       "      <td>0.0</td>\n",
       "      <td>0.0</td>\n",
       "      <td>0.0</td>\n",
       "      <td>0.0</td>\n",
       "      <td>0.0</td>\n",
       "      <td>5.063485</td>\n",
       "      <td>0.0</td>\n",
       "      <td>0.0</td>\n",
       "      <td>0.0</td>\n",
       "      <td>106.0</td>\n",
       "      <td>0.0</td>\n",
       "      <td>0.0</td>\n",
       "      <td>0.0</td>\n",
       "      <td>0.0</td>\n",
       "      <td>0.0</td>\n",
       "      <td>0.0</td>\n",
       "      <td>0.0</td>\n",
       "      <td>408.0</td>\n",
       "      <td>0.0</td>\n",
       "      <td>198.0</td>\n",
       "      <td>207.0</td>\n",
       "      <td>15.865326</td>\n",
       "    </tr>\n",
       "    <tr>\n",
       "      <td>2195</td>\n",
       "      <td>1532.0</td>\n",
       "      <td>94.436158</td>\n",
       "      <td>47.954398</td>\n",
       "      <td>0.0</td>\n",
       "      <td>0.0</td>\n",
       "      <td>0.0</td>\n",
       "      <td>0.0</td>\n",
       "      <td>0.0</td>\n",
       "      <td>0.0</td>\n",
       "      <td>6.668600</td>\n",
       "      <td>0.0</td>\n",
       "      <td>0.0</td>\n",
       "      <td>0.0</td>\n",
       "      <td>0.0</td>\n",
       "      <td>0.0</td>\n",
       "      <td>252.0</td>\n",
       "      <td>0.0</td>\n",
       "      <td>0.0</td>\n",
       "      <td>0.0</td>\n",
       "      <td>0.0</td>\n",
       "      <td>0.0</td>\n",
       "      <td>156.0</td>\n",
       "      <td>0.0</td>\n",
       "      <td>196.0</td>\n",
       "      <td>105.0</td>\n",
       "      <td>16.200934</td>\n",
       "    </tr>\n",
       "  </tbody>\n",
       "</table>\n",
       "</div>"
      ],
      "text/plain": [
       "      temp_1      Wire 1     Wire 2  Wire 3  Wire 4  Wire 6  Wire 7  Wire 8  \\\n",
       "1790  1619.0  118.067040   0.000000     0.0     0.0     0.0     0.0     0.0   \n",
       "2118  1577.0  157.116959  20.146879     0.0     0.0     0.0     0.0     0.0   \n",
       "2195  1532.0   94.436158  47.954398     0.0     0.0     0.0     0.0     0.0   \n",
       "\n",
       "      Wire 9   act_pow  Bulk 1  Bulk 2  Bulk 3  Bulk 4  Bulk 5  Bulk 6  \\\n",
       "1790     0.0  0.595230     0.0     0.0     0.0    82.0     0.0     0.0   \n",
       "2118     0.0  5.063485     0.0     0.0     0.0   106.0     0.0     0.0   \n",
       "2195     0.0  6.668600     0.0     0.0     0.0     0.0     0.0   252.0   \n",
       "\n",
       "      Bulk 7  Bulk 8  Bulk 9  Bulk 10  Bulk 11  Bulk 12  Bulk 13  Bulk 14  \\\n",
       "1790     0.0     0.0     0.0      0.0      0.0      0.0      0.0      0.0   \n",
       "2118     0.0     0.0     0.0      0.0      0.0    408.0      0.0    198.0   \n",
       "2195     0.0     0.0     0.0      0.0      0.0    156.0      0.0    196.0   \n",
       "\n",
       "      Bulk 15        gas  \n",
       "1790      0.0   8.898433  \n",
       "2118    207.0  15.865326  \n",
       "2195    105.0  16.200934  "
      ]
     },
     "execution_count": 103,
     "metadata": {},
     "output_type": "execute_result"
    }
   ],
   "source": [
    "features_train.head(3)"
   ]
  },
  {
   "cell_type": "code",
   "execution_count": 104,
   "metadata": {
    "colab": {
     "base_uri": "https://localhost:8080/"
    },
    "id": "areQ2W3biFXJ",
    "outputId": "5beeefed-d6fb-4aa3-91c9-a93b96194292"
   },
   "outputs": [
    {
     "name": "stdout",
     "output_type": "stream",
     "text": [
      "<class 'pandas.core.frame.DataFrame'>\n",
      "Int64Index: 1605 entries, 1790 to 418\n",
      "Data columns (total 26 columns):\n",
      "temp_1     1605 non-null float64\n",
      "Wire 1     1605 non-null float64\n",
      "Wire 2     1605 non-null float64\n",
      "Wire 3     1605 non-null float64\n",
      "Wire 4     1605 non-null float64\n",
      "Wire 6     1605 non-null float64\n",
      "Wire 7     1605 non-null float64\n",
      "Wire 8     1605 non-null float64\n",
      "Wire 9     1605 non-null float64\n",
      "act_pow    1605 non-null float64\n",
      "Bulk 1     1605 non-null float64\n",
      "Bulk 2     1605 non-null float64\n",
      "Bulk 3     1605 non-null float64\n",
      "Bulk 4     1605 non-null float64\n",
      "Bulk 5     1605 non-null float64\n",
      "Bulk 6     1605 non-null float64\n",
      "Bulk 7     1605 non-null float64\n",
      "Bulk 8     1605 non-null float64\n",
      "Bulk 9     1605 non-null float64\n",
      "Bulk 10    1605 non-null float64\n",
      "Bulk 11    1605 non-null float64\n",
      "Bulk 12    1605 non-null float64\n",
      "Bulk 13    1605 non-null float64\n",
      "Bulk 14    1605 non-null float64\n",
      "Bulk 15    1605 non-null float64\n",
      "gas        1605 non-null float64\n",
      "dtypes: float64(26)\n",
      "memory usage: 338.6 KB\n"
     ]
    }
   ],
   "source": [
    "features_train.info()"
   ]
  },
  {
   "cell_type": "markdown",
   "metadata": {
    "id": "Ru8MYYquUJAe"
   },
   "source": [
    "### Random Forest"
   ]
  },
  {
   "cell_type": "code",
   "execution_count": 105,
   "metadata": {
    "id": "7sniT88iUJAe"
   },
   "outputs": [],
   "source": [
    "model_rf = RandomForestRegressor(random_state=24)"
   ]
  },
  {
   "cell_type": "code",
   "execution_count": 106,
   "metadata": {
    "id": "ETAgpXcuUJAe"
   },
   "outputs": [],
   "source": [
    "params = { 'n_estimators': [10, 50, 100],\n",
    "            'max_depth': [3, 4, 5],\n",
    "            'min_samples_leaf': [3, 4, 5]\n",
    "         }"
   ]
  },
  {
   "cell_type": "code",
   "execution_count": 107,
   "metadata": {
    "id": "2UjqCkpHUJAe"
   },
   "outputs": [],
   "source": [
    "gd_sr = GridSearchCV(estimator=model_rf,\n",
    "                     param_grid=params,\n",
    "                     scoring='neg_mean_absolute_error',\n",
    "                     cv=5,\n",
    "                     n_jobs=-1)"
   ]
  },
  {
   "cell_type": "code",
   "execution_count": 108,
   "metadata": {
    "colab": {
     "base_uri": "https://localhost:8080/"
    },
    "id": "2XZ69frvUJAe",
    "outputId": "69134811-1159-4cc1-d037-970f9bb6d08f"
   },
   "outputs": [
    {
     "data": {
      "text/plain": [
       "GridSearchCV(cv=5, error_score='raise-deprecating',\n",
       "             estimator=RandomForestRegressor(bootstrap=True, criterion='mse',\n",
       "                                             max_depth=None,\n",
       "                                             max_features='auto',\n",
       "                                             max_leaf_nodes=None,\n",
       "                                             min_impurity_decrease=0.0,\n",
       "                                             min_impurity_split=None,\n",
       "                                             min_samples_leaf=1,\n",
       "                                             min_samples_split=2,\n",
       "                                             min_weight_fraction_leaf=0.0,\n",
       "                                             n_estimators='warn', n_jobs=None,\n",
       "                                             oob_score=False, random_state=24,\n",
       "                                             verbose=0, warm_start=False),\n",
       "             iid='warn', n_jobs=-1,\n",
       "             param_grid={'max_depth': [3, 4, 5], 'min_samples_leaf': [3, 4, 5],\n",
       "                         'n_estimators': [10, 50, 100]},\n",
       "             pre_dispatch='2*n_jobs', refit=True, return_train_score=False,\n",
       "             scoring='neg_mean_absolute_error', verbose=0)"
      ]
     },
     "execution_count": 108,
     "metadata": {},
     "output_type": "execute_result"
    }
   ],
   "source": [
    "gd_sr.fit(features_train, target_train)"
   ]
  },
  {
   "cell_type": "code",
   "execution_count": 109,
   "metadata": {
    "colab": {
     "base_uri": "https://localhost:8080/"
    },
    "id": "fHUbVnDKUJAe",
    "outputId": "f4d8813b-378f-43cd-848c-2bd43fd535fc"
   },
   "outputs": [
    {
     "data": {
      "text/plain": [
       "{'max_depth': 5, 'min_samples_leaf': 4, 'n_estimators': 100}"
      ]
     },
     "execution_count": 109,
     "metadata": {},
     "output_type": "execute_result"
    }
   ],
   "source": [
    "gd_sr.best_params_"
   ]
  },
  {
   "cell_type": "code",
   "execution_count": 110,
   "metadata": {
    "id": "Era2qrH1UJAe"
   },
   "outputs": [],
   "source": [
    "model_rf = RandomForestRegressor(n_estimators=100, max_depth=5, min_samples_leaf=4, random_state=24)"
   ]
  },
  {
   "cell_type": "code",
   "execution_count": 111,
   "metadata": {
    "colab": {
     "base_uri": "https://localhost:8080/"
    },
    "id": "E7YH_X5_UJAe",
    "outputId": "843e8fcc-ccb8-4575-b7e0-9c5aa70a1561"
   },
   "outputs": [
    {
     "data": {
      "text/plain": [
       "RandomForestRegressor(bootstrap=True, criterion='mse', max_depth=5,\n",
       "                      max_features='auto', max_leaf_nodes=None,\n",
       "                      min_impurity_decrease=0.0, min_impurity_split=None,\n",
       "                      min_samples_leaf=4, min_samples_split=2,\n",
       "                      min_weight_fraction_leaf=0.0, n_estimators=100,\n",
       "                      n_jobs=None, oob_score=False, random_state=24, verbose=0,\n",
       "                      warm_start=False)"
      ]
     },
     "execution_count": 111,
     "metadata": {},
     "output_type": "execute_result"
    }
   ],
   "source": [
    "model_rf.fit(features_train, target_train)"
   ]
  },
  {
   "cell_type": "code",
   "execution_count": 112,
   "metadata": {
    "id": "z-bWqNbugy5M"
   },
   "outputs": [],
   "source": [
    "importances = model_rf.feature_importances_"
   ]
  },
  {
   "cell_type": "code",
   "execution_count": 113,
   "metadata": {
    "colab": {
     "base_uri": "https://localhost:8080/",
     "height": 537
    },
    "id": "Ajcp7IPEhV3x",
    "outputId": "487cf70c-5e14-4b9e-cdfa-51a4e11999b9"
   },
   "outputs": [
    {
     "data": {
      "image/png": "[encoded data removed]",
      "text/plain": [
       "<Figure size 792x648 with 1 Axes>"
      ]
     },
     "metadata": {
      "needs_background": "light"
     },
     "output_type": "display_data"
    }
   ],
   "source": [
    "importances = pd.Series(model_rf.feature_importances_, index=features_train.columns)\n",
    "plt.subplots(figsize=(11, 9))\n",
    "importances.nlargest(len(features_train)).plot(kind='barh')\n",
    "plt.show()"
   ]
  },
  {
   "cell_type": "code",
   "execution_count": 114,
   "metadata": {
    "id": "U9p6UigPUJAe"
   },
   "outputs": [],
   "source": [
    "predictions = model_rf.predict(features_test)"
   ]
  },
  {
   "cell_type": "code",
   "execution_count": 115,
   "metadata": {
    "colab": {
     "base_uri": "https://localhost:8080/"
    },
    "id": "6eQV-hmbUJAe",
    "outputId": "1a51bbb4-aa34-47c0-f45d-8d9c9f0c569c"
   },
   "outputs": [
    {
     "data": {
      "text/plain": [
       "6.382469358497778"
      ]
     },
     "execution_count": 115,
     "metadata": {},
     "output_type": "execute_result"
    }
   ],
   "source": [
    "mae_rf = mean_absolute_error(target_test, predictions)\n",
    "mae_rf"
   ]
  },
  {
   "cell_type": "markdown",
   "metadata": {
    "id": "zeHl4FaYiyBq"
   },
   "source": [
    "Теперь обучим модель только на значимых признаках"
   ]
  },
  {
   "cell_type": "code",
   "execution_count": 116,
   "metadata": {
    "id": "OsmEhcG8jDJJ"
   },
   "outputs": [],
   "source": [
    "features_train_main = features_train.drop(['Bulk 8', 'Bulk 9', 'Bulk 10', 'Bulk 13', 'Bulk 11', 'Bulk 5', 'Bulk 3', 'Bulk 2', \\\n",
    "                                           'Wire 7', 'Wire 8', 'Wire 9', 'Wire 3'], axis=1)"
   ]
  },
  {
   "cell_type": "code",
   "execution_count": 117,
   "metadata": {
    "id": "5GOwChsgkRwI"
   },
   "outputs": [],
   "source": [
    "features_test_main = features_test.drop(['Bulk 8', 'Bulk 9', 'Bulk 10', 'Bulk 13', 'Bulk 11', 'Bulk 5', 'Bulk 3', 'Bulk 2', \\\n",
    "                                           'Wire 7', 'Wire 8', 'Wire 9', 'Wire 3'], axis=1)"
   ]
  },
  {
   "cell_type": "code",
   "execution_count": 118,
   "metadata": {
    "colab": {
     "base_uri": "https://localhost:8080/"
    },
    "id": "DRIAImVmkB_R",
    "outputId": "4075ee3c-65e9-46b8-bf76-ccfe22543cb2"
   },
   "outputs": [
    {
     "data": {
      "text/plain": [
       "RandomForestRegressor(bootstrap=True, criterion='mse', max_depth=5,\n",
       "                      max_features='auto', max_leaf_nodes=None,\n",
       "                      min_impurity_decrease=0.0, min_impurity_split=None,\n",
       "                      min_samples_leaf=4, min_samples_split=2,\n",
       "                      min_weight_fraction_leaf=0.0, n_estimators=100,\n",
       "                      n_jobs=None, oob_score=False, random_state=24, verbose=0,\n",
       "                      warm_start=False)"
      ]
     },
     "execution_count": 118,
     "metadata": {},
     "output_type": "execute_result"
    }
   ],
   "source": [
    "model_rf.fit(features_train_main, target_train)"
   ]
  },
  {
   "cell_type": "code",
   "execution_count": 119,
   "metadata": {
    "id": "Md8mcMNBkKsh"
   },
   "outputs": [],
   "source": [
    "predictions = model_rf.predict(features_test_main)"
   ]
  },
  {
   "cell_type": "code",
   "execution_count": 120,
   "metadata": {
    "colab": {
     "base_uri": "https://localhost:8080/"
    },
    "id": "maO8fc5bktVg",
    "outputId": "dc054d9f-ee10-4080-8c6f-a07d4ceef9b2"
   },
   "outputs": [
    {
     "data": {
      "text/plain": [
       "6.372264665145246"
      ]
     },
     "execution_count": 120,
     "metadata": {},
     "output_type": "execute_result"
    }
   ],
   "source": [
    "mae_rf = mean_absolute_error(target_test, predictions)\n",
    "mae_rf"
   ]
  },
  {
   "cell_type": "markdown",
   "metadata": {
    "id": "gXsMi_PXUJAe"
   },
   "source": [
    "### LightGBM"
   ]
  },
  {
   "cell_type": "code",
   "execution_count": 123,
   "metadata": {
    "colab": {
     "base_uri": "https://localhost:8080/"
    },
    "id": "DGyz-9PmUJAe",
    "outputId": "3af8ef32-6ae1-46e5-97ee-819679ac40e5"
   },
   "outputs": [
    {
     "data": {
      "text/plain": [
       "GridSearchCV(cv=None, error_score=nan,\n",
       "             estimator=LGBMRegressor(boosting_type='gbdt', class_weight=None,\n",
       "                                     colsample_bytree=1.0,\n",
       "                                     importance_type='split', learning_rate=0.5,\n",
       "                                     max_depth=8, min_child_samples=20,\n",
       "                                     min_child_weight=0.001, min_split_gain=0.0,\n",
       "                                     n_estimators=50, n_jobs=-1, num_leaves=30,\n",
       "                                     objective='regression', random_state=24,\n",
       "                                     reg_alpha=0.0, reg_lambda=0.0, silent=True,\n",
       "                                     subsample=1.0, subsample_for_bin=200000,\n",
       "                                     subsample_freq=0),\n",
       "             iid='deprecated', n_jobs=None,\n",
       "             param_grid={'max_depth': [10, 20, 30],\n",
       "                         'n_estimators': [100, 150, 200],\n",
       "                         'num_leaves': [20, 40, 60]},\n",
       "             pre_dispatch='2*n_jobs', refit=True, return_train_score=False,\n",
       "             scoring=make_scorer(mean_absolute_error, greater_is_better=False),\n",
       "             verbose=0)"
      ]
     },
     "execution_count": 123,
     "metadata": {
      "tags": []
     },
     "output_type": "execute_result"
    }
   ],
   "source": [
    "# Подбор параметров для модели LightGBM\n",
    "score_func = make_scorer(mean_absolute_error, greater_is_better=False)\n",
    "\n",
    "model_lgbm = lgb.LGBMRegressor( \n",
    "    boosting_type=\"gbdt\",\n",
    "    objective='regression',\n",
    "    random_state=24, \n",
    "    n_estimators=50,\n",
    "    num_leaves=30, \n",
    "    max_depth=8,\n",
    "    learning_rate=0.5,\n",
    "    )\n",
    "\n",
    "params_opt = {'n_estimators': [100, 150, 200], \n",
    "              'num_leaves': [20, 40, 60],\n",
    "              'max_depth': [10, 20, 30]\n",
    "             }\n",
    "\n",
    "gridSearchCV = GridSearchCV(estimator=model_lgbm, \n",
    "                            param_grid=params_opt, \n",
    "                            scoring=score_func)\n",
    "\n",
    "gridSearchCV.fit(features_train, target_train)"
   ]
  },
  {
   "cell_type": "code",
   "execution_count": 124,
   "metadata": {
    "colab": {
     "base_uri": "https://localhost:8080/"
    },
    "id": "fKj3vAENUJAe",
    "outputId": "8ba8c9a2-df8a-4d67-d7ae-870b35cb9049"
   },
   "outputs": [
    {
     "data": {
      "text/plain": [
       "{'max_depth': 30, 'n_estimators': 100, 'num_leaves': 40}"
      ]
     },
     "execution_count": 124,
     "metadata": {
      "tags": []
     },
     "output_type": "execute_result"
    }
   ],
   "source": [
    "gridSearchCV.best_params_"
   ]
  },
  {
   "cell_type": "markdown",
   "metadata": {
    "id": "HGFxIPx2UJAe"
   },
   "source": [
    "Обучим модель с этими параметрами."
   ]
  },
  {
   "cell_type": "code",
   "execution_count": 125,
   "metadata": {
    "colab": {
     "base_uri": "https://localhost:8080/"
    },
    "id": "HqXxQbyzUJAe",
    "outputId": "6caa2662-c83e-47ab-fe7c-697c10b7c916"
   },
   "outputs": [
    {
     "name": "stdout",
     "output_type": "stream",
     "text": [
      "[10]\tvalid_0's l1: 6.47606\n",
      "[20]\tvalid_0's l1: 6.62497\n",
      "[30]\tvalid_0's l1: 6.75874\n",
      "[40]\tvalid_0's l1: 6.82311\n",
      "[50]\tvalid_0's l1: 6.85433\n",
      "[60]\tvalid_0's l1: 6.88663\n",
      "[70]\tvalid_0's l1: 6.90368\n",
      "[80]\tvalid_0's l1: 6.92108\n",
      "[90]\tvalid_0's l1: 6.93321\n",
      "[100]\tvalid_0's l1: 6.93599\n",
      "CPU times: user 412 ms, sys: 16 ms, total: 429 ms\n",
      "Wall time: 226 ms\n"
     ]
    }
   ],
   "source": [
    "%%time\n",
    "params = {\n",
    "    'boosting_type': 'gbdt',\n",
    "    'objective': 'regression',\n",
    "    'metric': 'mae',\n",
    "    'max_depth': 30, \n",
    "    'learning_rate': 0.5,\n",
    "    'num_leaves': 40,\n",
    "    'verbose': 0 \n",
    "    }\n",
    "\n",
    "n_estimators = 100\n",
    "\n",
    "d_train = lgb.Dataset(features_train, label=target_train)\n",
    "d_test = lgb.Dataset(features_test, label=target_test)\n",
    "watchlist = [d_test]\n",
    "\n",
    "model_lgb = lgb.train(params, d_train, n_estimators, watchlist, verbose_eval=10)"
   ]
  },
  {
   "cell_type": "code",
   "execution_count": 126,
   "metadata": {
    "id": "HL9CMYAYmVYg"
   },
   "outputs": [],
   "source": [
    "def plotImp(model, X , num = 20):\n",
    "    feature_imp = pd.DataFrame({'Value':model.feature_importance(),'Feature': X.columns})\n",
    "    plt.figure(figsize=(40, 20))\n",
    "    #sns.set(font_scale = 2)\n",
    "    sns.barplot(x=\"Value\", y=\"Feature\", data=feature_imp.sort_values(by=\"Value\", \n",
    "                                                        ascending=True)[0:num])\n",
    "    plt.title('LightGBM Features')\n",
    "    #plt.tight_layout()\n",
    "    plt.show()"
   ]
  },
  {
   "cell_type": "code",
   "execution_count": 127,
   "metadata": {
    "colab": {
     "base_uri": "https://localhost:8080/",
     "height": 762
    },
    "id": "Apola4bZnhW_",
    "outputId": "abc946f5-da7e-4a72-951e-adf4fbe496f8"
   },
   "outputs": [
    {
     "data": {
      "image/png": "[encoded data removed]",
      "text/plain": [
       "<Figure size 2880x1440 with 1 Axes>"
      ]
     },
     "metadata": {
      "needs_background": "light",
      "tags": []
     },
     "output_type": "display_data"
    }
   ],
   "source": [
    "plotImp(model_lgb, features_train, num=26)"
   ]
  },
  {
   "cell_type": "code",
   "execution_count": 128,
   "metadata": {
    "id": "eKwDhfCqUJAe"
   },
   "outputs": [],
   "source": [
    "predictions = model_lgb.predict(features_test)\n",
    "mae_lgb = mean_absolute_error(target_test, predictions)"
   ]
  },
  {
   "cell_type": "code",
   "execution_count": 129,
   "metadata": {
    "colab": {
     "base_uri": "https://localhost:8080/"
    },
    "id": "_bxBCxa_UJAe",
    "outputId": "c16578f5-c84e-4222-86cb-7308aa04c996"
   },
   "outputs": [
    {
     "data": {
      "text/plain": [
       "6.935994290570988"
      ]
     },
     "execution_count": 129,
     "metadata": {
      "tags": []
     },
     "output_type": "execute_result"
    }
   ],
   "source": [
    "mae_lgb"
   ]
  },
  {
   "cell_type": "markdown",
   "metadata": {
    "id": "jzxK8ZW-phn1"
   },
   "source": [
    "Обучим модель с наиболее важными признаками. "
   ]
  },
  {
   "cell_type": "code",
   "execution_count": 130,
   "metadata": {
    "id": "c3-r-LwXpnun"
   },
   "outputs": [],
   "source": [
    "features_train_main = features_train.drop(['Bulk 8', 'Bulk 9', 'Bulk 7', 'Bulk 13', \\\n",
    "                                           'Wire 7', 'Wire 8', 'Wire 9'], axis=1)\n",
    "\n",
    "features_test_main = features_test.drop(['Bulk 8', 'Bulk 9', 'Bulk 7', 'Bulk 13', \\\n",
    "                                           'Wire 7', 'Wire 8', 'Wire 9'], axis=1)"
   ]
  },
  {
   "cell_type": "code",
   "execution_count": 131,
   "metadata": {
    "colab": {
     "base_uri": "https://localhost:8080/"
    },
    "id": "AjkdOg4GstjB",
    "outputId": "5055ec5f-cc23-47f9-fcfd-ab097d8c0a78"
   },
   "outputs": [
    {
     "name": "stdout",
     "output_type": "stream",
     "text": [
      "[10]\tvalid_0's l1: 6.47606\n",
      "[20]\tvalid_0's l1: 6.62497\n",
      "[30]\tvalid_0's l1: 6.75874\n",
      "[40]\tvalid_0's l1: 6.82311\n",
      "[50]\tvalid_0's l1: 6.85433\n",
      "[60]\tvalid_0's l1: 6.88663\n",
      "[70]\tvalid_0's l1: 6.90368\n",
      "[80]\tvalid_0's l1: 6.92108\n",
      "[90]\tvalid_0's l1: 6.93321\n",
      "[100]\tvalid_0's l1: 6.93599\n",
      "CPU times: user 422 ms, sys: 21.9 ms, total: 444 ms\n",
      "Wall time: 228 ms\n"
     ]
    }
   ],
   "source": [
    "%%time\n",
    "params = {\n",
    "    'boosting_type': 'gbdt',\n",
    "    'objective': 'regression',\n",
    "    'metric': 'mae',\n",
    "    'max_depth': 30, \n",
    "    'learning_rate': 0.5,\n",
    "    'num_leaves': 40,\n",
    "    'verbose': 0 \n",
    "    }\n",
    "\n",
    "n_estimators = 100\n",
    "\n",
    "d_train = lgb.Dataset(features_train_main, label=target_train)\n",
    "d_test = lgb.Dataset(features_test_main, label=target_test)\n",
    "watchlist = [d_test]\n",
    "\n",
    "model_lgb = lgb.train(params, d_train, n_estimators, watchlist, verbose_eval=10)"
   ]
  },
  {
   "cell_type": "code",
   "execution_count": 132,
   "metadata": {
    "id": "5NTxbK-Es4gm"
   },
   "outputs": [],
   "source": [
    "predictions = model_lgb.predict(features_test_main)\n",
    "mae_lgb = mean_absolute_error(target_test, predictions)"
   ]
  },
  {
   "cell_type": "code",
   "execution_count": 133,
   "metadata": {
    "colab": {
     "base_uri": "https://localhost:8080/"
    },
    "id": "bXkugVhYs83V",
    "outputId": "1420c833-55d8-4a43-ebf7-3a55d3f7628b"
   },
   "outputs": [
    {
     "data": {
      "text/plain": [
       "6.935994290570988"
      ]
     },
     "execution_count": 133,
     "metadata": {
      "tags": []
     },
     "output_type": "execute_result"
    }
   ],
   "source": [
    "mae_lgb"
   ]
  },
  {
   "cell_type": "markdown",
   "metadata": {
    "id": "-ON_PDmjUJAe"
   },
   "source": [
    "### CatBoost"
   ]
  },
  {
   "cell_type": "code",
   "execution_count": 134,
   "metadata": {
    "colab": {
     "base_uri": "https://localhost:8080/"
    },
    "id": "ONXVjM5vUJAe",
    "outputId": "492e55fd-2e30-423d-97fc-407195f6524f"
   },
   "outputs": [
    {
     "name": "stdout",
     "output_type": "stream",
     "text": [
      "\n",
      "bestTest = 8.444343871\n",
      "bestIteration = 16\n",
      "\n",
      "0:\tloss: 8.4443439\tbest: 8.4443439 (0)\ttotal: 266ms\tremaining: 6.91s\n",
      "\n",
      "bestTest = 966.2204462\n",
      "bestIteration = 49\n",
      "\n",
      "1:\tloss: 966.2204462\tbest: 8.4443439 (0)\ttotal: 445ms\tremaining: 5.57s\n",
      "\n",
      "bestTest = 1515.462003\n",
      "bestIteration = 49\n",
      "\n",
      "2:\tloss: 1515.4620027\tbest: 8.4443439 (0)\ttotal: 620ms\tremaining: 4.96s\n",
      "\n",
      "bestTest = 8.444343871\n",
      "bestIteration = 16\n",
      "\n",
      "3:\tloss: 8.4443439\tbest: 8.4443439 (0)\ttotal: 999ms\tremaining: 5.75s\n",
      "\n",
      "bestTest = 587.4487397\n",
      "bestIteration = 99\n",
      "\n",
      "4:\tloss: 587.4487397\tbest: 8.4443439 (0)\ttotal: 1.37s\tremaining: 6.02s\n",
      "\n",
      "bestTest = 1441.884264\n",
      "bestIteration = 99\n",
      "\n",
      "5:\tloss: 1441.8842643\tbest: 8.4443439 (0)\ttotal: 1.74s\tremaining: 6.11s\n",
      "\n",
      "bestTest = 8.444343871\n",
      "bestIteration = 16\n",
      "\n",
      "6:\tloss: 8.4443439\tbest: 8.4443439 (0)\ttotal: 2.46s\tremaining: 7.04s\n",
      "\n",
      "bestTest = 218.9302904\n",
      "bestIteration = 199\n",
      "\n",
      "7:\tloss: 218.9302904\tbest: 8.4443439 (0)\ttotal: 3.14s\tremaining: 7.46s\n",
      "\n",
      "bestTest = 1305.062027\n",
      "bestIteration = 199\n",
      "\n",
      "8:\tloss: 1305.0620267\tbest: 8.4443439 (0)\ttotal: 3.81s\tremaining: 7.62s\n",
      "\n",
      "bestTest = 19.49440314\n",
      "bestIteration = 12\n",
      "\n",
      "9:\tloss: 19.4944031\tbest: 8.4443439 (0)\ttotal: 4.72s\tremaining: 8.02s\n",
      "\n",
      "bestTest = 969.7378654\n",
      "bestIteration = 49\n",
      "\n",
      "10:\tloss: 969.7378654\tbest: 8.4443439 (0)\ttotal: 5.52s\tremaining: 8.03s\n",
      "\n",
      "bestTest = 1515.908886\n",
      "bestIteration = 49\n",
      "\n",
      "11:\tloss: 1515.9088863\tbest: 8.4443439 (0)\ttotal: 6.32s\tremaining: 7.9s\n",
      "\n",
      "bestTest = 19.49440314\n",
      "bestIteration = 12\n",
      "\n",
      "12:\tloss: 19.4944031\tbest: 8.4443439 (0)\ttotal: 8.08s\tremaining: 8.71s\n",
      "\n",
      "bestTest = 593.19073\n",
      "bestIteration = 99\n",
      "\n",
      "13:\tloss: 593.1907300\tbest: 8.4443439 (0)\ttotal: 9.67s\tremaining: 8.98s\n",
      "\n",
      "bestTest = 1442.788119\n",
      "bestIteration = 99\n",
      "\n",
      "14:\tloss: 1442.7881193\tbest: 8.4443439 (0)\ttotal: 11.3s\tremaining: 9.04s\n",
      "\n",
      "bestTest = 19.49440314\n",
      "bestIteration = 12\n",
      "\n",
      "15:\tloss: 19.4944031\tbest: 8.4443439 (0)\ttotal: 14.9s\tremaining: 10.2s\n",
      "\n",
      "bestTest = 227.3267682\n",
      "bestIteration = 199\n",
      "\n",
      "16:\tloss: 227.3267682\tbest: 8.4443439 (0)\ttotal: 18.1s\tremaining: 10.6s\n",
      "\n",
      "bestTest = 1306.982587\n",
      "bestIteration = 199\n",
      "\n",
      "17:\tloss: 1306.9825870\tbest: 8.4443439 (0)\ttotal: 21.3s\tremaining: 10.7s\n",
      "\n",
      "bestTest = 36.16658011\n",
      "bestIteration = 18\n",
      "\n",
      "18:\tloss: 36.1665801\tbest: 8.4443439 (0)\ttotal: 27.8s\tremaining: 11.7s\n",
      "\n",
      "bestTest = 974.8388149\n",
      "bestIteration = 49\n",
      "\n",
      "19:\tloss: 974.8388149\tbest: 8.4443439 (0)\ttotal: 32.3s\tremaining: 11.3s\n",
      "\n",
      "bestTest = 1516.539538\n",
      "bestIteration = 49\n",
      "\n",
      "20:\tloss: 1516.5395379\tbest: 8.4443439 (0)\ttotal: 37.9s\tremaining: 10.8s\n",
      "\n",
      "bestTest = 36.16658011\n",
      "bestIteration = 18\n",
      "\n",
      "21:\tloss: 36.1665801\tbest: 8.4443439 (0)\ttotal: 50.7s\tremaining: 11.5s\n",
      "\n",
      "bestTest = 601.0846318\n",
      "bestIteration = 99\n",
      "\n",
      "22:\tloss: 601.0846318\tbest: 8.4443439 (0)\ttotal: 59.9s\tremaining: 10.4s\n",
      "\n",
      "bestTest = 1443.947445\n",
      "bestIteration = 99\n",
      "\n",
      "23:\tloss: 1443.9474451\tbest: 8.4443439 (0)\ttotal: 1m 9s\tremaining: 8.64s\n",
      "\n",
      "bestTest = 36.16658011\n",
      "bestIteration = 18\n",
      "\n",
      "24:\tloss: 36.1665801\tbest: 8.4443439 (0)\ttotal: 1m 35s\tremaining: 7.62s\n",
      "\n",
      "bestTest = 237.5232394\n",
      "bestIteration = 199\n",
      "\n",
      "25:\tloss: 237.5232394\tbest: 8.4443439 (0)\ttotal: 1m 53s\tremaining: 4.36s\n",
      "\n",
      "bestTest = 1308.968251\n",
      "bestIteration = 199\n",
      "\n",
      "26:\tloss: 1308.9682506\tbest: 8.4443439 (0)\ttotal: 2m 11s\tremaining: 0us\n",
      "Estimating final quality...\n",
      "CPU times: user 4min 12s, sys: 4.95 s, total: 4min 17s\n",
      "Wall time: 2min 15s\n"
     ]
    }
   ],
   "source": [
    "%%time\n",
    "cv_dataset = Pool(data=features_train,\n",
    "                  label=target_train\n",
    "                  )\n",
    "\n",
    " \n",
    "model_catboost = CatBoostRegressor(loss_function='MAE')\n",
    " \n",
    "grid = {'learning_rate': [0.5, 0.01, 0.001],\n",
    "        'depth': [6, 9, 12],\n",
    "        'iterations': [50, 100, 200]}\n",
    "\n",
    "\n",
    " \n",
    "grid_search_result = model_catboost.grid_search(\n",
    "                                       grid, \n",
    "                                       X=cv_dataset,\n",
    "                                       cv=3,\n",
    "                                       plot=False)"
   ]
  },
  {
   "cell_type": "code",
   "execution_count": 135,
   "metadata": {
    "colab": {
     "base_uri": "https://localhost:8080/"
    },
    "id": "uPsgcBcvUJAe",
    "outputId": "bae9f5b9-8d29-4072-d861-6f3c0fc2fd7f"
   },
   "outputs": [
    {
     "name": "stdout",
     "output_type": "stream",
     "text": [
      "6.433075377099301\n"
     ]
    }
   ],
   "source": [
    "predictions = model_catboost.predict(features_test)\n",
    "\n",
    "mae_cat = mean_absolute_error(target_test, predictions)\n",
    "\n",
    "print(mae_cat)"
   ]
  },
  {
   "cell_type": "code",
   "execution_count": 136,
   "metadata": {
    "id": "gLDgytYgxvzs"
   },
   "outputs": [],
   "source": [
    "feature_im = model_catboost.feature_importances_"
   ]
  },
  {
   "cell_type": "code",
   "execution_count": 137,
   "metadata": {
    "colab": {
     "base_uri": "https://localhost:8080/"
    },
    "id": "f53ZtygEx2ED",
    "outputId": "e964c287-e01c-4420-8262-5b9156cf41b0"
   },
   "outputs": [
    {
     "data": {
      "text/plain": [
       "array([1.84569884e+01, 5.84517824e+00, 6.46541396e+00, 0.00000000e+00,\n",
       "       4.18171087e-03, 1.28300681e+00, 0.00000000e+00, 0.00000000e+00,\n",
       "       6.96214876e-03, 1.94712065e+01, 5.38951236e+00, 4.70081663e-04,\n",
       "       3.31674013e+00, 2.89156170e+00, 1.35251984e-01, 6.56332882e+00,\n",
       "       1.09130037e+00, 0.00000000e+00, 0.00000000e+00, 5.61639735e-01,\n",
       "       1.01605867e+00, 8.79183536e+00, 7.98482638e-02, 4.81995531e+00,\n",
       "       7.02594234e+00, 6.78361705e+00])"
      ]
     },
     "execution_count": 137,
     "metadata": {
      "tags": []
     },
     "output_type": "execute_result"
    }
   ],
   "source": [
    "feature_im"
   ]
  },
  {
   "cell_type": "code",
   "execution_count": 138,
   "metadata": {
    "colab": {
     "base_uri": "https://localhost:8080/",
     "height": 762
    },
    "id": "NHTgct62yVCG",
    "outputId": "4909d4c0-2af4-42bf-c5db-fa6ffc90b79f"
   },
   "outputs": [
    {
     "data": {
      "image/png": "[encoded data removed]",
      "text/plain": [
       "<Figure size 2880x1440 with 1 Axes>"
      ]
     },
     "metadata": {
      "needs_background": "light",
      "tags": []
     },
     "output_type": "display_data"
    }
   ],
   "source": [
    "feature_imp = pd.DataFrame({'Value':model_catboost.feature_importances_,'Feature': features_train.columns})\n",
    "plt.figure(figsize=(40, 20))\n",
    "#sns.set(font_scale = 5)\n",
    "sns.barplot(x=\"Value\", y=\"Feature\", data=feature_imp.sort_values(by=\"Value\", \n",
    "                                                        ascending=True)[0:26])\n",
    "plt.title('CatBoost Features')\n",
    "#plt.tight_layout()\n",
    "plt.show()"
   ]
  },
  {
   "cell_type": "code",
   "execution_count": 139,
   "metadata": {
    "id": "7zsXhyYd0atn"
   },
   "outputs": [],
   "source": [
    "features_train_main = features_train.drop(['Bulk 8', 'Bulk 9', 'Bulk 7', 'Bulk 13', 'Bulk 2', 'Bulk 5', 'Bulk 10', 'Bulk 11', 'Bulk 7', \\\n",
    "                                           'Wire 7', 'Wire 8', 'Wire 9', 'Wire 3', 'Wire 4', 'Wire 6'], axis=1)\n",
    "\n",
    "features_test_main = features_test.drop(['Bulk 8', 'Bulk 9', 'Bulk 7', 'Bulk 13', 'Bulk 2', 'Bulk 5', 'Bulk 10', 'Bulk 11', 'Bulk 7', \\\n",
    "                                           'Wire 7', 'Wire 8', 'Wire 9', 'Wire 3', 'Wire 4', 'Wire 6'], axis=1)"
   ]
  },
  {
   "cell_type": "code",
   "execution_count": 140,
   "metadata": {
    "colab": {
     "base_uri": "https://localhost:8080/"
    },
    "id": "bDOw9sTY0vF0",
    "outputId": "f890c077-1314-41c7-d225-0e071685ab55"
   },
   "outputs": [
    {
     "name": "stdout",
     "output_type": "stream",
     "text": [
      "\n",
      "bestTest = 7.305403642\n",
      "bestIteration = 17\n",
      "\n",
      "0:\tloss: 7.3054036\tbest: 7.3054036 (0)\ttotal: 173ms\tremaining: 4.5s\n",
      "\n",
      "bestTest = 965.8430833\n",
      "bestIteration = 49\n",
      "\n",
      "1:\tloss: 965.8430833\tbest: 7.3054036 (0)\ttotal: 334ms\tremaining: 4.18s\n",
      "\n",
      "bestTest = 1515.423774\n",
      "bestIteration = 49\n",
      "\n",
      "2:\tloss: 1515.4237742\tbest: 7.3054036 (0)\ttotal: 506ms\tremaining: 4.05s\n",
      "\n",
      "bestTest = 7.305403642\n",
      "bestIteration = 17\n",
      "\n",
      "3:\tloss: 7.3054036\tbest: 7.3054036 (0)\ttotal: 838ms\tremaining: 4.82s\n",
      "\n",
      "bestTest = 586.3452361\n",
      "bestIteration = 99\n",
      "\n",
      "4:\tloss: 586.3452361\tbest: 7.3054036 (0)\ttotal: 1.15s\tremaining: 5.08s\n",
      "\n",
      "bestTest = 1441.706498\n",
      "bestIteration = 99\n",
      "\n",
      "5:\tloss: 1441.7064982\tbest: 7.3054036 (0)\ttotal: 1.49s\tremaining: 5.22s\n",
      "\n",
      "bestTest = 7.305403642\n",
      "bestIteration = 17\n",
      "\n",
      "6:\tloss: 7.3054036\tbest: 7.3054036 (0)\ttotal: 2.16s\tremaining: 6.18s\n",
      "\n",
      "bestTest = 218.2779915\n",
      "bestIteration = 199\n",
      "\n",
      "7:\tloss: 218.2779915\tbest: 7.3054036 (0)\ttotal: 2.81s\tremaining: 6.67s\n",
      "\n",
      "bestTest = 1305.040018\n",
      "bestIteration = 199\n",
      "\n",
      "8:\tloss: 1305.0400176\tbest: 7.3054036 (0)\ttotal: 3.46s\tremaining: 6.91s\n",
      "\n",
      "bestTest = 46.50744141\n",
      "bestIteration = 15\n",
      "\n",
      "9:\tloss: 46.5074414\tbest: 7.3054036 (0)\ttotal: 4.24s\tremaining: 7.21s\n",
      "\n",
      "bestTest = 972.764523\n",
      "bestIteration = 49\n",
      "\n",
      "10:\tloss: 972.7645230\tbest: 7.3054036 (0)\ttotal: 5.02s\tremaining: 7.3s\n",
      "\n",
      "bestTest = 1516.279451\n",
      "bestIteration = 49\n",
      "\n",
      "11:\tloss: 1516.2794508\tbest: 7.3054036 (0)\ttotal: 5.79s\tremaining: 7.24s\n",
      "\n",
      "bestTest = 46.50744141\n",
      "bestIteration = 15\n",
      "\n",
      "12:\tloss: 46.5074414\tbest: 7.3054036 (0)\ttotal: 7.34s\tremaining: 7.91s\n",
      "\n",
      "bestTest = 596.8181876\n",
      "bestIteration = 99\n",
      "\n",
      "13:\tloss: 596.8181876\tbest: 7.3054036 (0)\ttotal: 9.01s\tremaining: 8.36s\n",
      "\n",
      "bestTest = 1443.25282\n",
      "bestIteration = 99\n",
      "\n",
      "14:\tloss: 1443.2528202\tbest: 7.3054036 (0)\ttotal: 10.9s\tremaining: 8.68s\n",
      "\n",
      "bestTest = 46.50744141\n",
      "bestIteration = 15\n",
      "\n",
      "15:\tloss: 46.5074414\tbest: 7.3054036 (0)\ttotal: 14.1s\tremaining: 9.67s\n",
      "\n",
      "bestTest = 231.567008\n",
      "bestIteration = 199\n",
      "\n",
      "16:\tloss: 231.5670080\tbest: 7.3054036 (0)\ttotal: 17.1s\tremaining: 10s\n",
      "\n",
      "bestTest = 1307.631843\n",
      "bestIteration = 199\n",
      "\n",
      "17:\tloss: 1307.6318434\tbest: 7.3054036 (0)\ttotal: 20.1s\tremaining: 10s\n",
      "\n",
      "bestTest = 74.45716178\n",
      "bestIteration = 14\n",
      "\n",
      "18:\tloss: 74.4571618\tbest: 7.3054036 (0)\ttotal: 26.1s\tremaining: 11s\n",
      "\n",
      "bestTest = 984.4811637\n",
      "bestIteration = 49\n",
      "\n",
      "19:\tloss: 984.4811637\tbest: 7.3054036 (0)\ttotal: 31.7s\tremaining: 11.1s\n",
      "\n",
      "bestTest = 1517.691857\n",
      "bestIteration = 49\n",
      "\n",
      "20:\tloss: 1517.6918572\tbest: 7.3054036 (0)\ttotal: 37s\tremaining: 10.6s\n",
      "\n",
      "bestTest = 74.45716178\n",
      "bestIteration = 14\n",
      "\n",
      "21:\tloss: 74.4571618\tbest: 7.3054036 (0)\ttotal: 50s\tremaining: 11.4s\n",
      "\n",
      "bestTest = 614.946425\n",
      "bestIteration = 99\n",
      "\n",
      "22:\tloss: 614.9464250\tbest: 7.3054036 (0)\ttotal: 1m\tremaining: 10.6s\n",
      "\n",
      "bestTest = 1445.917057\n",
      "bestIteration = 99\n",
      "\n",
      "23:\tloss: 1445.9170570\tbest: 7.3054036 (0)\ttotal: 1m 11s\tremaining: 8.89s\n",
      "\n",
      "bestTest = 74.45716178\n",
      "bestIteration = 14\n",
      "\n",
      "24:\tloss: 74.4571618\tbest: 7.3054036 (0)\ttotal: 1m 36s\tremaining: 7.71s\n",
      "\n",
      "bestTest = 257.1636319\n",
      "bestIteration = 199\n",
      "\n",
      "25:\tloss: 257.1636319\tbest: 7.3054036 (0)\ttotal: 1m 59s\tremaining: 4.6s\n",
      "\n",
      "bestTest = 1313.096699\n",
      "bestIteration = 199\n",
      "\n",
      "26:\tloss: 1313.0966993\tbest: 7.3054036 (0)\ttotal: 2m 22s\tremaining: 0us\n",
      "Estimating final quality...\n",
      "CPU times: user 4min 23s, sys: 4.2 s, total: 4min 28s\n",
      "Wall time: 2min 27s\n"
     ]
    }
   ],
   "source": [
    "%%time\n",
    "cv_dataset = Pool(data=features_train_main,\n",
    "                  label=target_train\n",
    "                  )\n",
    "\n",
    " \n",
    "model_catboost = CatBoostRegressor(loss_function='MAE')\n",
    " \n",
    "grid = {'learning_rate': [0.5, 0.01, 0.001],\n",
    "        'depth': [6, 9, 12],\n",
    "        'iterations': [50, 100, 200]}\n",
    "\n",
    "\n",
    " \n",
    "grid_search_result = model_catboost.grid_search(\n",
    "                                       grid, \n",
    "                                       X=cv_dataset,\n",
    "                                       cv=3,\n",
    "                                       plot=False)"
   ]
  },
  {
   "cell_type": "code",
   "execution_count": 141,
   "metadata": {
    "colab": {
     "base_uri": "https://localhost:8080/"
    },
    "id": "e6Otmp_P1aAz",
    "outputId": "fcf1c485-8573-4caf-b47c-b8ed6d899588"
   },
   "outputs": [
    {
     "name": "stdout",
     "output_type": "stream",
     "text": [
      "6.441501113794508\n"
     ]
    }
   ],
   "source": [
    "predictions = model_catboost.predict(features_test_main)\n",
    "\n",
    "mae_cat = mean_absolute_error(target_test, predictions)\n",
    "\n",
    "print(mae_cat)"
   ]
  },
  {
   "cell_type": "markdown",
   "metadata": {
    "id": "-uD1EVC1UJAp"
   },
   "source": [
    "### Neural Network"
   ]
  },
  {
   "cell_type": "code",
   "execution_count": 142,
   "metadata": {
    "id": "PcC7RADUhff3"
   },
   "outputs": [],
   "source": [
    "model_nn = Sequential()"
   ]
  },
  {
   "cell_type": "code",
   "execution_count": 143,
   "metadata": {
    "colab": {
     "base_uri": "https://localhost:8080/"
    },
    "id": "xkCjWlB1hbkm",
    "outputId": "00abb36e-9bf7-487f-d7a7-799b3084c43f"
   },
   "outputs": [
    {
     "name": "stdout",
     "output_type": "stream",
     "text": [
      "Epoch 1/20\n",
      "321/321 [==============================] - 0s 867us/step - loss: 2061.6716\n",
      "Epoch 2/20\n",
      "321/321 [==============================] - 0s 924us/step - loss: 84.3725\n",
      "Epoch 3/20\n",
      "321/321 [==============================] - 0s 966us/step - loss: 14.5524\n",
      "Epoch 4/20\n",
      "321/321 [==============================] - 0s 891us/step - loss: 14.5599\n",
      "Epoch 5/20\n",
      "321/321 [==============================] - 0s 903us/step - loss: 14.2225\n",
      "Epoch 6/20\n",
      "321/321 [==============================] - 0s 879us/step - loss: 14.5552\n",
      "Epoch 7/20\n",
      "321/321 [==============================] - 0s 908us/step - loss: 14.5200\n",
      "Epoch 8/20\n",
      "321/321 [==============================] - 0s 873us/step - loss: 15.1467\n",
      "Epoch 9/20\n",
      "321/321 [==============================] - 0s 905us/step - loss: 14.7704\n",
      "Epoch 10/20\n",
      "321/321 [==============================] - 0s 846us/step - loss: 14.7682\n",
      "Epoch 11/20\n",
      "321/321 [==============================] - 0s 789us/step - loss: 14.3194\n",
      "Epoch 12/20\n",
      "321/321 [==============================] - 0s 836us/step - loss: 14.4234\n",
      "Epoch 13/20\n",
      "321/321 [==============================] - 0s 819us/step - loss: 14.1028\n",
      "Epoch 14/20\n",
      "321/321 [==============================] - 0s 815us/step - loss: 14.5043\n",
      "Epoch 15/20\n",
      "321/321 [==============================] - 0s 858us/step - loss: 14.6510\n",
      "Epoch 16/20\n",
      "321/321 [==============================] - 0s 995us/step - loss: 14.8149\n",
      "Epoch 17/20\n",
      "321/321 [==============================] - 0s 878us/step - loss: 14.8419\n",
      "Epoch 18/20\n",
      "321/321 [==============================] - 0s 806us/step - loss: 14.5627\n",
      "Epoch 19/20\n",
      "321/321 [==============================] - 0s 832us/step - loss: 14.7404\n",
      "Epoch 20/20\n",
      "321/321 [==============================] - 0s 874us/step - loss: 14.6608\n"
     ]
    },
    {
     "data": {
      "text/plain": [
       "<tensorflow.python.keras.callbacks.History at 0x7f29afba6cc0>"
      ]
     },
     "execution_count": 143,
     "metadata": {
      "tags": []
     },
     "output_type": "execute_result"
    }
   ],
   "source": [
    "model_nn.add(Dense(26, input_dim=features_train.shape[1], activation='relu'))\n",
    "model_nn.add(Dense(26, activation='relu'))\n",
    "model_nn.add(Dense(1, activation='linear'))\n",
    "model_nn.compile(loss='mae', optimizer='sgd')\n",
    "model_nn.fit(features_train, target_train, epochs=20, batch_size=5, verbose=1)"
   ]
  },
  {
   "cell_type": "code",
   "execution_count": 144,
   "metadata": {
    "id": "m88y7zc_ZDwS"
   },
   "outputs": [],
   "source": [
    "predictions = model_nn.predict(features_test)"
   ]
  },
  {
   "cell_type": "code",
   "execution_count": 145,
   "metadata": {
    "id": "soqoTkDCboIx"
   },
   "outputs": [],
   "source": [
    "mae_nn = mean_absolute_error(target_test, predictions)"
   ]
  },
  {
   "cell_type": "code",
   "execution_count": 146,
   "metadata": {
    "colab": {
     "base_uri": "https://localhost:8080/"
    },
    "id": "DKPY9xvYbzSD",
    "outputId": "af3b3431-4d3a-4f45-cbde-38abe72203a7"
   },
   "outputs": [
    {
     "data": {
      "text/plain": [
       "8.506642896075581"
      ]
     },
     "execution_count": 146,
     "metadata": {
      "tags": []
     },
     "output_type": "execute_result"
    }
   ],
   "source": [
    "mae_nn"
   ]
  },
  {
   "cell_type": "markdown",
   "metadata": {
    "id": "KKvsjrqAmYvn"
   },
   "source": [
    "## Сравнительная таблица полученных значений MAE"
   ]
  },
  {
   "cell_type": "code",
   "execution_count": 147,
   "metadata": {
    "id": "pBkSboTeoDUW"
   },
   "outputs": [],
   "source": [
    "data = [['Random Forest', mae_rf], \n",
    "        ['LightGBM', mae_lgb], \n",
    "        ['CatBoost', mae_cat], \n",
    "        ['Neural Network', mae_nn]] \n",
    "  \n",
    "\n",
    "mae_final = pd.DataFrame(data, columns = ['method', 'MAE']) "
   ]
  },
  {
   "cell_type": "code",
   "execution_count": 148,
   "metadata": {
    "colab": {
     "base_uri": "https://localhost:8080/",
     "height": 173
    },
    "id": "B48lasVmov2n",
    "outputId": "6d8cfef7-4b7a-49bd-d000-78949230cee9"
   },
   "outputs": [
    {
     "data": {
      "text/html": [
       "<div>\n",
       "<style scoped>\n",
       "    .dataframe tbody tr th:only-of-type {\n",
       "        vertical-align: middle;\n",
       "    }\n",
       "\n",
       "    .dataframe tbody tr th {\n",
       "        vertical-align: top;\n",
       "    }\n",
       "\n",
       "    .dataframe thead th {\n",
       "        text-align: right;\n",
       "    }\n",
       "</style>\n",
       "<table border=\"1\" class=\"dataframe\">\n",
       "  <thead>\n",
       "    <tr style=\"text-align: right;\">\n",
       "      <th></th>\n",
       "      <th>method</th>\n",
       "      <th>MAE</th>\n",
       "    </tr>\n",
       "  </thead>\n",
       "  <tbody>\n",
       "    <tr>\n",
       "      <th>0</th>\n",
       "      <td>Random Forest</td>\n",
       "      <td>6.372265</td>\n",
       "    </tr>\n",
       "    <tr>\n",
       "      <th>2</th>\n",
       "      <td>CatBoost</td>\n",
       "      <td>6.441501</td>\n",
       "    </tr>\n",
       "    <tr>\n",
       "      <th>1</th>\n",
       "      <td>LightGBM</td>\n",
       "      <td>6.935994</td>\n",
       "    </tr>\n",
       "    <tr>\n",
       "      <th>3</th>\n",
       "      <td>Neural Network</td>\n",
       "      <td>8.506643</td>\n",
       "    </tr>\n",
       "  </tbody>\n",
       "</table>\n",
       "</div>"
      ],
      "text/plain": [
       "           method       MAE\n",
       "0   Random Forest  6.372265\n",
       "2        CatBoost  6.441501\n",
       "1        LightGBM  6.935994\n",
       "3  Neural Network  8.506643"
      ]
     },
     "execution_count": 148,
     "metadata": {
      "tags": []
     },
     "output_type": "execute_result"
    }
   ],
   "source": [
    "mae_final.sort_values(by=['MAE'])"
   ]
  },
  {
   "cell_type": "markdown",
   "metadata": {},
   "source": [
    "Наименьшее значение ошибки MAE получено у модели Random Forest.  "
   ]
  }
 ],
 "metadata": {
  "colab": {
   "collapsed_sections": [],
   "name": "final_project_code_rewevied.ipynb",
   "provenance": [],
   "toc_visible": true
  },
  "kernelspec": {
   "display_name": "Python 3",
   "language": "python",
   "name": "python3"
  },
  "language_info": {
   "codemirror_mode": {
    "name": "ipython",
    "version": 3
   },
   "file_extension": ".py",
   "mimetype": "text/x-python",
   "name": "python",
   "nbconvert_exporter": "python",
   "pygments_lexer": "ipython3",
   "version": "3.7.3"
  }
 },
 "nbformat": 4,
 "nbformat_minor": 1
}
